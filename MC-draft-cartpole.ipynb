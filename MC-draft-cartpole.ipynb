{
  "nbformat": 4,
  "nbformat_minor": 0,
  "metadata": {
    "colab": {
      "provenance": [],
      "include_colab_link": true
    },
    "kernelspec": {
      "name": "python3",
      "display_name": "Python 3"
    },
    "language_info": {
      "name": "python"
    }
  },
  "cells": [
    {
      "cell_type": "markdown",
      "metadata": {
        "id": "view-in-github",
        "colab_type": "text"
      },
      "source": [
        "<a href=\"https://colab.research.google.com/github/ijethmal/SC3000/blob/main/MC-draft-cartpole.ipynb\" target=\"_parent\"><img src=\"https://colab.research.google.com/assets/colab-badge.svg\" alt=\"Open In Colab\"/></a>"
      ]
    },
    {
      "cell_type": "markdown",
      "source": [
        "# Balancing a Pole on a Cart"
      ],
      "metadata": {
        "id": "ZauhjPSfX7pI"
      }
    },
    {
      "cell_type": "markdown",
      "source": [
        "## Installing dependencies:"
      ],
      "metadata": {
        "id": "UBiYOoesYMvr"
      }
    },
    {
      "cell_type": "code",
      "execution_count": 8,
      "metadata": {
        "colab": {
          "base_uri": "https://localhost:8080/",
          "height": 759
        },
        "id": "PbgnVwZmX5uW",
        "outputId": "87e58e04-6b13-433a-e677-c333086b7611"
      },
      "outputs": [
        {
          "output_type": "stream",
          "name": "stdout",
          "text": [
            "Requirement already satisfied: gym[classic_control] in /usr/local/lib/python3.11/dist-packages (0.25.2)\n",
            "Requirement already satisfied: numpy>=1.18.0 in /usr/local/lib/python3.11/dist-packages (from gym[classic_control]) (2.2.4)\n",
            "Requirement already satisfied: cloudpickle>=1.2.0 in /usr/local/lib/python3.11/dist-packages (from gym[classic_control]) (3.1.1)\n",
            "Requirement already satisfied: gym_notices>=0.0.4 in /usr/local/lib/python3.11/dist-packages (from gym[classic_control]) (0.0.8)\n",
            "Collecting pygame==2.1.0 (from gym[classic_control])\n",
            "  Downloading pygame-2.1.0.tar.gz (5.8 MB)\n",
            "\u001b[2K     \u001b[90m━━━━━━━━━━━━━━━━━━━━━━━━━━━━━━━━━━━━━━━━\u001b[0m \u001b[32m5.8/5.8 MB\u001b[0m \u001b[31m45.3 MB/s\u001b[0m eta \u001b[36m0:00:00\u001b[0m\n",
            "\u001b[?25h  \u001b[1;31merror\u001b[0m: \u001b[1msubprocess-exited-with-error\u001b[0m\n",
            "  \n",
            "  \u001b[31m×\u001b[0m \u001b[32mpython setup.py egg_info\u001b[0m did not run successfully.\n",
            "  \u001b[31m│\u001b[0m exit code: \u001b[1;36m1\u001b[0m\n",
            "  \u001b[31m╰─>\u001b[0m See above for output.\n",
            "  \n",
            "  \u001b[1;35mnote\u001b[0m: This error originates from a subprocess, and is likely not a problem with pip.\n",
            "  Preparing metadata (setup.py) ... \u001b[?25l\u001b[?25herror\n",
            "\u001b[1;31merror\u001b[0m: \u001b[1mmetadata-generation-failed\u001b[0m\n",
            "\n",
            "\u001b[31m×\u001b[0m Encountered error while generating package metadata.\n",
            "\u001b[31m╰─>\u001b[0m See above for output.\n",
            "\n",
            "\u001b[1;35mnote\u001b[0m: This is an issue with the package mentioned above, not pip.\n",
            "\u001b[1;36mhint\u001b[0m: See above for details.\n",
            "Requirement already satisfied: setuptools in /usr/local/lib/python3.11/dist-packages (75.2.0)\n",
            "Collecting setuptools\n",
            "  Downloading setuptools-78.1.0-py3-none-any.whl.metadata (6.6 kB)\n",
            "Downloading setuptools-78.1.0-py3-none-any.whl (1.3 MB)\n",
            "\u001b[2K   \u001b[90m━━━━━━━━━━━━━━━━━━━━━━━━━━━━━━━━━━━━━━━━\u001b[0m \u001b[32m1.3/1.3 MB\u001b[0m \u001b[31m13.8 MB/s\u001b[0m eta \u001b[36m0:00:00\u001b[0m\n",
            "\u001b[?25hInstalling collected packages: setuptools\n",
            "  Attempting uninstall: setuptools\n",
            "    Found existing installation: setuptools 75.2.0\n",
            "    Uninstalling setuptools-75.2.0:\n",
            "      Successfully uninstalled setuptools-75.2.0\n",
            "\u001b[31mERROR: pip's dependency resolver does not currently take into account all the packages that are installed. This behaviour is the source of the following dependency conflicts.\n",
            "ipython 7.34.0 requires jedi>=0.16, which is not installed.\n",
            "tensorflow 2.18.0 requires numpy<2.1.0,>=1.26.0, but you have numpy 2.2.4 which is incompatible.\u001b[0m\u001b[31m\n",
            "\u001b[0mSuccessfully installed setuptools-78.1.0\n"
          ]
        },
        {
          "output_type": "display_data",
          "data": {
            "application/vnd.colab-display-data+json": {
              "pip_warning": {
                "packages": [
                  "_distutils_hack",
                  "setuptools"
                ]
              },
              "id": "29598ce04ba74a53a129e4f5f79e6d09"
            }
          },
          "metadata": {}
        }
      ],
      "source": [
        "!apt-get install -y xvfb python-opengl > /dev/null 2>&1\n",
        "!pip install gym pyvirtualdisplay > /dev/null 2>&1\n",
        "!pip install gym pyvirtualdisplay > /dev/null 2>&1\n",
        "!apt-get install -y xvfb python-opengl ffmpeg > /dev/null 2>&1\n",
        "!pip install gym[classic_control]\n",
        "!apt-get update > /dev/null 2>&1\n",
        "!apt-get install cmake > /dev/null 2>&1\n",
        "!pip install --upgrade setuptools 2>&1\n",
        "!pip install ez_setup > /dev/null 2>&1"
      ]
    },
    {
      "cell_type": "code",
      "source": [
        "!pip uninstall numpy -y\n",
        "!pip install numpy==1.26.0"
      ],
      "metadata": {
        "colab": {
          "base_uri": "https://localhost:8080/"
        },
        "id": "_Fzog4Zq-qEu",
        "outputId": "29b0c918-9432-4258-f26e-d4f357f339ef"
      },
      "execution_count": 12,
      "outputs": [
        {
          "output_type": "stream",
          "name": "stdout",
          "text": [
            "Found existing installation: numpy 2.2.4\n",
            "Uninstalling numpy-2.2.4:\n",
            "  Successfully uninstalled numpy-2.2.4\n",
            "Collecting numpy==1.26.0\n",
            "  Downloading numpy-1.26.0-cp311-cp311-manylinux_2_17_x86_64.manylinux2014_x86_64.whl.metadata (58 kB)\n",
            "\u001b[2K     \u001b[90m━━━━━━━━━━━━━━━━━━━━━━━━━━━━━━━━━━━━━━━━\u001b[0m \u001b[32m58.5/58.5 kB\u001b[0m \u001b[31m2.3 MB/s\u001b[0m eta \u001b[36m0:00:00\u001b[0m\n",
            "\u001b[?25hDownloading numpy-1.26.0-cp311-cp311-manylinux_2_17_x86_64.manylinux2014_x86_64.whl (18.2 MB)\n",
            "\u001b[2K   \u001b[90m━━━━━━━━━━━━━━━━━━━━━━━━━━━━━━━━━━━━━━━━\u001b[0m \u001b[32m18.2/18.2 MB\u001b[0m \u001b[31m91.1 MB/s\u001b[0m eta \u001b[36m0:00:00\u001b[0m\n",
            "\u001b[?25hInstalling collected packages: numpy\n",
            "Successfully installed numpy-1.26.0\n"
          ]
        }
      ]
    },
    {
      "cell_type": "code",
      "source": [
        "!pip uninstall jaxlib jax -y\n",
        "!pip install jax jaxlib --upgrade"
      ],
      "metadata": {
        "colab": {
          "base_uri": "https://localhost:8080/",
          "height": 427
        },
        "id": "8Wdup8Uy_I-N",
        "outputId": "d7c84625-88a4-468f-8dfb-9ea699cdcb9d"
      },
      "execution_count": 13,
      "outputs": [
        {
          "output_type": "stream",
          "name": "stdout",
          "text": [
            "Found existing installation: jaxlib 0.5.3\n",
            "Uninstalling jaxlib-0.5.3:\n",
            "  Successfully uninstalled jaxlib-0.5.3\n",
            "Found existing installation: jax 0.5.3\n",
            "Uninstalling jax-0.5.3:\n",
            "  Successfully uninstalled jax-0.5.3\n",
            "Collecting jax\n",
            "  Using cached jax-0.5.3-py3-none-any.whl.metadata (22 kB)\n",
            "Collecting jaxlib\n",
            "  Using cached jaxlib-0.5.3-cp311-cp311-manylinux2014_x86_64.whl.metadata (1.2 kB)\n",
            "Requirement already satisfied: ml_dtypes>=0.4.0 in /usr/local/lib/python3.11/dist-packages (from jax) (0.4.1)\n",
            "Requirement already satisfied: numpy>=1.25 in /usr/local/lib/python3.11/dist-packages (from jax) (1.26.0)\n",
            "Requirement already satisfied: opt_einsum in /usr/local/lib/python3.11/dist-packages (from jax) (3.4.0)\n",
            "Requirement already satisfied: scipy>=1.11.1 in /usr/local/lib/python3.11/dist-packages (from jax) (1.14.1)\n",
            "Using cached jax-0.5.3-py3-none-any.whl (2.4 MB)\n",
            "Using cached jaxlib-0.5.3-cp311-cp311-manylinux2014_x86_64.whl (105.1 MB)\n",
            "Installing collected packages: jaxlib, jax\n",
            "Successfully installed jax-0.5.3 jaxlib-0.5.3\n"
          ]
        },
        {
          "output_type": "display_data",
          "data": {
            "application/vnd.colab-display-data+json": {
              "pip_warning": {
                "packages": [
                  "jax",
                  "jaxlib"
                ]
              },
              "id": "e3d84e0c84fe4211be694bb3bac18af1"
            }
          },
          "metadata": {}
        }
      ]
    },
    {
      "cell_type": "markdown",
      "source": [
        "## Importing dependencies and define helper functions"
      ],
      "metadata": {
        "id": "RwKbYeTgbaTA"
      }
    },
    {
      "cell_type": "code",
      "source": [
        "import gym\n",
        "from gym import logger as gymlogger\n",
        "from gym.wrappers import RecordVideo\n",
        "gymlogger.set_level(40) #error only\n",
        "import tensorflow as tf\n",
        "import numpy as np\n",
        "import random\n",
        "import matplotlib\n",
        "import matplotlib.pyplot as plt\n",
        "%matplotlib inline\n",
        "import math\n",
        "import glob\n",
        "import io\n",
        "import base64\n",
        "from IPython.display import HTML\n",
        "from IPython import display as ipythondisplay\n",
        "from abc import ABC, abstractmethod\n",
        "from typing import NamedTuple\n",
        "import pickle\n",
        "from collections import defaultdict\n",
        "\n",
        "def show_video():\n",
        "  mp4list = glob.glob('video/*.mp4')\n",
        "  if len(mp4list) > 0:\n",
        "    mp4 = mp4list[0]\n",
        "    video = io.open(mp4, 'r+b').read()\n",
        "    encoded = base64.b64encode(video)\n",
        "    ipythondisplay.display(HTML(data='''<video alt=\"test\" autoplay\n",
        "                loop controls style=\"height: 400px;\">\n",
        "                <source src=\"data:video/mp4;base64,{0}\" type=\"video/mp4\" />\n",
        "             </video>'''.format(encoded.decode('ascii'))))\n",
        "  else:\n",
        "    print(\"Could not find video\")"
      ],
      "metadata": {
        "id": "j6KpgCLGYWmj",
        "colab": {
          "base_uri": "https://localhost:8080/"
        },
        "outputId": "6962ebdb-d360-4d44-d4da-e6ac53257072"
      },
      "execution_count": 3,
      "outputs": [
        {
          "output_type": "stream",
          "name": "stderr",
          "text": [
            "/usr/local/lib/python3.11/dist-packages/jaxlib/plugin_support.py:71: RuntimeWarning: JAX plugin jax_cuda12_plugin version 0.5.1 is installed, but it is not compatible with the installed jaxlib version 0.5.3, so it will not be used.\n",
            "  warnings.warn(\n"
          ]
        }
      ]
    },
    {
      "cell_type": "markdown",
      "source": [
        "## Tutorial: Loading CartPole environment"
      ],
      "metadata": {
        "id": "ehbqP9CXbmo7"
      }
    },
    {
      "cell_type": "code",
      "source": [
        "env = gym.make(\"CartPole-v1\")"
      ],
      "metadata": {
        "id": "Go12dH4qbwBy"
      },
      "execution_count": 4,
      "outputs": []
    },
    {
      "cell_type": "markdown",
      "source": [
        "The observation space is given below. The first two arrays define the min and max values of the 4 observed values, corresponding to cart position, velocity and pole angle, angular velocity."
      ],
      "metadata": {
        "id": "pVXGWi_Ncfg-"
      }
    },
    {
      "cell_type": "code",
      "source": [
        "print(env.observation_space)"
      ],
      "metadata": {
        "colab": {
          "base_uri": "https://localhost:8080/"
        },
        "id": "DyqHr9I5cdkX",
        "outputId": "685ea5f7-19e0-41bf-db19-72aa3ee61352"
      },
      "execution_count": 5,
      "outputs": [
        {
          "output_type": "stream",
          "name": "stdout",
          "text": [
            "Box([-4.8000002e+00 -3.4028235e+38 -4.1887903e-01 -3.4028235e+38], [4.8000002e+00 3.4028235e+38 4.1887903e-01 3.4028235e+38], (4,), float32)\n"
          ]
        }
      ]
    },
    {
      "cell_type": "markdown",
      "source": [
        "For the CartPole environment, there are two possible actions: 0 for pushing to the left and 1 for pushing to the right. For example, we can push the cart to the left using code below, which returns the new observation, the current reward, an indicator of whether the game ends, and some additional information (not used in this project). For CartPole, the game ends when the pole is significantly tilted or you manage to balance the pole for 500 steps. You get exactly 1 reward for each step before the game ends (i.e., max cumulative reward is 500)."
      ],
      "metadata": {
        "id": "qnG2QdfbeZrI"
      }
    },
    {
      "cell_type": "markdown",
      "source": [
        "Now we can play a full round of the game using a naive strategy (always choosing action 0), and show the cumulative reward in the round. Note that reward returned by env.step(*) corresponds to the reward for current step. So we have to accumulate the reward for each step. Clearly, the naive strategy performs poorly by surviving only a dozen of steps."
      ],
      "metadata": {
        "id": "tj0zCh59fhBb"
      }
    },
    {
      "cell_type": "code",
      "source": [
        "class Observation(NamedTuple):\n",
        "    cart_pos: int\n",
        "    cart_vel: int\n",
        "    pole_angle: int\n",
        "    pole_vel: int\n",
        "\n",
        "def discretize_state(observation):\n",
        "  #\n",
        "    cart_pos_bins = np.linspace(-4.8, 4.8, 10)\n",
        "    cart_vel_bins = np.linspace(-5, 5, 10)\n",
        "    pole_angle_bins = np.linspace(-0.418, 0.418, 10)\n",
        "    pole_vel_bins = np.linspace(-5, 5, 10)\n",
        "\n",
        "    return Observation(\n",
        "        np.digitize(observation[0], cart_pos_bins),\n",
        "        np.digitize(observation[1], cart_vel_bins),\n",
        "        np.digitize(observation[2], pole_angle_bins),\n",
        "        np.digitize(observation[3], pole_vel_bins)\n",
        "    )"
      ],
      "metadata": {
        "id": "7r7ghR9zX7YS"
      },
      "execution_count": 6,
      "outputs": []
    },
    {
      "cell_type": "markdown",
      "source": [
        "## Task 1: Development of an RL agent"
      ],
      "metadata": {
        "id": "2oIzK9SzhlWN"
      }
    },
    {
      "cell_type": "markdown",
      "source": [
        "In Reinforcement Learning, we have an agent that interacts with the environment by performing an action (A) at each time step t. The environment then responds to the action with a new state (S) and reward (R). The agent takes the new state and reward into consideration when performing yet another action. The agent’s goal is to perform actions that will maximize the total reward it receives over the long run.\n",
        "\n",
        "**Action Selection Strategy: Epsilon-Greedy**\n",
        "\n",
        "How each action is chosen is defined within choose_action. The value of self-epsilon determines the amount of exploration and exploitation- so a self.epsilon = 0.2 would mean 20% exploration. If np.random.uniform(0,1) returns a value less than self.epsilon, the agent will explore - which means choose a random action.\n",
        "\n",
        "If np.random.uniform(0,1) returns a value higher than self.epsilon, the agent will exploit - which means choose the action with the highest estimated Q-value. (explained below)\n",
        "\n",
        "A high epsilon encourages more exploration, while a low epsilon favors exploiting the current best actions. The value of epsilon needs to be tuned for the specific problem, so we try different values to find the value that creates the best agent.\n",
        "\n",
        "**Q-Value Updating**\n",
        "\n",
        "*Return* refers to is a specific function of the discounted reward sequence with a discount rate 𝛾 (0 ≤ 𝛾 ≤ 1). The return G at time step t is calculated as follows:\n",
        "```\n",
        "G_t = R_{t+1} + γ * R_{t+2} + γ^2 * R_{t+3} + ...\n",
        "```\n",
        "A higher gamma value gives more weight to future rewards, and the limit is 1, at which point future rewards are just as important as immeidate rewards. If gamma is 0, the agent only considers immediate reward. In this code, we tried different values of gamma to find the optimal discount rate for this problem.\n",
        "\n",
        "*Policy* is a mapping from states to the probabilities of selecting each possible action. The policy is what we want to learn and optimize so that it maximizes the expected return over the long run.\n",
        "\n",
        "*Value Function* is a function that estimates the expected return starting from a given state (or state-action pair) and following a policy. This agent uses action-value function, or Q-function, which is a type of value function that estimates the value of taking a specific action (A) in a particular state (S).\n",
        "\n",
        "How the agent works - it interacts with the environment, runs full episodes and after each episode, runs update_Q to update its Q-value estimates. The update rule in update_Q updates the Q-value of a state-action pair using the following formula:\n",
        "```\n",
        "`Q(s, a) = Q(s, a) + α * [R + γ * max_a' Q(s', a') - Q(s, a)]`\n",
        "```\n",
        "The formula updates Q-value of a state-action pair (Q(s,a)) based on the difference between the actual return (G) observed during an episode and the current estimated Q-value. The learning rate (alpha) controls the magnitude of this adjustment. This is **Monte Carlo Q-Evaluation**.\n",
        "\n",
        "\n",
        "\n",
        "\n"
      ],
      "metadata": {
        "id": "072v-GtAta76"
      }
    },
    {
      "cell_type": "code",
      "source": [
        "class MonteCarloAgent:\n",
        "    def __init__(self, action_space_size, load_from_file=True, alpha=0.1, gamma=0.99, epsilon=1.0, epsilon_min=0.01, epsilon_decay=0.995):\n",
        "        self.action_space_size = action_space_size\n",
        "        self.alpha = alpha  # learning rate\n",
        "        self.gamma = gamma  # discount factor\n",
        "        self.epsilon = epsilon  # exploration %\n",
        "        self.epsilon_min = epsilon_min\n",
        "        self.epsilon_decay = epsilon_decay\n",
        "\n",
        "        # use defaultdict to dynamically store Q-values\n",
        "        self.Q = defaultdict(lambda: 10)  # start with high Q-values??\n",
        "        self.returns = defaultdict(list)\n",
        "        self.N = defaultdict(int)\n",
        "        #self.epsilon = 0.9\n",
        "        #self.min_epsilon = 0.1\n",
        "        #self.gamma = 0.99\n",
        "        self.filename = \"mc_q_table.pkl\"\n",
        "\n",
        "        # load Q-table if available\n",
        "        if load_from_file:\n",
        "            self.load_q_table()\n",
        "\n",
        "    def save_q_table(self):\n",
        "        with open(self.filename, \"wb\") as file:\n",
        "            pickle.dump((dict(self.Q), dict(self.returns), dict(self.N)), file)\n",
        "\n",
        "    def load_q_table(self):\n",
        "        try:\n",
        "            with open(self.filename, \"rb\") as file:\n",
        "                self.Q, self.returns, self.N = pickle.load(file)\n",
        "                self.Q = defaultdict(int, self.Q)\n",
        "                self.returns = defaultdict(list, self.returns)\n",
        "                self.N = defaultdict(int, self.N)\n",
        "            #print(\"Q-table loaded.\")\n",
        "        except (EOFError, FileNotFoundError):\n",
        "            print(\"No saved Q-table found. starting fresh.\")\n",
        "\n",
        "    def decay_epsilon(self):\n",
        "      self.epsilon = max(self.epsilon_min, self.epsilon * self.epsilon_decay)\n",
        "\n",
        "    def reset_q_table(self):\n",
        "      self.Q = defaultdict(lambda: 10)\n",
        "      self.returns = defaultdict(list)\n",
        "      self.N = defaultdict(int)\n",
        "      self.save_q_table()\n",
        "\n",
        "    def choose_action(self, state):\n",
        "        # epsilon-greedy action selection\n",
        "        if np.random.uniform(0, 1) < self.epsilon:\n",
        "            return np.random.choice(self.action_space_size) # explore\n",
        "        else:\n",
        "            return np.argmax([self.Q[(state, a)] for a in range(self.action_space_size)]) # exploit\n",
        "\n",
        "    # update_Q will be called at the end of each episode. it takes the entire episode's experience as input\n",
        "    # and calculates the return G for each state-action pair throughout the episode and accumulating the\n",
        "    # rewards. Q-value for each state-action pair is updated using the calculated return G\n",
        "    def update_Q(self, episode):\n",
        "      G = 0\n",
        "      visited_state_action_pairs = set()\n",
        "\n",
        "      for t in reversed(range(len(episode))):\n",
        "          state, action, reward = episode[t]\n",
        "          G = self.gamma * G + reward\n",
        "\n",
        "          # first-visit Monte Carlo\n",
        "          if (state, action) not in visited_state_action_pairs:\n",
        "              visited_state_action_pairs.add((state, action))\n",
        "              self.returns[(state, action)].append(G)\n",
        "              self.N[state, action] += 1\n",
        "\n",
        "              # using running average for stability\n",
        "              #self.Q[state, action] += (G - self.Q[state, action]) / self.N[state, action]\n",
        "              # updating Q-value using the learning rate (alpha)\n",
        "              self.Q[state, action] += self.alpha * (G - self.Q[state, action])\n",
        "\n",
        "      self.save_q_table()  # save progress after every episode"
      ],
      "metadata": {
        "id": "E6iJuAttQ_QQ"
      },
      "execution_count": 16,
      "outputs": []
    },
    {
      "cell_type": "markdown",
      "source": [
        "Now, we train the agent, using varying hyperparameter values (alpha, gamma, epsilon).\n",
        "\n",
        "np.linspace is used to create fine grids for alphas, gammas, and epsilons, providing many values to explore.\n",
        "\n",
        "Each combination of hyperparameters runs 5 trials of 500 episodes and the results dictionary stores the average reward across trials for each hyperparameter combination.\n",
        "\n",
        "We will then use the best hyperparameter combination to train a best agent."
      ],
      "metadata": {
        "id": "GImmqANl7C_I"
      }
    },
    {
      "cell_type": "code",
      "source": [
        "alphas = np.linspace(0.01, 0.5, 3)  # lower to higher learning rate\n",
        "gammas = np.linspace(0.9, 0.99, 3)  # lower to higher discount rate\n",
        "epsilons = np.linspace(0.1, 1.0, 3)  # less to more exploration\n",
        "\n",
        "num_trials = 3  # number of trials per combination\n",
        "num_episodes = 300\n",
        "\n",
        "results = {}\n",
        "\n",
        "for alpha in alphas:\n",
        "    for gamma in gammas:\n",
        "        for epsilon in epsilons:\n",
        "            trial_rewards = []\n",
        "            for trial in range(num_trials):\n",
        "              agent = MonteCarloAgent(env.action_space.n, alpha=alpha, gamma=gamma, epsilon=epsilon)\n",
        "              agent.reset_q_table()\n",
        "              for episode in range(num_episodes):\n",
        "                  observation = env.reset()\n",
        "                  episode = []\n",
        "                  episode_rewards = []  # rewards for each episode within a trial\n",
        "                  cumulative_reward = 0\n",
        "                  done = False\n",
        "\n",
        "                  while not done:\n",
        "                      state = discretize_state(observation)\n",
        "                      action = agent.choose_action(state)\n",
        "                      observation, reward, done, info = env.step(action)\n",
        "\n",
        "                      cart_pos, cart_vel, pole_angle, pole_vel = observation\n",
        "\n",
        "                      # termination check\n",
        "                      if abs(pole_angle) > 0.2094 or abs(cart_pos) > 2.4:\n",
        "                          done = True\n",
        "\n",
        "                      episode.append((state, action, reward))\n",
        "                      cumulative_reward += reward\n",
        "\n",
        "                  agent.update_Q(episode)\n",
        "                  agent.decay_epsilon()\n",
        "                  episode_rewards.append(cumulative_reward)  # rewards for episode\n",
        "\n",
        "              trial_rewards.append(np.mean(episode_rewards))  # average reward for trial\n",
        "              print(f\"Trial {trial + 1} for alpha={alpha}, gamma={gamma}, epsilon={epsilon} complete.\")\n",
        "\n",
        "            results[(alpha, gamma, epsilon)] = np.mean(trial_rewards)  # average reward across trials\n",
        "            print(f\"Trials for alpha={alpha}, gamma={gamma}, epsilon={epsilon} complete. Average reward: {results[(alpha, gamma, epsilon)]}\")\n",
        ""
      ],
      "metadata": {
        "colab": {
          "base_uri": "https://localhost:8080/"
        },
        "id": "MdlW6B0a7418",
        "outputId": "037b1aee-075c-48da-886f-08cd7f19e0ed"
      },
      "execution_count": 17,
      "outputs": [
        {
          "output_type": "stream",
          "name": "stdout",
          "text": [
            "No saved Q-table found. starting fresh.\n",
            "Trial 1 for alpha=0.01, gamma=0.9, epsilon=0.1 complete.\n",
            "Trial 2 for alpha=0.01, gamma=0.9, epsilon=0.1 complete.\n",
            "Trial 3 for alpha=0.01, gamma=0.9, epsilon=0.1 complete.\n",
            "Trials for alpha=0.01, gamma=0.9, epsilon=0.1 complete. Average reward: 178.0\n",
            "Trial 1 for alpha=0.01, gamma=0.9, epsilon=0.55 complete.\n",
            "Trial 2 for alpha=0.01, gamma=0.9, epsilon=0.55 complete.\n",
            "Trial 3 for alpha=0.01, gamma=0.9, epsilon=0.55 complete.\n",
            "Trials for alpha=0.01, gamma=0.9, epsilon=0.55 complete. Average reward: 117.33333333333333\n",
            "Trial 1 for alpha=0.01, gamma=0.9, epsilon=1.0 complete.\n",
            "Trial 2 for alpha=0.01, gamma=0.9, epsilon=1.0 complete.\n",
            "Trial 3 for alpha=0.01, gamma=0.9, epsilon=1.0 complete.\n",
            "Trials for alpha=0.01, gamma=0.9, epsilon=1.0 complete. Average reward: 108.33333333333333\n",
            "Trial 1 for alpha=0.01, gamma=0.9450000000000001, epsilon=0.1 complete.\n",
            "Trial 2 for alpha=0.01, gamma=0.9450000000000001, epsilon=0.1 complete.\n",
            "Trial 3 for alpha=0.01, gamma=0.9450000000000001, epsilon=0.1 complete.\n",
            "Trials for alpha=0.01, gamma=0.9450000000000001, epsilon=0.1 complete. Average reward: 117.66666666666667\n",
            "Trial 1 for alpha=0.01, gamma=0.9450000000000001, epsilon=0.55 complete.\n",
            "Trial 2 for alpha=0.01, gamma=0.9450000000000001, epsilon=0.55 complete.\n",
            "Trial 3 for alpha=0.01, gamma=0.9450000000000001, epsilon=0.55 complete.\n",
            "Trials for alpha=0.01, gamma=0.9450000000000001, epsilon=0.55 complete. Average reward: 295.6666666666667\n",
            "Trial 1 for alpha=0.01, gamma=0.9450000000000001, epsilon=1.0 complete.\n",
            "Trial 2 for alpha=0.01, gamma=0.9450000000000001, epsilon=1.0 complete.\n",
            "Trial 3 for alpha=0.01, gamma=0.9450000000000001, epsilon=1.0 complete.\n",
            "Trials for alpha=0.01, gamma=0.9450000000000001, epsilon=1.0 complete. Average reward: 169.33333333333334\n",
            "Trial 1 for alpha=0.01, gamma=0.99, epsilon=0.1 complete.\n",
            "Trial 2 for alpha=0.01, gamma=0.99, epsilon=0.1 complete.\n",
            "Trial 3 for alpha=0.01, gamma=0.99, epsilon=0.1 complete.\n",
            "Trials for alpha=0.01, gamma=0.99, epsilon=0.1 complete. Average reward: 335.3333333333333\n",
            "Trial 1 for alpha=0.01, gamma=0.99, epsilon=0.55 complete.\n",
            "Trial 2 for alpha=0.01, gamma=0.99, epsilon=0.55 complete.\n",
            "Trial 3 for alpha=0.01, gamma=0.99, epsilon=0.55 complete.\n",
            "Trials for alpha=0.01, gamma=0.99, epsilon=0.55 complete. Average reward: 119.33333333333333\n",
            "Trial 1 for alpha=0.01, gamma=0.99, epsilon=1.0 complete.\n",
            "Trial 2 for alpha=0.01, gamma=0.99, epsilon=1.0 complete.\n",
            "Trial 3 for alpha=0.01, gamma=0.99, epsilon=1.0 complete.\n",
            "Trials for alpha=0.01, gamma=0.99, epsilon=1.0 complete. Average reward: 126.0\n",
            "Trial 1 for alpha=0.255, gamma=0.9, epsilon=0.1 complete.\n",
            "Trial 2 for alpha=0.255, gamma=0.9, epsilon=0.1 complete.\n",
            "Trial 3 for alpha=0.255, gamma=0.9, epsilon=0.1 complete.\n",
            "Trials for alpha=0.255, gamma=0.9, epsilon=0.1 complete. Average reward: 175.66666666666666\n",
            "Trial 1 for alpha=0.255, gamma=0.9, epsilon=0.55 complete.\n",
            "Trial 2 for alpha=0.255, gamma=0.9, epsilon=0.55 complete.\n",
            "Trial 3 for alpha=0.255, gamma=0.9, epsilon=0.55 complete.\n",
            "Trials for alpha=0.255, gamma=0.9, epsilon=0.55 complete. Average reward: 163.33333333333334\n",
            "Trial 1 for alpha=0.255, gamma=0.9, epsilon=1.0 complete.\n",
            "Trial 2 for alpha=0.255, gamma=0.9, epsilon=1.0 complete.\n",
            "Trial 3 for alpha=0.255, gamma=0.9, epsilon=1.0 complete.\n",
            "Trials for alpha=0.255, gamma=0.9, epsilon=1.0 complete. Average reward: 84.66666666666667\n",
            "Trial 1 for alpha=0.255, gamma=0.9450000000000001, epsilon=0.1 complete.\n",
            "Trial 2 for alpha=0.255, gamma=0.9450000000000001, epsilon=0.1 complete.\n",
            "Trial 3 for alpha=0.255, gamma=0.9450000000000001, epsilon=0.1 complete.\n",
            "Trials for alpha=0.255, gamma=0.9450000000000001, epsilon=0.1 complete. Average reward: 194.0\n",
            "Trial 1 for alpha=0.255, gamma=0.9450000000000001, epsilon=0.55 complete.\n",
            "Trial 2 for alpha=0.255, gamma=0.9450000000000001, epsilon=0.55 complete.\n",
            "Trial 3 for alpha=0.255, gamma=0.9450000000000001, epsilon=0.55 complete.\n",
            "Trials for alpha=0.255, gamma=0.9450000000000001, epsilon=0.55 complete. Average reward: 107.66666666666667\n",
            "Trial 1 for alpha=0.255, gamma=0.9450000000000001, epsilon=1.0 complete.\n",
            "Trial 2 for alpha=0.255, gamma=0.9450000000000001, epsilon=1.0 complete.\n",
            "Trial 3 for alpha=0.255, gamma=0.9450000000000001, epsilon=1.0 complete.\n",
            "Trials for alpha=0.255, gamma=0.9450000000000001, epsilon=1.0 complete. Average reward: 105.66666666666667\n",
            "Trial 1 for alpha=0.255, gamma=0.99, epsilon=0.1 complete.\n",
            "Trial 2 for alpha=0.255, gamma=0.99, epsilon=0.1 complete.\n",
            "Trial 3 for alpha=0.255, gamma=0.99, epsilon=0.1 complete.\n",
            "Trials for alpha=0.255, gamma=0.99, epsilon=0.1 complete. Average reward: 146.0\n",
            "Trial 1 for alpha=0.255, gamma=0.99, epsilon=0.55 complete.\n",
            "Trial 2 for alpha=0.255, gamma=0.99, epsilon=0.55 complete.\n",
            "Trial 3 for alpha=0.255, gamma=0.99, epsilon=0.55 complete.\n",
            "Trials for alpha=0.255, gamma=0.99, epsilon=0.55 complete. Average reward: 76.0\n",
            "Trial 1 for alpha=0.255, gamma=0.99, epsilon=1.0 complete.\n",
            "Trial 2 for alpha=0.255, gamma=0.99, epsilon=1.0 complete.\n",
            "Trial 3 for alpha=0.255, gamma=0.99, epsilon=1.0 complete.\n",
            "Trials for alpha=0.255, gamma=0.99, epsilon=1.0 complete. Average reward: 49.0\n",
            "Trial 1 for alpha=0.5, gamma=0.9, epsilon=0.1 complete.\n",
            "Trial 2 for alpha=0.5, gamma=0.9, epsilon=0.1 complete.\n",
            "Trial 3 for alpha=0.5, gamma=0.9, epsilon=0.1 complete.\n",
            "Trials for alpha=0.5, gamma=0.9, epsilon=0.1 complete. Average reward: 140.33333333333334\n",
            "Trial 1 for alpha=0.5, gamma=0.9, epsilon=0.55 complete.\n",
            "Trial 2 for alpha=0.5, gamma=0.9, epsilon=0.55 complete.\n",
            "Trial 3 for alpha=0.5, gamma=0.9, epsilon=0.55 complete.\n",
            "Trials for alpha=0.5, gamma=0.9, epsilon=0.55 complete. Average reward: 66.66666666666667\n",
            "Trial 1 for alpha=0.5, gamma=0.9, epsilon=1.0 complete.\n",
            "Trial 2 for alpha=0.5, gamma=0.9, epsilon=1.0 complete.\n",
            "Trial 3 for alpha=0.5, gamma=0.9, epsilon=1.0 complete.\n",
            "Trials for alpha=0.5, gamma=0.9, epsilon=1.0 complete. Average reward: 27.666666666666668\n",
            "Trial 1 for alpha=0.5, gamma=0.9450000000000001, epsilon=0.1 complete.\n",
            "Trial 2 for alpha=0.5, gamma=0.9450000000000001, epsilon=0.1 complete.\n",
            "Trial 3 for alpha=0.5, gamma=0.9450000000000001, epsilon=0.1 complete.\n",
            "Trials for alpha=0.5, gamma=0.9450000000000001, epsilon=0.1 complete. Average reward: 231.33333333333334\n",
            "Trial 1 for alpha=0.5, gamma=0.9450000000000001, epsilon=0.55 complete.\n",
            "Trial 2 for alpha=0.5, gamma=0.9450000000000001, epsilon=0.55 complete.\n",
            "Trial 3 for alpha=0.5, gamma=0.9450000000000001, epsilon=0.55 complete.\n",
            "Trials for alpha=0.5, gamma=0.9450000000000001, epsilon=0.55 complete. Average reward: 104.66666666666667\n",
            "Trial 1 for alpha=0.5, gamma=0.9450000000000001, epsilon=1.0 complete.\n",
            "Trial 2 for alpha=0.5, gamma=0.9450000000000001, epsilon=1.0 complete.\n",
            "Trial 3 for alpha=0.5, gamma=0.9450000000000001, epsilon=1.0 complete.\n",
            "Trials for alpha=0.5, gamma=0.9450000000000001, epsilon=1.0 complete. Average reward: 94.33333333333333\n",
            "Trial 1 for alpha=0.5, gamma=0.99, epsilon=0.1 complete.\n",
            "Trial 2 for alpha=0.5, gamma=0.99, epsilon=0.1 complete.\n",
            "Trial 3 for alpha=0.5, gamma=0.99, epsilon=0.1 complete.\n",
            "Trials for alpha=0.5, gamma=0.99, epsilon=0.1 complete. Average reward: 67.66666666666667\n",
            "Trial 1 for alpha=0.5, gamma=0.99, epsilon=0.55 complete.\n",
            "Trial 2 for alpha=0.5, gamma=0.99, epsilon=0.55 complete.\n",
            "Trial 3 for alpha=0.5, gamma=0.99, epsilon=0.55 complete.\n",
            "Trials for alpha=0.5, gamma=0.99, epsilon=0.55 complete. Average reward: 45.0\n",
            "Trial 1 for alpha=0.5, gamma=0.99, epsilon=1.0 complete.\n",
            "Trial 2 for alpha=0.5, gamma=0.99, epsilon=1.0 complete.\n",
            "Trial 3 for alpha=0.5, gamma=0.99, epsilon=1.0 complete.\n",
            "Trials for alpha=0.5, gamma=0.99, epsilon=1.0 complete. Average reward: 45.666666666666664\n"
          ]
        }
      ]
    },
    {
      "cell_type": "code",
      "source": [
        "best_params = max(results, key=results.get)  # Get the key with the max value\n",
        "best_reward = results[best_params]  # Get the max value (reward)\n",
        "\n",
        "print(f\"Best Hyperparameters: {best_params}\")\n",
        "print(f\"Best Average Reward: {best_reward}\")"
      ],
      "metadata": {
        "colab": {
          "base_uri": "https://localhost:8080/"
        },
        "id": "B1rzQj9ZAHpZ",
        "outputId": "fdb23e56-6722-4c40-9eb2-7b210d672a0d"
      },
      "execution_count": 18,
      "outputs": [
        {
          "output_type": "stream",
          "name": "stdout",
          "text": [
            "Best Hyperparameters: (0.01, 0.99, 0.1)\n",
            "Best Average Reward: 335.3333333333333\n"
          ]
        }
      ]
    },
    {
      "cell_type": "markdown",
      "source": [
        "The best hyperparameters are as follows:\n",
        "\n",
        "Alpha = 0.01, the lowest learning rate\n",
        "\n",
        "Gamme = 0.99, the highest discount rate\n",
        "\n",
        "Epsilon = 0.1, less exploration\n",
        "\n",
        "Now, train the agent using the best combination of hyperparameters for 10000 episodes - or until best performance."
      ],
      "metadata": {
        "id": "Rd0tmB-JGVoI"
      }
    },
    {
      "cell_type": "code",
      "source": [
        "env = gym.make(\"CartPole-v1\")\n",
        "agent = MonteCarloAgent(env.action_space.n, alpha=0.01, gamma=0.99, epsilon=0.1)\n",
        "agent.reset_q_table()\n",
        "\n",
        "#train\n",
        "num_episodes = 10000\n",
        "episode_results = []\n",
        "episode_num = 0\n",
        "consistent = False\n",
        "\n",
        "while not consistent:\n",
        "  observation = env.reset()\n",
        "  episode = []\n",
        "  cumulative_reward = 0\n",
        "  done = False\n",
        "\n",
        "  while not done:\n",
        "      state = discretize_state(observation)\n",
        "      action = agent.choose_action(state)\n",
        "      observation, reward, done, info = env.step(action)\n",
        "\n",
        "      cart_pos, cart_vel, pole_angle, pole_vel = observation\n",
        "\n",
        "      # termination check based on constraints\n",
        "      if abs(pole_angle) > 0.2094 or abs(cart_pos) > 2.4:\n",
        "          done = True  # terminate episode\n",
        "\n",
        "      episode.append((state, action, reward))\n",
        "      cumulative_reward += reward\n",
        "\n",
        "  agent.update_Q(episode)\n",
        "  episode_num += 1\n",
        "\n",
        "  agent.decay_epsilon()\n",
        "  episode_results.append(cumulative_reward)\n",
        "  if (episode_num+1) % 100 == 0:\n",
        "    print(f\"Episode {episode_num + 1}: Cumulative Reward = {cumulative_reward}\")\n",
        "\n",
        "  # if results = 500 for last 100 episodes, stop training\n",
        "  if episode_num >= 100:\n",
        "    score = episode_results[-100:]\n",
        "    if np.mean(score) == 500:\n",
        "      consistent = True\n",
        "      print(\"Training stopped due to consistent performance.\")\n"
      ],
      "metadata": {
        "colab": {
          "base_uri": "https://localhost:8080/"
        },
        "id": "yOutmavkGmev",
        "outputId": "9ea2a597-22e8-49ca-c0b4-9c3c74f8e008"
      },
      "execution_count": null,
      "outputs": [
        {
          "output_type": "stream",
          "name": "stdout",
          "text": [
            "No saved Q-table found. starting fresh.\n"
          ]
        },
        {
          "output_type": "stream",
          "name": "stderr",
          "text": [
            "/usr/local/lib/python3.11/dist-packages/gym/utils/passive_env_checker.py:241: DeprecationWarning: `np.bool8` is a deprecated alias for `np.bool_`.  (Deprecated NumPy 1.24)\n",
            "  if not isinstance(terminated, (bool, np.bool8)):\n"
          ]
        },
        {
          "output_type": "stream",
          "name": "stdout",
          "text": [
            "Episode 100: Cumulative Reward = 256.0\n",
            "Episode 200: Cumulative Reward = 45.0\n",
            "Episode 300: Cumulative Reward = 211.0\n",
            "Episode 400: Cumulative Reward = 171.0\n",
            "Episode 500: Cumulative Reward = 173.0\n",
            "Episode 600: Cumulative Reward = 200.0\n",
            "Episode 700: Cumulative Reward = 500.0\n",
            "Episode 800: Cumulative Reward = 199.0\n",
            "Episode 900: Cumulative Reward = 500.0\n",
            "Episode 1000: Cumulative Reward = 144.0\n",
            "Episode 1100: Cumulative Reward = 232.0\n",
            "Episode 1200: Cumulative Reward = 339.0\n",
            "Episode 1300: Cumulative Reward = 169.0\n",
            "Episode 1400: Cumulative Reward = 367.0\n",
            "Episode 1500: Cumulative Reward = 500.0\n",
            "Episode 1600: Cumulative Reward = 359.0\n",
            "Episode 1700: Cumulative Reward = 144.0\n",
            "Episode 1800: Cumulative Reward = 160.0\n",
            "Episode 1900: Cumulative Reward = 114.0\n",
            "Episode 2000: Cumulative Reward = 500.0\n",
            "Episode 2100: Cumulative Reward = 167.0\n",
            "Episode 2200: Cumulative Reward = 343.0\n",
            "Episode 2300: Cumulative Reward = 159.0\n",
            "Episode 2400: Cumulative Reward = 155.0\n",
            "Episode 2500: Cumulative Reward = 147.0\n",
            "Episode 2600: Cumulative Reward = 146.0\n",
            "Episode 2700: Cumulative Reward = 500.0\n"
          ]
        }
      ]
    },
    {
      "cell_type": "markdown",
      "source": [
        "## Task 2: Demonstrate the effectiveness of the RL agent"
      ],
      "metadata": {
        "id": "-XtIQ0Rti1gm"
      }
    },
    {
      "cell_type": "markdown",
      "source": [
        "For this task, use the agent developed in Task 1 to play the game for 100 episodes (refer to tutorial for how to play a round), record the cumulative reward for each round, and plot the reward for each round. A sample plotting code is given below. Note that you must include code to play for 100 episodes and use the code to obtain round_results for plotting. DO NOT record the round results in advance and paste the results to the notebook."
      ],
      "metadata": {
        "id": "djBEShf0kGI4"
      }
    },
    {
      "cell_type": "code",
      "source": [
        "# eval\n",
        "eval_rewards = []\n",
        "num_eval_episodes = 100\n",
        "\n",
        "for episode_num in range(num_eval_episodes):\n",
        "    observation = env.reset()\n",
        "    episode_reward = 0\n",
        "    done = False\n",
        "\n",
        "    while not done:\n",
        "      state = discretize_state(observation)\n",
        "      action = agent.choose_action(state)\n",
        "      observation, reward, done, info = env.step(action)\n",
        "      episode_reward += reward\n",
        "\n",
        "    eval_rewards.append(episode_reward)\n",
        "    print(f\"Evaluation Episode {episode_num + 1}: Reward = {episode_reward}\")"
      ],
      "metadata": {
        "colab": {
          "base_uri": "https://localhost:8080/"
        },
        "id": "9qnN-9taoNPC",
        "outputId": "567ea3b9-df7c-43a8-a548-d5ad8bb212b4"
      },
      "execution_count": null,
      "outputs": [
        {
          "output_type": "stream",
          "name": "stdout",
          "text": [
            "Evaluation Episode 1: Reward = 417.0\n",
            "Evaluation Episode 2: Reward = 219.0\n",
            "Evaluation Episode 3: Reward = 500.0\n",
            "Evaluation Episode 4: Reward = 69.0\n",
            "Evaluation Episode 5: Reward = 500.0\n",
            "Evaluation Episode 6: Reward = 71.0\n",
            "Evaluation Episode 7: Reward = 500.0\n",
            "Evaluation Episode 8: Reward = 500.0\n",
            "Evaluation Episode 9: Reward = 500.0\n",
            "Evaluation Episode 10: Reward = 500.0\n",
            "Evaluation Episode 11: Reward = 36.0\n",
            "Evaluation Episode 12: Reward = 500.0\n",
            "Evaluation Episode 13: Reward = 500.0\n",
            "Evaluation Episode 14: Reward = 69.0\n",
            "Evaluation Episode 15: Reward = 500.0\n",
            "Evaluation Episode 16: Reward = 284.0\n",
            "Evaluation Episode 17: Reward = 500.0\n",
            "Evaluation Episode 18: Reward = 47.0\n",
            "Evaluation Episode 19: Reward = 261.0\n",
            "Evaluation Episode 20: Reward = 273.0\n",
            "Evaluation Episode 21: Reward = 333.0\n",
            "Evaluation Episode 22: Reward = 500.0\n",
            "Evaluation Episode 23: Reward = 500.0\n",
            "Evaluation Episode 24: Reward = 500.0\n",
            "Evaluation Episode 25: Reward = 500.0\n",
            "Evaluation Episode 26: Reward = 500.0\n",
            "Evaluation Episode 27: Reward = 500.0\n",
            "Evaluation Episode 28: Reward = 500.0\n",
            "Evaluation Episode 29: Reward = 500.0\n",
            "Evaluation Episode 30: Reward = 197.0\n",
            "Evaluation Episode 31: Reward = 500.0\n",
            "Evaluation Episode 32: Reward = 18.0\n",
            "Evaluation Episode 33: Reward = 500.0\n",
            "Evaluation Episode 34: Reward = 422.0\n",
            "Evaluation Episode 35: Reward = 180.0\n",
            "Evaluation Episode 36: Reward = 500.0\n",
            "Evaluation Episode 37: Reward = 500.0\n",
            "Evaluation Episode 38: Reward = 500.0\n",
            "Evaluation Episode 39: Reward = 500.0\n",
            "Evaluation Episode 40: Reward = 500.0\n",
            "Evaluation Episode 41: Reward = 80.0\n",
            "Evaluation Episode 42: Reward = 469.0\n",
            "Evaluation Episode 43: Reward = 500.0\n",
            "Evaluation Episode 44: Reward = 190.0\n",
            "Evaluation Episode 45: Reward = 500.0\n",
            "Evaluation Episode 46: Reward = 493.0\n",
            "Evaluation Episode 47: Reward = 500.0\n",
            "Evaluation Episode 48: Reward = 71.0\n",
            "Evaluation Episode 49: Reward = 324.0\n",
            "Evaluation Episode 50: Reward = 212.0\n",
            "Evaluation Episode 51: Reward = 16.0\n",
            "Evaluation Episode 52: Reward = 500.0\n",
            "Evaluation Episode 53: Reward = 500.0\n",
            "Evaluation Episode 54: Reward = 434.0\n",
            "Evaluation Episode 55: Reward = 364.0\n",
            "Evaluation Episode 56: Reward = 500.0\n",
            "Evaluation Episode 57: Reward = 493.0\n",
            "Evaluation Episode 58: Reward = 373.0\n",
            "Evaluation Episode 59: Reward = 190.0\n",
            "Evaluation Episode 60: Reward = 123.0\n",
            "Evaluation Episode 61: Reward = 500.0\n",
            "Evaluation Episode 62: Reward = 45.0\n",
            "Evaluation Episode 63: Reward = 500.0\n",
            "Evaluation Episode 64: Reward = 500.0\n",
            "Evaluation Episode 65: Reward = 500.0\n",
            "Evaluation Episode 66: Reward = 19.0\n",
            "Evaluation Episode 67: Reward = 500.0\n",
            "Evaluation Episode 68: Reward = 500.0\n",
            "Evaluation Episode 69: Reward = 500.0\n",
            "Evaluation Episode 70: Reward = 57.0\n",
            "Evaluation Episode 71: Reward = 75.0\n",
            "Evaluation Episode 72: Reward = 20.0\n",
            "Evaluation Episode 73: Reward = 63.0\n",
            "Evaluation Episode 74: Reward = 500.0\n",
            "Evaluation Episode 75: Reward = 500.0\n",
            "Evaluation Episode 76: Reward = 500.0\n",
            "Evaluation Episode 77: Reward = 233.0\n",
            "Evaluation Episode 78: Reward = 500.0\n",
            "Evaluation Episode 79: Reward = 500.0\n",
            "Evaluation Episode 80: Reward = 188.0\n",
            "Evaluation Episode 81: Reward = 19.0\n",
            "Evaluation Episode 82: Reward = 44.0\n",
            "Evaluation Episode 83: Reward = 500.0\n",
            "Evaluation Episode 84: Reward = 364.0\n",
            "Evaluation Episode 85: Reward = 500.0\n",
            "Evaluation Episode 86: Reward = 500.0\n",
            "Evaluation Episode 87: Reward = 500.0\n",
            "Evaluation Episode 88: Reward = 500.0\n",
            "Evaluation Episode 89: Reward = 41.0\n",
            "Evaluation Episode 90: Reward = 500.0\n",
            "Evaluation Episode 91: Reward = 500.0\n",
            "Evaluation Episode 92: Reward = 189.0\n",
            "Evaluation Episode 93: Reward = 500.0\n",
            "Evaluation Episode 94: Reward = 58.0\n",
            "Evaluation Episode 95: Reward = 500.0\n",
            "Evaluation Episode 96: Reward = 500.0\n",
            "Evaluation Episode 97: Reward = 500.0\n",
            "Evaluation Episode 98: Reward = 500.0\n",
            "Evaluation Episode 99: Reward = 365.0\n",
            "Evaluation Episode 100: Reward = 500.0\n"
          ]
        }
      ]
    },
    {
      "cell_type": "code",
      "source": [
        "plt.plot(eval_rewards)\n",
        "plt.title('Cumulative reward for each episode')\n",
        "plt.ylabel('Cumulative reward')\n",
        "plt.xlabel('episode')\n",
        "plt.show()"
      ],
      "metadata": {
        "colab": {
          "base_uri": "https://localhost:8080/",
          "height": 472
        },
        "id": "RZrCKywQi6CE",
        "outputId": "56ca6ca3-26e1-4970-ad74-f6bf3029422a"
      },
      "execution_count": null,
      "outputs": [
        {
          "output_type": "display_data",
          "data": {
            "text/plain": [
              "<Figure size 640x480 with 1 Axes>"
            ],
            "image/png": "[encoded data removed]"
          },
          "metadata": {}
        }
      ]
    },
    {
      "cell_type": "markdown",
      "source": [
        "Print the average reward over the 100 episodes."
      ],
      "metadata": {
        "id": "XndSYH7wlvn7"
      }
    },
    {
      "cell_type": "code",
      "source": [
        "mean = sum(eval_rewards) / len(eval_rewards)\n",
        "print(mean)"
      ],
      "metadata": {
        "colab": {
          "base_uri": "https://localhost:8080/"
        },
        "id": "nASf5piuTC5k",
        "outputId": "357cb000-9fc1-4591-867b-62b3966ee083"
      },
      "execution_count": null,
      "outputs": [
        {
          "output_type": "stream",
          "name": "stdout",
          "text": [
            "365.08\n"
          ]
        }
      ]
    },
    {
      "cell_type": "code",
      "source": [
        "print(\"Average cumulative reward:\", mean)\n",
        "print(\"Is my agent good enough?\", mean > 195)"
      ],
      "metadata": {
        "colab": {
          "base_uri": "https://localhost:8080/"
        },
        "id": "pOiOp9OYlo5Y",
        "outputId": "c4d2c311-b250-4934-fe08-6398f43808b5"
      },
      "execution_count": null,
      "outputs": [
        {
          "output_type": "stream",
          "name": "stdout",
          "text": [
            "Average cumulative reward: 365.08\n",
            "Is my agent good enough? True\n"
          ]
        }
      ]
    },
    {
      "cell_type": "markdown",
      "source": [
        "## Task 3: Render one episode played by the agent"
      ],
      "metadata": {
        "id": "Yg0DCT38lFA6"
      }
    },
    {
      "cell_type": "code",
      "source": [
        "env = RecordVideo(gym.make(\"CartPole-v1\"), \"./video\")\n",
        "observation = env.reset()\n",
        "\n",
        "# Assuming you have already defined and trained your MonteCarloAgent (agent)\n",
        "# and have state_space_size and action_space_size defined\n",
        "\n",
        "# Initialize the agent here (if not already done)\n",
        "agent = MonteCarloAgent(action_space_size=env.action_space.n)\n",
        "\n",
        "while True:\n",
        "    env.render()\n",
        "\n",
        "    # Get the current state and discretize it\n",
        "    state = discretize_state(observation)\n",
        "\n",
        "    # Choose an action using the agent's policy\n",
        "    action = agent.choose_action(state)\n",
        "\n",
        "    observation, reward, done, info = env.step(action)\n",
        "    if done:\n",
        "      break;\n",
        "env.close()\n",
        "show_video()"
      ],
      "metadata": {
        "colab": {
          "base_uri": "https://localhost:8080/",
          "height": 494
        },
        "id": "_gxtuw8KUFLE",
        "outputId": "8a768de6-d7db-45e2-c7d7-17b5d96d0a5e"
      },
      "execution_count": null,
      "outputs": [
        {
          "output_type": "stream",
          "name": "stdout",
          "text": [
            "Q-table loaded.\n"
          ]
        },
        {
          "output_type": "stream",
          "name": "stderr",
          "text": [
            "/usr/local/lib/python3.11/dist-packages/gym/utils/passive_env_checker.py:241: DeprecationWarning: `np.bool8` is a deprecated alias for `np.bool_`.  (Deprecated NumPy 1.24)\n",
            "  if not isinstance(terminated, (bool, np.bool8)):\n"
          ]
        },
        {
          "output_type": "display_data",
          "data": {
            "text/plain": [
              "<IPython.core.display.HTML object>"
            ],
            "text/html": [
              "<video alt=\"test\" autoplay \n",
              "                loop controls style=\"height: 400px;\">\n",
              "                <source src=\"data:video/mp4;base64,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\" type=\"video/mp4\" />\n",
              "             </video>"
            ]
          },
          "metadata": {}
        }
      ]
    }
  ]
}