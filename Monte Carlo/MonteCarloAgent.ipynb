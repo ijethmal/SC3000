{
  "nbformat": 4,
  "nbformat_minor": 0,
  "metadata": {
    "colab": {
      "provenance": []
    },
    "kernelspec": {
      "name": "python3",
      "display_name": "Python 3"
    },
    "language_info": {
      "name": "python"
    }
  },
  "cells": [
    {
      "cell_type": "markdown",
      "source": [
        "# Monte Carlo Agent for Cartpole Problem"
      ],
      "metadata": {
        "id": "ZauhjPSfX7pI"
      }
    },
    {
      "cell_type": "code",
      "source": [
        "import gym\n",
        "from gym import logger as gymlogger\n",
        "from gym.wrappers import RecordVideo\n",
        "gymlogger.set_level(40) #error only\n",
        "import tensorflow as tf\n",
        "import numpy as np\n",
        "import random\n",
        "import matplotlib\n",
        "import matplotlib.pyplot as plt\n",
        "%matplotlib inline\n",
        "import math\n",
        "import glob\n",
        "import io\n",
        "import base64\n",
        "from IPython.display import HTML\n",
        "from IPython import display as ipythondisplay\n",
        "from abc import ABC, abstractmethod\n",
        "from typing import NamedTuple\n",
        "import pickle\n",
        "from collections import defaultdict\n",
        "\n",
        "def show_video():\n",
        "  mp4list = glob.glob('video/*.mp4')\n",
        "  if len(mp4list) > 0:\n",
        "    mp4 = mp4list[0]\n",
        "    video = io.open(mp4, 'r+b').read()\n",
        "    encoded = base64.b64encode(video)\n",
        "    ipythondisplay.display(HTML(data='''<video alt=\"test\" autoplay\n",
        "                loop controls style=\"height: 400px;\">\n",
        "                <source src=\"data:video/mp4;base64,{0}\" type=\"video/mp4\" />\n",
        "             </video>'''.format(encoded.decode('ascii'))))\n",
        "  else:\n",
        "    print(\"Could not find video\")"
      ],
      "metadata": {
        "id": "j6KpgCLGYWmj",
        "colab": {
          "base_uri": "https://localhost:8080/"
        },
        "outputId": "6962ebdb-d360-4d44-d4da-e6ac53257072"
      },
      "execution_count": 3,
      "outputs": [
        {
          "output_type": "stream",
          "name": "stderr",
          "text": [
            "/usr/local/lib/python3.11/dist-packages/jaxlib/plugin_support.py:71: RuntimeWarning: JAX plugin jax_cuda12_plugin version 0.5.1 is installed, but it is not compatible with the installed jaxlib version 0.5.3, so it will not be used.\n",
            "  warnings.warn(\n"
          ]
        }
      ]
    },
    {
      "cell_type": "code",
      "source": [
        "env = gym.make(\"CartPole-v1\")"
      ],
      "metadata": {
        "id": "Go12dH4qbwBy"
      },
      "execution_count": 4,
      "outputs": []
    },
    {
      "cell_type": "code",
      "source": [
        "print(env.observation_space)"
      ],
      "metadata": {
        "colab": {
          "base_uri": "https://localhost:8080/"
        },
        "id": "DyqHr9I5cdkX",
        "outputId": "685ea5f7-19e0-41bf-db19-72aa3ee61352"
      },
      "execution_count": 5,
      "outputs": [
        {
          "output_type": "stream",
          "name": "stdout",
          "text": [
            "Box([-4.8000002e+00 -3.4028235e+38 -4.1887903e-01 -3.4028235e+38], [4.8000002e+00 3.4028235e+38 4.1887903e-01 3.4028235e+38], (4,), float32)\n"
          ]
        }
      ]
    },
    {
      "cell_type": "code",
      "source": [
        "class Observation(NamedTuple):\n",
        "    cart_pos: int\n",
        "    cart_vel: int\n",
        "    pole_angle: int\n",
        "    pole_vel: int\n",
        "\n",
        "def discretize_state(observation):\n",
        "  #\n",
        "    cart_pos_bins = np.linspace(-4.8, 4.8, 10)\n",
        "    cart_vel_bins = np.linspace(-5, 5, 10)\n",
        "    pole_angle_bins = np.linspace(-0.418, 0.418, 10)\n",
        "    pole_vel_bins = np.linspace(-5, 5, 10)\n",
        "\n",
        "    return Observation(\n",
        "        np.digitize(observation[0], cart_pos_bins),\n",
        "        np.digitize(observation[1], cart_vel_bins),\n",
        "        np.digitize(observation[2], pole_angle_bins),\n",
        "        np.digitize(observation[3], pole_vel_bins)\n",
        "    )"
      ],
      "metadata": {
        "id": "7r7ghR9zX7YS"
      },
      "execution_count": 6,
      "outputs": []
    },
    {
      "cell_type": "markdown",
      "source": [
        "## Task 1: Development of an RL agent"
      ],
      "metadata": {
        "id": "2oIzK9SzhlWN"
      }
    },
    {
      "cell_type": "markdown",
      "source": [
        "In Reinforcement Learning, we have an agent that interacts with the environment by performing an action (A) at each time step t. The environment then responds to the action with a new state (S) and reward (R). The agent takes the new state and reward into consideration when performing yet another action. The agent’s goal is to perform actions that will maximize the total reward it receives over the long run.\n",
        "\n",
        "**Action Selection Strategy: Epsilon-Greedy**\n",
        "\n",
        "How each action is chosen is defined within choose_action. The value of self-epsilon determines the amount of exploration and exploitation- so a self.epsilon = 0.2 would mean 20% exploration. If np.random.uniform(0,1) returns a value less than self.epsilon, the agent will explore - which means choose a random action.\n",
        "\n",
        "If np.random.uniform(0,1) returns a value higher than self.epsilon, the agent will exploit - which means choose the action with the highest estimated Q-value. (explained below)\n",
        "\n",
        "A high epsilon encourages more exploration, while a low epsilon favors exploiting the current best actions. The value of epsilon needs to be tuned for the specific problem, so we try different values to find the value that creates the best agent.\n",
        "\n",
        "**Q-Value Updating**\n",
        "\n",
        "*Return* refers to the function of the discounted reward sequence with discount rate 𝛾 (0 ≤ 𝛾 ≤ 1). Return G at time step t is calculated as follows:\n",
        "```\n",
        "G_t = R_{t+1} + γ * R_{t+2} + γ^2 * R_{t+3} + ...\n",
        "```\n",
        "A higher gamma value gives more weight to future rewards, and the limit is 1, at which point future rewards are just as important as immediate rewards. If gamma is 0, the agent only considers immediate rewards. In this code, we tried different values of gamma to find the optimal discount rate for this problem.\n",
        "\n",
        "*Policy* is a mapping from states to the probabilities of selecting each possible action. The policy is what we want to learn and optimize so that it maximizes the expected return over the long run.\n",
        "\n",
        "*Value Function* is a function that estimates the expected return starting from a given state (or state-action pair) and following a policy. This agent uses action-value function, or Q-function, which is a type of value function that estimates the value of taking a specific action (A) in a particular state (S).\n",
        "\n",
        "Our agent interacts with the environment, runs full episodes and after each episode, runs update_Q to update its Q-value estimates. The update rule in update_Q updates the Q-value of a state-action pair using the following formula:\n",
        "```\n",
        "`Q(s, a) = Q(s, a) + α * [R + γ * max_a' Q(s', a') - Q(s, a)]`\n",
        "```\n",
        "The formula updates Q-value of a state-action pair (Q(s,a)) based on the difference between the actual return (G) observed during an episode and the current estimated Q-value. The learning rate (alpha) controls the magnitude of this adjustment. This is **Monte Carlo Q-Evaluation**.\n",
        "\n",
        "The hyperparameters, thus, are as follows:\n",
        "\n",
        "1. Alpha\n",
        "2. Gamma\n",
        "3. Epsilon\n",
        "\n",
        "\n",
        "\n",
        "\n"
      ],
      "metadata": {
        "id": "072v-GtAta76"
      }
    },
    {
      "cell_type": "code",
      "source": [
        "class MonteCarloAgent: # random default values for hyperparameters\n",
        "    def __init__(self, action_space_size, load_from_file=True, alpha=0.1, gamma=0.99, epsilon=1.0, epsilon_min=0.01, epsilon_decay=0.995):\n",
        "      self.action_space_size = action_space_size\n",
        "      self.alpha = alpha  # learning rate\n",
        "      self.gamma = gamma  # discount factor\n",
        "      self.epsilon = epsilon  # exploration %\n",
        "      self.epsilon_min = epsilon_min\n",
        "      self.epsilon_decay = epsilon_decay\n",
        "\n",
        "      # use defaultdict to dynamically store Q-values\n",
        "      self.Q = defaultdict(lambda: 10)  # high Q-values for optimism\n",
        "      self.returns = defaultdict(list)\n",
        "      self.N = defaultdict(int)\n",
        "      self.filename = \"mc_q_table.pkl\"\n",
        "\n",
        "      # load Q-table if available\n",
        "      if load_from_file:\n",
        "        self.load_q_table()\n",
        "\n",
        "    def save_q_table(self):\n",
        "      with open(self.filename, \"wb\") as file:\n",
        "        pickle.dump((dict(self.Q), dict(self.returns), dict(self.N)), file)\n",
        "\n",
        "    def load_q_table(self):\n",
        "      try:\n",
        "        with open(self.filename, \"rb\") as file:\n",
        "          self.Q, self.returns, self.N = pickle.load(file)\n",
        "          self.Q = defaultdict(int, self.Q)\n",
        "          self.returns = defaultdict(list, self.returns)\n",
        "          self.N = defaultdict(int, self.N)\n",
        "      except (EOFError, FileNotFoundError):\n",
        "        print(\"No saved Q-table found. starting fresh.\")\n",
        "\n",
        "\n",
        "    # decay epsilon over time to encourage exploitation over time\n",
        "    def decay_epsilon(self):\n",
        "      self.epsilon = max(self.epsilon_min, self.epsilon * self.epsilon_decay)\n",
        "\n",
        "    def reset_q_table(self):\n",
        "      self.Q = defaultdict(lambda: 10)\n",
        "      self.returns = defaultdict(list)\n",
        "      self.N = defaultdict(int)\n",
        "      self.save_q_table()\n",
        "\n",
        "    def choose_action(self, state):\n",
        "      # epsilon-greedy action selection\n",
        "      if np.random.uniform(0, 1) < self.epsilon:\n",
        "        return np.random.choice(self.action_space_size) # explore\n",
        "      else:\n",
        "        return np.argmax([self.Q[(state, a)] for a in range(self.action_space_size)]) # exploit\n",
        "\n",
        "    # update_Q will be called at the end of each episode. it takes the entire episode's experience as input\n",
        "    # and calculates the return G for each state-action pair throughout the episode and accumulating the\n",
        "    # rewards. Q-value for each state-action pair is updated using the calculated return G\n",
        "    def update_Q(self, episode):\n",
        "      G = 0\n",
        "      visited_state_action_pairs = set()\n",
        "\n",
        "      for t in reversed(range(len(episode))):\n",
        "        state, action, reward = episode[t]\n",
        "        G = self.gamma * G + reward\n",
        "\n",
        "        # first-visit Monte Carlo - compared to every-visit, often preferred due to its faster convergence\n",
        "        if (state, action) not in visited_state_action_pairs:\n",
        "          visited_state_action_pairs.add((state, action))\n",
        "          self.returns[(state, action)].append(G)\n",
        "          self.N[state, action] += 1\n",
        "\n",
        "          # updating Q-value using the learning rate (alpha)\n",
        "          self.Q[state, action] += self.alpha * (G - self.Q[state, action])\n",
        "\n",
        "      self.save_q_table()  # save progress after every episode"
      ],
      "metadata": {
        "id": "E6iJuAttQ_QQ"
      },
      "execution_count": 30,
      "outputs": []
    },
    {
      "cell_type": "markdown",
      "source": [
        "Now, we train the agent, using a wide range of values for each hyperparameter (alpha, gamma, epsilon) from 0 to 1, to find if higher or lower values are optimal for each hyperparameter, in the context of this problem.\n",
        "\n",
        "For each combination of hyperparameters we run 3 trials of 500 episodes and the results dictionary stores the average reward across trials.\n",
        "\n",
        "We will then use the hyperparameter combination with the highest average rewards to train a best agent."
      ],
      "metadata": {
        "id": "GImmqANl7C_I"
      }
    },
    {
      "cell_type": "code",
      "source": [
        "alphas = [0.1, 0.25, 0.5, 0.75] # lower to higher learning rate\n",
        "gammas = [0.5, 0.7, 0.9, 0.99]  # lower to higher discount rate\n",
        "epsilons = [0.2, 0.4, 0.6]  # less to more exploration\n",
        "\n",
        "num_trials = 3  # number of trials per combination\n",
        "num_episodes = 500\n",
        "\n",
        "results = {}\n",
        "\n",
        "for alpha in alphas:\n",
        "  for gamma in gammas:\n",
        "    for epsilon in epsilons:\n",
        "      trial_rewards = []\n",
        "      for trial in range(num_trials):\n",
        "        agent = MonteCarloAgent(env.action_space.n, alpha=alpha, gamma=gamma, epsilon=epsilon)\n",
        "        agent.reset_q_table()\n",
        "        for episode in range(num_episodes):\n",
        "          observation = env.reset()\n",
        "          episode = []\n",
        "          episode_rewards = []  # rewards for each episode within a trial\n",
        "          cumulative_reward = 0\n",
        "          done = False\n",
        "\n",
        "          while not done:\n",
        "            state = discretize_state(observation)\n",
        "            action = agent.choose_action(state)\n",
        "            observation, reward, done, info = env.step(action)\n",
        "\n",
        "            cart_pos, cart_vel, pole_angle, pole_vel = observation\n",
        "\n",
        "            # termination check\n",
        "            if abs(pole_angle) > 0.2094 or abs(cart_pos) > 2.4:\n",
        "              done = True\n",
        "\n",
        "            episode.append((state, action, reward))\n",
        "            cumulative_reward += reward\n",
        "\n",
        "          agent.update_Q(episode)\n",
        "          agent.decay_epsilon()\n",
        "          episode_rewards.append(cumulative_reward)  # rewards for episode\n",
        "\n",
        "        trial_rewards.append(np.mean(episode_rewards))  # average reward for trial\n",
        "        print(f\"Trial {trial + 1} for alpha={alpha}, gamma={gamma}, epsilon={epsilon} complete.\")\n",
        "\n",
        "      results[(alpha, gamma, epsilon)] = np.mean(trial_rewards)  # average reward across trials\n",
        "      print(f\"Trials for alpha={alpha}, gamma={gamma}, epsilon={epsilon} complete. Average reward: {results[(alpha, gamma, epsilon)]}\")"
      ],
      "metadata": {
        "colab": {
          "base_uri": "https://localhost:8080/"
        },
        "id": "MdlW6B0a7418",
        "outputId": "d344f2dc-e81e-423c-d08a-d00ea19b31b1"
      },
      "execution_count": 33,
      "outputs": [
        {
          "output_type": "stream",
          "name": "stdout",
          "text": [
            "No saved Q-table found. starting fresh.\n",
            "Trial 1 for alpha=0.1, gamma=0.5, epsilon=0.2 complete.\n",
            "Trial 2 for alpha=0.1, gamma=0.5, epsilon=0.2 complete.\n",
            "Trial 3 for alpha=0.1, gamma=0.5, epsilon=0.2 complete.\n",
            "Trials for alpha=0.1, gamma=0.5, epsilon=0.2 complete. Average reward: 88.0\n",
            "Trial 1 for alpha=0.1, gamma=0.5, epsilon=0.4 complete.\n",
            "Trial 2 for alpha=0.1, gamma=0.5, epsilon=0.4 complete.\n",
            "Trial 3 for alpha=0.1, gamma=0.5, epsilon=0.4 complete.\n",
            "Trials for alpha=0.1, gamma=0.5, epsilon=0.4 complete. Average reward: 106.0\n",
            "Trial 1 for alpha=0.1, gamma=0.5, epsilon=0.6 complete.\n",
            "Trial 2 for alpha=0.1, gamma=0.5, epsilon=0.6 complete.\n",
            "Trial 3 for alpha=0.1, gamma=0.5, epsilon=0.6 complete.\n",
            "Trials for alpha=0.1, gamma=0.5, epsilon=0.6 complete. Average reward: 97.33333333333333\n",
            "Trial 1 for alpha=0.1, gamma=0.7, epsilon=0.2 complete.\n",
            "Trial 2 for alpha=0.1, gamma=0.7, epsilon=0.2 complete.\n",
            "Trial 3 for alpha=0.1, gamma=0.7, epsilon=0.2 complete.\n",
            "Trials for alpha=0.1, gamma=0.7, epsilon=0.2 complete. Average reward: 105.66666666666667\n",
            "Trial 1 for alpha=0.1, gamma=0.7, epsilon=0.4 complete.\n",
            "Trial 2 for alpha=0.1, gamma=0.7, epsilon=0.4 complete.\n",
            "Trial 3 for alpha=0.1, gamma=0.7, epsilon=0.4 complete.\n",
            "Trials for alpha=0.1, gamma=0.7, epsilon=0.4 complete. Average reward: 123.66666666666667\n",
            "Trial 1 for alpha=0.1, gamma=0.7, epsilon=0.6 complete.\n",
            "Trial 2 for alpha=0.1, gamma=0.7, epsilon=0.6 complete.\n",
            "Trial 3 for alpha=0.1, gamma=0.7, epsilon=0.6 complete.\n",
            "Trials for alpha=0.1, gamma=0.7, epsilon=0.6 complete. Average reward: 149.0\n",
            "Trial 1 for alpha=0.1, gamma=0.9, epsilon=0.2 complete.\n",
            "Trial 2 for alpha=0.1, gamma=0.9, epsilon=0.2 complete.\n",
            "Trial 3 for alpha=0.1, gamma=0.9, epsilon=0.2 complete.\n",
            "Trials for alpha=0.1, gamma=0.9, epsilon=0.2 complete. Average reward: 151.33333333333334\n",
            "Trial 1 for alpha=0.1, gamma=0.9, epsilon=0.4 complete.\n",
            "Trial 2 for alpha=0.1, gamma=0.9, epsilon=0.4 complete.\n",
            "Trial 3 for alpha=0.1, gamma=0.9, epsilon=0.4 complete.\n",
            "Trials for alpha=0.1, gamma=0.9, epsilon=0.4 complete. Average reward: 151.66666666666666\n",
            "Trial 1 for alpha=0.1, gamma=0.9, epsilon=0.6 complete.\n",
            "Trial 2 for alpha=0.1, gamma=0.9, epsilon=0.6 complete.\n",
            "Trial 3 for alpha=0.1, gamma=0.9, epsilon=0.6 complete.\n",
            "Trials for alpha=0.1, gamma=0.9, epsilon=0.6 complete. Average reward: 170.66666666666666\n",
            "Trial 1 for alpha=0.1, gamma=0.99, epsilon=0.2 complete.\n",
            "Trial 2 for alpha=0.1, gamma=0.99, epsilon=0.2 complete.\n",
            "Trial 3 for alpha=0.1, gamma=0.99, epsilon=0.2 complete.\n",
            "Trials for alpha=0.1, gamma=0.99, epsilon=0.2 complete. Average reward: 353.6666666666667\n",
            "Trial 1 for alpha=0.1, gamma=0.99, epsilon=0.4 complete.\n",
            "Trial 2 for alpha=0.1, gamma=0.99, epsilon=0.4 complete.\n",
            "Trial 3 for alpha=0.1, gamma=0.99, epsilon=0.4 complete.\n",
            "Trials for alpha=0.1, gamma=0.99, epsilon=0.4 complete. Average reward: 127.0\n",
            "Trial 1 for alpha=0.1, gamma=0.99, epsilon=0.6 complete.\n",
            "Trial 2 for alpha=0.1, gamma=0.99, epsilon=0.6 complete.\n",
            "Trial 3 for alpha=0.1, gamma=0.99, epsilon=0.6 complete.\n",
            "Trials for alpha=0.1, gamma=0.99, epsilon=0.6 complete. Average reward: 86.66666666666667\n",
            "Trial 1 for alpha=0.25, gamma=0.5, epsilon=0.2 complete.\n",
            "Trial 2 for alpha=0.25, gamma=0.5, epsilon=0.2 complete.\n",
            "Trial 3 for alpha=0.25, gamma=0.5, epsilon=0.2 complete.\n",
            "Trials for alpha=0.25, gamma=0.5, epsilon=0.2 complete. Average reward: 193.33333333333334\n",
            "Trial 1 for alpha=0.25, gamma=0.5, epsilon=0.4 complete.\n",
            "Trial 2 for alpha=0.25, gamma=0.5, epsilon=0.4 complete.\n",
            "Trial 3 for alpha=0.25, gamma=0.5, epsilon=0.4 complete.\n",
            "Trials for alpha=0.25, gamma=0.5, epsilon=0.4 complete. Average reward: 103.33333333333333\n",
            "Trial 1 for alpha=0.25, gamma=0.5, epsilon=0.6 complete.\n",
            "Trial 2 for alpha=0.25, gamma=0.5, epsilon=0.6 complete.\n",
            "Trial 3 for alpha=0.25, gamma=0.5, epsilon=0.6 complete.\n",
            "Trials for alpha=0.25, gamma=0.5, epsilon=0.6 complete. Average reward: 97.33333333333333\n",
            "Trial 1 for alpha=0.25, gamma=0.7, epsilon=0.2 complete.\n",
            "Trial 2 for alpha=0.25, gamma=0.7, epsilon=0.2 complete.\n",
            "Trial 3 for alpha=0.25, gamma=0.7, epsilon=0.2 complete.\n",
            "Trials for alpha=0.25, gamma=0.7, epsilon=0.2 complete. Average reward: 119.66666666666667\n",
            "Trial 1 for alpha=0.25, gamma=0.7, epsilon=0.4 complete.\n",
            "Trial 2 for alpha=0.25, gamma=0.7, epsilon=0.4 complete.\n",
            "Trial 3 for alpha=0.25, gamma=0.7, epsilon=0.4 complete.\n",
            "Trials for alpha=0.25, gamma=0.7, epsilon=0.4 complete. Average reward: 205.0\n",
            "Trial 1 for alpha=0.25, gamma=0.7, epsilon=0.6 complete.\n",
            "Trial 2 for alpha=0.25, gamma=0.7, epsilon=0.6 complete.\n",
            "Trial 3 for alpha=0.25, gamma=0.7, epsilon=0.6 complete.\n",
            "Trials for alpha=0.25, gamma=0.7, epsilon=0.6 complete. Average reward: 223.0\n",
            "Trial 1 for alpha=0.25, gamma=0.9, epsilon=0.2 complete.\n",
            "Trial 2 for alpha=0.25, gamma=0.9, epsilon=0.2 complete.\n",
            "Trial 3 for alpha=0.25, gamma=0.9, epsilon=0.2 complete.\n",
            "Trials for alpha=0.25, gamma=0.9, epsilon=0.2 complete. Average reward: 189.33333333333334\n",
            "Trial 1 for alpha=0.25, gamma=0.9, epsilon=0.4 complete.\n",
            "Trial 2 for alpha=0.25, gamma=0.9, epsilon=0.4 complete.\n",
            "Trial 3 for alpha=0.25, gamma=0.9, epsilon=0.4 complete.\n",
            "Trials for alpha=0.25, gamma=0.9, epsilon=0.4 complete. Average reward: 176.0\n",
            "Trial 1 for alpha=0.25, gamma=0.9, epsilon=0.6 complete.\n",
            "Trial 2 for alpha=0.25, gamma=0.9, epsilon=0.6 complete.\n",
            "Trial 3 for alpha=0.25, gamma=0.9, epsilon=0.6 complete.\n",
            "Trials for alpha=0.25, gamma=0.9, epsilon=0.6 complete. Average reward: 162.0\n",
            "Trial 1 for alpha=0.25, gamma=0.99, epsilon=0.2 complete.\n",
            "Trial 2 for alpha=0.25, gamma=0.99, epsilon=0.2 complete.\n",
            "Trial 3 for alpha=0.25, gamma=0.99, epsilon=0.2 complete.\n",
            "Trials for alpha=0.25, gamma=0.99, epsilon=0.2 complete. Average reward: 207.0\n",
            "Trial 1 for alpha=0.25, gamma=0.99, epsilon=0.4 complete.\n",
            "Trial 2 for alpha=0.25, gamma=0.99, epsilon=0.4 complete.\n",
            "Trial 3 for alpha=0.25, gamma=0.99, epsilon=0.4 complete.\n",
            "Trials for alpha=0.25, gamma=0.99, epsilon=0.4 complete. Average reward: 93.66666666666667\n",
            "Trial 1 for alpha=0.25, gamma=0.99, epsilon=0.6 complete.\n",
            "Trial 2 for alpha=0.25, gamma=0.99, epsilon=0.6 complete.\n",
            "Trial 3 for alpha=0.25, gamma=0.99, epsilon=0.6 complete.\n",
            "Trials for alpha=0.25, gamma=0.99, epsilon=0.6 complete. Average reward: 170.0\n",
            "Trial 1 for alpha=0.5, gamma=0.5, epsilon=0.2 complete.\n",
            "Trial 2 for alpha=0.5, gamma=0.5, epsilon=0.2 complete.\n",
            "Trial 3 for alpha=0.5, gamma=0.5, epsilon=0.2 complete.\n",
            "Trials for alpha=0.5, gamma=0.5, epsilon=0.2 complete. Average reward: 113.0\n",
            "Trial 1 for alpha=0.5, gamma=0.5, epsilon=0.4 complete.\n",
            "Trial 2 for alpha=0.5, gamma=0.5, epsilon=0.4 complete.\n",
            "Trial 3 for alpha=0.5, gamma=0.5, epsilon=0.4 complete.\n",
            "Trials for alpha=0.5, gamma=0.5, epsilon=0.4 complete. Average reward: 117.66666666666667\n",
            "Trial 1 for alpha=0.5, gamma=0.5, epsilon=0.6 complete.\n",
            "Trial 2 for alpha=0.5, gamma=0.5, epsilon=0.6 complete.\n",
            "Trial 3 for alpha=0.5, gamma=0.5, epsilon=0.6 complete.\n",
            "Trials for alpha=0.5, gamma=0.5, epsilon=0.6 complete. Average reward: 161.0\n",
            "Trial 1 for alpha=0.5, gamma=0.7, epsilon=0.2 complete.\n",
            "Trial 2 for alpha=0.5, gamma=0.7, epsilon=0.2 complete.\n",
            "Trial 3 for alpha=0.5, gamma=0.7, epsilon=0.2 complete.\n",
            "Trials for alpha=0.5, gamma=0.7, epsilon=0.2 complete. Average reward: 159.0\n",
            "Trial 1 for alpha=0.5, gamma=0.7, epsilon=0.4 complete.\n",
            "Trial 2 for alpha=0.5, gamma=0.7, epsilon=0.4 complete.\n",
            "Trial 3 for alpha=0.5, gamma=0.7, epsilon=0.4 complete.\n",
            "Trials for alpha=0.5, gamma=0.7, epsilon=0.4 complete. Average reward: 164.33333333333334\n",
            "Trial 1 for alpha=0.5, gamma=0.7, epsilon=0.6 complete.\n",
            "Trial 2 for alpha=0.5, gamma=0.7, epsilon=0.6 complete.\n",
            "Trial 3 for alpha=0.5, gamma=0.7, epsilon=0.6 complete.\n",
            "Trials for alpha=0.5, gamma=0.7, epsilon=0.6 complete. Average reward: 172.0\n",
            "Trial 1 for alpha=0.5, gamma=0.9, epsilon=0.2 complete.\n",
            "Trial 2 for alpha=0.5, gamma=0.9, epsilon=0.2 complete.\n",
            "Trial 3 for alpha=0.5, gamma=0.9, epsilon=0.2 complete.\n",
            "Trials for alpha=0.5, gamma=0.9, epsilon=0.2 complete. Average reward: 101.33333333333333\n",
            "Trial 1 for alpha=0.5, gamma=0.9, epsilon=0.4 complete.\n",
            "Trial 2 for alpha=0.5, gamma=0.9, epsilon=0.4 complete.\n",
            "Trial 3 for alpha=0.5, gamma=0.9, epsilon=0.4 complete.\n",
            "Trials for alpha=0.5, gamma=0.9, epsilon=0.4 complete. Average reward: 95.66666666666667\n",
            "Trial 1 for alpha=0.5, gamma=0.9, epsilon=0.6 complete.\n",
            "Trial 2 for alpha=0.5, gamma=0.9, epsilon=0.6 complete.\n",
            "Trial 3 for alpha=0.5, gamma=0.9, epsilon=0.6 complete.\n",
            "Trials for alpha=0.5, gamma=0.9, epsilon=0.6 complete. Average reward: 186.0\n",
            "Trial 1 for alpha=0.5, gamma=0.99, epsilon=0.2 complete.\n",
            "Trial 2 for alpha=0.5, gamma=0.99, epsilon=0.2 complete.\n",
            "Trial 3 for alpha=0.5, gamma=0.99, epsilon=0.2 complete.\n",
            "Trials for alpha=0.5, gamma=0.99, epsilon=0.2 complete. Average reward: 123.66666666666667\n",
            "Trial 1 for alpha=0.5, gamma=0.99, epsilon=0.4 complete.\n",
            "Trial 2 for alpha=0.5, gamma=0.99, epsilon=0.4 complete.\n",
            "Trial 3 for alpha=0.5, gamma=0.99, epsilon=0.4 complete.\n",
            "Trials for alpha=0.5, gamma=0.99, epsilon=0.4 complete. Average reward: 122.66666666666667\n",
            "Trial 1 for alpha=0.5, gamma=0.99, epsilon=0.6 complete.\n",
            "Trial 2 for alpha=0.5, gamma=0.99, epsilon=0.6 complete.\n",
            "Trial 3 for alpha=0.5, gamma=0.99, epsilon=0.6 complete.\n",
            "Trials for alpha=0.5, gamma=0.99, epsilon=0.6 complete. Average reward: 37.666666666666664\n",
            "Trial 1 for alpha=0.75, gamma=0.5, epsilon=0.2 complete.\n",
            "Trial 2 for alpha=0.75, gamma=0.5, epsilon=0.2 complete.\n",
            "Trial 3 for alpha=0.75, gamma=0.5, epsilon=0.2 complete.\n",
            "Trials for alpha=0.75, gamma=0.5, epsilon=0.2 complete. Average reward: 137.0\n",
            "Trial 1 for alpha=0.75, gamma=0.5, epsilon=0.4 complete.\n",
            "Trial 2 for alpha=0.75, gamma=0.5, epsilon=0.4 complete.\n",
            "Trial 3 for alpha=0.75, gamma=0.5, epsilon=0.4 complete.\n",
            "Trials for alpha=0.75, gamma=0.5, epsilon=0.4 complete. Average reward: 85.0\n",
            "Trial 1 for alpha=0.75, gamma=0.5, epsilon=0.6 complete.\n",
            "Trial 2 for alpha=0.75, gamma=0.5, epsilon=0.6 complete.\n",
            "Trial 3 for alpha=0.75, gamma=0.5, epsilon=0.6 complete.\n",
            "Trials for alpha=0.75, gamma=0.5, epsilon=0.6 complete. Average reward: 66.66666666666667\n",
            "Trial 1 for alpha=0.75, gamma=0.7, epsilon=0.2 complete.\n",
            "Trial 2 for alpha=0.75, gamma=0.7, epsilon=0.2 complete.\n",
            "Trial 3 for alpha=0.75, gamma=0.7, epsilon=0.2 complete.\n",
            "Trials for alpha=0.75, gamma=0.7, epsilon=0.2 complete. Average reward: 114.0\n",
            "Trial 1 for alpha=0.75, gamma=0.7, epsilon=0.4 complete.\n",
            "Trial 2 for alpha=0.75, gamma=0.7, epsilon=0.4 complete.\n",
            "Trial 3 for alpha=0.75, gamma=0.7, epsilon=0.4 complete.\n",
            "Trials for alpha=0.75, gamma=0.7, epsilon=0.4 complete. Average reward: 132.0\n",
            "Trial 1 for alpha=0.75, gamma=0.7, epsilon=0.6 complete.\n",
            "Trial 2 for alpha=0.75, gamma=0.7, epsilon=0.6 complete.\n",
            "Trial 3 for alpha=0.75, gamma=0.7, epsilon=0.6 complete.\n",
            "Trials for alpha=0.75, gamma=0.7, epsilon=0.6 complete. Average reward: 145.0\n",
            "Trial 1 for alpha=0.75, gamma=0.9, epsilon=0.2 complete.\n",
            "Trial 2 for alpha=0.75, gamma=0.9, epsilon=0.2 complete.\n",
            "Trial 3 for alpha=0.75, gamma=0.9, epsilon=0.2 complete.\n",
            "Trials for alpha=0.75, gamma=0.9, epsilon=0.2 complete. Average reward: 103.33333333333333\n",
            "Trial 1 for alpha=0.75, gamma=0.9, epsilon=0.4 complete.\n",
            "Trial 2 for alpha=0.75, gamma=0.9, epsilon=0.4 complete.\n",
            "Trial 3 for alpha=0.75, gamma=0.9, epsilon=0.4 complete.\n",
            "Trials for alpha=0.75, gamma=0.9, epsilon=0.4 complete. Average reward: 195.66666666666666\n",
            "Trial 1 for alpha=0.75, gamma=0.9, epsilon=0.6 complete.\n",
            "Trial 2 for alpha=0.75, gamma=0.9, epsilon=0.6 complete.\n",
            "Trial 3 for alpha=0.75, gamma=0.9, epsilon=0.6 complete.\n",
            "Trials for alpha=0.75, gamma=0.9, epsilon=0.6 complete. Average reward: 115.33333333333333\n",
            "Trial 1 for alpha=0.75, gamma=0.99, epsilon=0.2 complete.\n",
            "Trial 2 for alpha=0.75, gamma=0.99, epsilon=0.2 complete.\n",
            "Trial 3 for alpha=0.75, gamma=0.99, epsilon=0.2 complete.\n",
            "Trials for alpha=0.75, gamma=0.99, epsilon=0.2 complete. Average reward: 179.0\n",
            "Trial 1 for alpha=0.75, gamma=0.99, epsilon=0.4 complete.\n",
            "Trial 2 for alpha=0.75, gamma=0.99, epsilon=0.4 complete.\n",
            "Trial 3 for alpha=0.75, gamma=0.99, epsilon=0.4 complete.\n",
            "Trials for alpha=0.75, gamma=0.99, epsilon=0.4 complete. Average reward: 49.666666666666664\n",
            "Trial 1 for alpha=0.75, gamma=0.99, epsilon=0.6 complete.\n",
            "Trial 2 for alpha=0.75, gamma=0.99, epsilon=0.6 complete.\n",
            "Trial 3 for alpha=0.75, gamma=0.99, epsilon=0.6 complete.\n",
            "Trials for alpha=0.75, gamma=0.99, epsilon=0.6 complete. Average reward: 52.0\n"
          ]
        }
      ]
    },
    {
      "cell_type": "code",
      "source": [
        "best_params = max(results, key=results.get)\n",
        "best_reward = results[best_params]\n",
        "\n",
        "print(f\"Best Hyperparameters: {best_params}\")\n",
        "print(f\"Best Average Reward: {best_reward}\")"
      ],
      "metadata": {
        "colab": {
          "base_uri": "https://localhost:8080/"
        },
        "id": "B1rzQj9ZAHpZ",
        "outputId": "17a3e1d2-deb7-4afc-d19b-958c1cc83009"
      },
      "execution_count": 34,
      "outputs": [
        {
          "output_type": "stream",
          "name": "stdout",
          "text": [
            "Best Hyperparameters: (0.1, 0.99, 0.2)\n",
            "Best Average Reward: 353.6666666666667\n"
          ]
        }
      ]
    },
    {
      "cell_type": "markdown",
      "source": [
        "We know now that the best learning rate is on the lower end of 0 to 1, the best discount rate is on the higher end of 0 to 1 and the best epsilon value is on the lower end of 0 to 1.\n",
        "\n",
        "Let's run the hyperparameter tuning again, but with more values around the 'best range' specified for each value."
      ],
      "metadata": {
        "id": "JM3ErfYc7mPi"
      }
    },
    {
      "cell_type": "code",
      "source": [
        "alphas = [0.01, 0.05, 0.1]\n",
        "gammas = [0.99, 0.995, 0.999]\n",
        "epsilons = [0.15, 0.20, 0.25]\n",
        "\n",
        "num_trials = 5  # more trials - outliers don't change the average too much\n",
        "num_episodes = 500\n",
        "\n",
        "results = {}\n",
        "\n",
        "for alpha in alphas:\n",
        "  for gamma in gammas:\n",
        "    for epsilon in epsilons:\n",
        "      trial_rewards = []\n",
        "      for trial in range(num_trials):\n",
        "        agent = MonteCarloAgent(env.action_space.n, alpha=alpha, gamma=gamma, epsilon=epsilon)\n",
        "        agent.reset_q_table()\n",
        "        for episode in range(num_episodes):\n",
        "          observation = env.reset()\n",
        "          episode = []\n",
        "          episode_rewards = []  # rewards for each episode within a trial\n",
        "          cumulative_reward = 0\n",
        "          done = False\n",
        "\n",
        "          while not done:\n",
        "            state = discretize_state(observation)\n",
        "            action = agent.choose_action(state)\n",
        "            observation, reward, done, info = env.step(action)\n",
        "\n",
        "            cart_pos, cart_vel, pole_angle, pole_vel = observation\n",
        "\n",
        "            # termination check\n",
        "            if abs(pole_angle) > 0.2094 or abs(cart_pos) > 2.4:\n",
        "              done = True\n",
        "\n",
        "            episode.append((state, action, reward))\n",
        "            cumulative_reward += reward\n",
        "\n",
        "          agent.update_Q(episode)\n",
        "          agent.decay_epsilon()\n",
        "          episode_rewards.append(cumulative_reward)  # rewards for episode\n",
        "\n",
        "        trial_rewards.append(np.mean(episode_rewards))  # average reward for trial\n",
        "        print(f\"Trial {trial + 1} for alpha={alpha}, gamma={gamma}, epsilon={epsilon} complete.\")\n",
        "\n",
        "      results[(alpha, gamma, epsilon)] = np.mean(trial_rewards)  # average reward across trials\n",
        "      print(f\"Trials for alpha={alpha}, gamma={gamma}, epsilon={epsilon} complete. Average reward: {results[(alpha, gamma, epsilon)]}\")"
      ],
      "metadata": {
        "colab": {
          "base_uri": "https://localhost:8080/"
        },
        "id": "MYKBQDR67Pm9",
        "outputId": "291f5a94-5cf3-4484-eded-96cccbc81b12"
      },
      "execution_count": 37,
      "outputs": [
        {
          "output_type": "stream",
          "name": "stdout",
          "text": [
            "Trial 1 for alpha=0.01, gamma=0.99, epsilon=0.15 complete.\n",
            "Trial 2 for alpha=0.01, gamma=0.99, epsilon=0.15 complete.\n",
            "Trial 3 for alpha=0.01, gamma=0.99, epsilon=0.15 complete.\n",
            "Trial 4 for alpha=0.01, gamma=0.99, epsilon=0.15 complete.\n",
            "Trial 5 for alpha=0.01, gamma=0.99, epsilon=0.15 complete.\n",
            "Trials for alpha=0.01, gamma=0.99, epsilon=0.15 complete. Average reward: 111.4\n",
            "Trial 1 for alpha=0.01, gamma=0.99, epsilon=0.2 complete.\n",
            "Trial 2 for alpha=0.01, gamma=0.99, epsilon=0.2 complete.\n",
            "Trial 3 for alpha=0.01, gamma=0.99, epsilon=0.2 complete.\n",
            "Trial 4 for alpha=0.01, gamma=0.99, epsilon=0.2 complete.\n",
            "Trial 5 for alpha=0.01, gamma=0.99, epsilon=0.2 complete.\n",
            "Trials for alpha=0.01, gamma=0.99, epsilon=0.2 complete. Average reward: 185.8\n",
            "Trial 1 for alpha=0.01, gamma=0.99, epsilon=0.25 complete.\n",
            "Trial 2 for alpha=0.01, gamma=0.99, epsilon=0.25 complete.\n",
            "Trial 3 for alpha=0.01, gamma=0.99, epsilon=0.25 complete.\n",
            "Trial 4 for alpha=0.01, gamma=0.99, epsilon=0.25 complete.\n",
            "Trial 5 for alpha=0.01, gamma=0.99, epsilon=0.25 complete.\n",
            "Trials for alpha=0.01, gamma=0.99, epsilon=0.25 complete. Average reward: 140.2\n",
            "Trial 1 for alpha=0.01, gamma=0.995, epsilon=0.15 complete.\n",
            "Trial 2 for alpha=0.01, gamma=0.995, epsilon=0.15 complete.\n",
            "Trial 3 for alpha=0.01, gamma=0.995, epsilon=0.15 complete.\n",
            "Trial 4 for alpha=0.01, gamma=0.995, epsilon=0.15 complete.\n",
            "Trial 5 for alpha=0.01, gamma=0.995, epsilon=0.15 complete.\n",
            "Trials for alpha=0.01, gamma=0.995, epsilon=0.15 complete. Average reward: 164.2\n",
            "Trial 1 for alpha=0.01, gamma=0.995, epsilon=0.2 complete.\n",
            "Trial 2 for alpha=0.01, gamma=0.995, epsilon=0.2 complete.\n",
            "Trial 3 for alpha=0.01, gamma=0.995, epsilon=0.2 complete.\n",
            "Trial 4 for alpha=0.01, gamma=0.995, epsilon=0.2 complete.\n",
            "Trial 5 for alpha=0.01, gamma=0.995, epsilon=0.2 complete.\n",
            "Trials for alpha=0.01, gamma=0.995, epsilon=0.2 complete. Average reward: 123.8\n",
            "Trial 1 for alpha=0.01, gamma=0.995, epsilon=0.25 complete.\n",
            "Trial 2 for alpha=0.01, gamma=0.995, epsilon=0.25 complete.\n",
            "Trial 3 for alpha=0.01, gamma=0.995, epsilon=0.25 complete.\n",
            "Trial 4 for alpha=0.01, gamma=0.995, epsilon=0.25 complete.\n",
            "Trial 5 for alpha=0.01, gamma=0.995, epsilon=0.25 complete.\n",
            "Trials for alpha=0.01, gamma=0.995, epsilon=0.25 complete. Average reward: 176.8\n",
            "Trial 1 for alpha=0.01, gamma=0.999, epsilon=0.15 complete.\n",
            "Trial 2 for alpha=0.01, gamma=0.999, epsilon=0.15 complete.\n",
            "Trial 3 for alpha=0.01, gamma=0.999, epsilon=0.15 complete.\n",
            "Trial 4 for alpha=0.01, gamma=0.999, epsilon=0.15 complete.\n",
            "Trial 5 for alpha=0.01, gamma=0.999, epsilon=0.15 complete.\n",
            "Trials for alpha=0.01, gamma=0.999, epsilon=0.15 complete. Average reward: 132.4\n",
            "Trial 1 for alpha=0.01, gamma=0.999, epsilon=0.2 complete.\n",
            "Trial 2 for alpha=0.01, gamma=0.999, epsilon=0.2 complete.\n",
            "Trial 3 for alpha=0.01, gamma=0.999, epsilon=0.2 complete.\n",
            "Trial 4 for alpha=0.01, gamma=0.999, epsilon=0.2 complete.\n",
            "Trial 5 for alpha=0.01, gamma=0.999, epsilon=0.2 complete.\n",
            "Trials for alpha=0.01, gamma=0.999, epsilon=0.2 complete. Average reward: 246.4\n",
            "Trial 1 for alpha=0.01, gamma=0.999, epsilon=0.25 complete.\n",
            "Trial 2 for alpha=0.01, gamma=0.999, epsilon=0.25 complete.\n",
            "Trial 3 for alpha=0.01, gamma=0.999, epsilon=0.25 complete.\n",
            "Trial 4 for alpha=0.01, gamma=0.999, epsilon=0.25 complete.\n",
            "Trial 5 for alpha=0.01, gamma=0.999, epsilon=0.25 complete.\n",
            "Trials for alpha=0.01, gamma=0.999, epsilon=0.25 complete. Average reward: 137.0\n",
            "Trial 1 for alpha=0.05, gamma=0.99, epsilon=0.15 complete.\n",
            "Trial 2 for alpha=0.05, gamma=0.99, epsilon=0.15 complete.\n",
            "Trial 3 for alpha=0.05, gamma=0.99, epsilon=0.15 complete.\n",
            "Trial 4 for alpha=0.05, gamma=0.99, epsilon=0.15 complete.\n",
            "Trial 5 for alpha=0.05, gamma=0.99, epsilon=0.15 complete.\n",
            "Trials for alpha=0.05, gamma=0.99, epsilon=0.15 complete. Average reward: 352.2\n",
            "Trial 1 for alpha=0.05, gamma=0.99, epsilon=0.2 complete.\n",
            "Trial 2 for alpha=0.05, gamma=0.99, epsilon=0.2 complete.\n",
            "Trial 3 for alpha=0.05, gamma=0.99, epsilon=0.2 complete.\n",
            "Trial 4 for alpha=0.05, gamma=0.99, epsilon=0.2 complete.\n",
            "Trial 5 for alpha=0.05, gamma=0.99, epsilon=0.2 complete.\n",
            "Trials for alpha=0.05, gamma=0.99, epsilon=0.2 complete. Average reward: 153.2\n",
            "Trial 1 for alpha=0.05, gamma=0.99, epsilon=0.25 complete.\n",
            "Trial 2 for alpha=0.05, gamma=0.99, epsilon=0.25 complete.\n",
            "Trial 3 for alpha=0.05, gamma=0.99, epsilon=0.25 complete.\n",
            "Trial 4 for alpha=0.05, gamma=0.99, epsilon=0.25 complete.\n",
            "Trial 5 for alpha=0.05, gamma=0.99, epsilon=0.25 complete.\n",
            "Trials for alpha=0.05, gamma=0.99, epsilon=0.25 complete. Average reward: 315.2\n",
            "Trial 1 for alpha=0.05, gamma=0.995, epsilon=0.15 complete.\n",
            "Trial 2 for alpha=0.05, gamma=0.995, epsilon=0.15 complete.\n",
            "Trial 3 for alpha=0.05, gamma=0.995, epsilon=0.15 complete.\n",
            "Trial 4 for alpha=0.05, gamma=0.995, epsilon=0.15 complete.\n",
            "Trial 5 for alpha=0.05, gamma=0.995, epsilon=0.15 complete.\n",
            "Trials for alpha=0.05, gamma=0.995, epsilon=0.15 complete. Average reward: 253.4\n",
            "Trial 1 for alpha=0.05, gamma=0.995, epsilon=0.2 complete.\n",
            "Trial 2 for alpha=0.05, gamma=0.995, epsilon=0.2 complete.\n",
            "Trial 3 for alpha=0.05, gamma=0.995, epsilon=0.2 complete.\n",
            "Trial 4 for alpha=0.05, gamma=0.995, epsilon=0.2 complete.\n",
            "Trial 5 for alpha=0.05, gamma=0.995, epsilon=0.2 complete.\n",
            "Trials for alpha=0.05, gamma=0.995, epsilon=0.2 complete. Average reward: 177.8\n",
            "Trial 1 for alpha=0.05, gamma=0.995, epsilon=0.25 complete.\n",
            "Trial 2 for alpha=0.05, gamma=0.995, epsilon=0.25 complete.\n",
            "Trial 3 for alpha=0.05, gamma=0.995, epsilon=0.25 complete.\n",
            "Trial 4 for alpha=0.05, gamma=0.995, epsilon=0.25 complete.\n",
            "Trial 5 for alpha=0.05, gamma=0.995, epsilon=0.25 complete.\n",
            "Trials for alpha=0.05, gamma=0.995, epsilon=0.25 complete. Average reward: 326.0\n",
            "Trial 1 for alpha=0.05, gamma=0.999, epsilon=0.15 complete.\n",
            "Trial 2 for alpha=0.05, gamma=0.999, epsilon=0.15 complete.\n",
            "Trial 3 for alpha=0.05, gamma=0.999, epsilon=0.15 complete.\n",
            "Trial 4 for alpha=0.05, gamma=0.999, epsilon=0.15 complete.\n",
            "Trial 5 for alpha=0.05, gamma=0.999, epsilon=0.15 complete.\n",
            "Trials for alpha=0.05, gamma=0.999, epsilon=0.15 complete. Average reward: 283.2\n",
            "Trial 1 for alpha=0.05, gamma=0.999, epsilon=0.2 complete.\n",
            "Trial 2 for alpha=0.05, gamma=0.999, epsilon=0.2 complete.\n",
            "Trial 3 for alpha=0.05, gamma=0.999, epsilon=0.2 complete.\n",
            "Trial 4 for alpha=0.05, gamma=0.999, epsilon=0.2 complete.\n",
            "Trial 5 for alpha=0.05, gamma=0.999, epsilon=0.2 complete.\n",
            "Trials for alpha=0.05, gamma=0.999, epsilon=0.2 complete. Average reward: 163.2\n",
            "Trial 1 for alpha=0.05, gamma=0.999, epsilon=0.25 complete.\n",
            "Trial 2 for alpha=0.05, gamma=0.999, epsilon=0.25 complete.\n",
            "Trial 3 for alpha=0.05, gamma=0.999, epsilon=0.25 complete.\n",
            "Trial 4 for alpha=0.05, gamma=0.999, epsilon=0.25 complete.\n",
            "Trial 5 for alpha=0.05, gamma=0.999, epsilon=0.25 complete.\n",
            "Trials for alpha=0.05, gamma=0.999, epsilon=0.25 complete. Average reward: 158.2\n",
            "Trial 1 for alpha=0.1, gamma=0.99, epsilon=0.15 complete.\n",
            "Trial 2 for alpha=0.1, gamma=0.99, epsilon=0.15 complete.\n",
            "Trial 3 for alpha=0.1, gamma=0.99, epsilon=0.15 complete.\n",
            "Trial 4 for alpha=0.1, gamma=0.99, epsilon=0.15 complete.\n",
            "Trial 5 for alpha=0.1, gamma=0.99, epsilon=0.15 complete.\n",
            "Trials for alpha=0.1, gamma=0.99, epsilon=0.15 complete. Average reward: 216.4\n",
            "Trial 1 for alpha=0.1, gamma=0.99, epsilon=0.2 complete.\n",
            "Trial 2 for alpha=0.1, gamma=0.99, epsilon=0.2 complete.\n",
            "Trial 3 for alpha=0.1, gamma=0.99, epsilon=0.2 complete.\n",
            "Trial 4 for alpha=0.1, gamma=0.99, epsilon=0.2 complete.\n",
            "Trial 5 for alpha=0.1, gamma=0.99, epsilon=0.2 complete.\n",
            "Trials for alpha=0.1, gamma=0.99, epsilon=0.2 complete. Average reward: 255.0\n",
            "Trial 1 for alpha=0.1, gamma=0.99, epsilon=0.25 complete.\n",
            "Trial 2 for alpha=0.1, gamma=0.99, epsilon=0.25 complete.\n",
            "Trial 3 for alpha=0.1, gamma=0.99, epsilon=0.25 complete.\n",
            "Trial 4 for alpha=0.1, gamma=0.99, epsilon=0.25 complete.\n",
            "Trial 5 for alpha=0.1, gamma=0.99, epsilon=0.25 complete.\n",
            "Trials for alpha=0.1, gamma=0.99, epsilon=0.25 complete. Average reward: 189.0\n",
            "Trial 1 for alpha=0.1, gamma=0.995, epsilon=0.15 complete.\n",
            "Trial 2 for alpha=0.1, gamma=0.995, epsilon=0.15 complete.\n",
            "Trial 3 for alpha=0.1, gamma=0.995, epsilon=0.15 complete.\n",
            "Trial 4 for alpha=0.1, gamma=0.995, epsilon=0.15 complete.\n",
            "Trial 5 for alpha=0.1, gamma=0.995, epsilon=0.15 complete.\n",
            "Trials for alpha=0.1, gamma=0.995, epsilon=0.15 complete. Average reward: 275.2\n",
            "Trial 1 for alpha=0.1, gamma=0.995, epsilon=0.2 complete.\n",
            "Trial 2 for alpha=0.1, gamma=0.995, epsilon=0.2 complete.\n",
            "Trial 3 for alpha=0.1, gamma=0.995, epsilon=0.2 complete.\n",
            "Trial 4 for alpha=0.1, gamma=0.995, epsilon=0.2 complete.\n",
            "Trial 5 for alpha=0.1, gamma=0.995, epsilon=0.2 complete.\n",
            "Trials for alpha=0.1, gamma=0.995, epsilon=0.2 complete. Average reward: 193.4\n",
            "Trial 1 for alpha=0.1, gamma=0.995, epsilon=0.25 complete.\n",
            "Trial 2 for alpha=0.1, gamma=0.995, epsilon=0.25 complete.\n",
            "Trial 3 for alpha=0.1, gamma=0.995, epsilon=0.25 complete.\n",
            "Trial 4 for alpha=0.1, gamma=0.995, epsilon=0.25 complete.\n",
            "Trial 5 for alpha=0.1, gamma=0.995, epsilon=0.25 complete.\n",
            "Trials for alpha=0.1, gamma=0.995, epsilon=0.25 complete. Average reward: 188.8\n",
            "Trial 1 for alpha=0.1, gamma=0.999, epsilon=0.15 complete.\n",
            "Trial 2 for alpha=0.1, gamma=0.999, epsilon=0.15 complete.\n",
            "Trial 3 for alpha=0.1, gamma=0.999, epsilon=0.15 complete.\n",
            "Trial 4 for alpha=0.1, gamma=0.999, epsilon=0.15 complete.\n",
            "Trial 5 for alpha=0.1, gamma=0.999, epsilon=0.15 complete.\n",
            "Trials for alpha=0.1, gamma=0.999, epsilon=0.15 complete. Average reward: 220.6\n",
            "Trial 1 for alpha=0.1, gamma=0.999, epsilon=0.2 complete.\n",
            "Trial 2 for alpha=0.1, gamma=0.999, epsilon=0.2 complete.\n",
            "Trial 3 for alpha=0.1, gamma=0.999, epsilon=0.2 complete.\n",
            "Trial 4 for alpha=0.1, gamma=0.999, epsilon=0.2 complete.\n",
            "Trial 5 for alpha=0.1, gamma=0.999, epsilon=0.2 complete.\n",
            "Trials for alpha=0.1, gamma=0.999, epsilon=0.2 complete. Average reward: 161.4\n",
            "Trial 1 for alpha=0.1, gamma=0.999, epsilon=0.25 complete.\n",
            "Trial 2 for alpha=0.1, gamma=0.999, epsilon=0.25 complete.\n",
            "Trial 3 for alpha=0.1, gamma=0.999, epsilon=0.25 complete.\n",
            "Trial 4 for alpha=0.1, gamma=0.999, epsilon=0.25 complete.\n",
            "Trial 5 for alpha=0.1, gamma=0.999, epsilon=0.25 complete.\n",
            "Trials for alpha=0.1, gamma=0.999, epsilon=0.25 complete. Average reward: 189.8\n"
          ]
        }
      ]
    },
    {
      "cell_type": "code",
      "source": [
        "best_params = max(results, key=results.get)\n",
        "best_reward = results[best_params]\n",
        "\n",
        "print(f\"Best Hyperparameters: {best_params}\")\n",
        "print(f\"Best Average Reward: {best_reward}\")"
      ],
      "metadata": {
        "colab": {
          "base_uri": "https://localhost:8080/"
        },
        "id": "01Yco38FE5b7",
        "outputId": "2c78462b-2876-4145-b43b-a7cef86d28d2"
      },
      "execution_count": 38,
      "outputs": [
        {
          "output_type": "stream",
          "name": "stdout",
          "text": [
            "Best Hyperparameters: (0.05, 0.99, 0.15)\n",
            "Best Average Reward: 352.2\n"
          ]
        }
      ]
    },
    {
      "cell_type": "markdown",
      "source": [
        "The best hyperparameters are as follows:\n",
        "\n",
        "Alpha = 0.05\n",
        "\n",
        "Gamma = 0.99\n",
        "\n",
        "Epsilon = 0.15, 15% exploration\n",
        "\n",
        "Now, train the agent using the best combination of hyperparameters for 10000 episodes - or until best performance."
      ],
      "metadata": {
        "id": "Rd0tmB-JGVoI"
      }
    },
    {
      "cell_type": "code",
      "source": [
        "env = gym.make(\"CartPole-v1\")\n",
        "agent = MonteCarloAgent(env.action_space.n, alpha=0.05, gamma=0.99, epsilon=0.15)\n",
        "agent.reset_q_table()\n",
        "\n",
        "#train\n",
        "episode_results = []\n",
        "episode_num = 0\n",
        "consistent = False\n",
        "\n",
        "while not consistent:\n",
        "  observation = env.reset()\n",
        "  episode = []\n",
        "  cumulative_reward = 0\n",
        "  done = False\n",
        "\n",
        "  while not done:\n",
        "    state = discretize_state(observation)\n",
        "    action = agent.choose_action(state)\n",
        "    observation, reward, done, info = env.step(action)\n",
        "\n",
        "    cart_pos, cart_vel, pole_angle, pole_vel = observation\n",
        "\n",
        "    # termination check based on constraints\n",
        "    if abs(pole_angle) > 0.2094 or abs(cart_pos) > 2.4:\n",
        "        done = True  # terminate episode\n",
        "\n",
        "    episode.append((state, action, reward))\n",
        "    cumulative_reward += reward\n",
        "\n",
        "  agent.update_Q(episode)\n",
        "  episode_num += 1\n",
        "\n",
        "  agent.decay_epsilon()\n",
        "  episode_results.append(cumulative_reward)\n",
        "\n",
        "  # if results = 500 for last 100 episodes, stop training\n",
        "  if episode_num >= 100:\n",
        "    score = episode_results[-100:]\n",
        "    if (episode_num+1) % 100 == 0:\n",
        "      print(f\"Episode {episode_num + 1}: Score = {np.mean(score)}\") # score is the avg rewards of last 100 episodes\n",
        "    if np.mean(score) == 500 or episode_num == 10000:\n",
        "      consistent = True\n",
        "      print(\"Training stopped due to consistent performance.\")\n"
      ],
      "metadata": {
        "colab": {
          "base_uri": "https://localhost:8080/"
        },
        "id": "yOutmavkGmev",
        "outputId": "bf2bf623-b46e-49f4-9a84-aea314c8c325"
      },
      "execution_count": 39,
      "outputs": [
        {
          "output_type": "stream",
          "name": "stdout",
          "text": [
            "Episode 200: Score = 193.61\n",
            "Episode 300: Score = 187.95\n",
            "Episode 400: Score = 220.52\n",
            "Episode 500: Score = 181.64\n",
            "Episode 600: Score = 267.38\n",
            "Episode 700: Score = 212.33\n",
            "Episode 800: Score = 227.67\n",
            "Episode 900: Score = 214.31\n",
            "Episode 1000: Score = 224.33\n",
            "Episode 1100: Score = 239.74\n",
            "Episode 1200: Score = 176.47\n",
            "Episode 1300: Score = 403.71\n",
            "Episode 1400: Score = 360.95\n",
            "Episode 1500: Score = 369.05\n",
            "Episode 1600: Score = 359.03\n",
            "Episode 1700: Score = 267.95\n",
            "Episode 1800: Score = 342.61\n",
            "Episode 1900: Score = 341.37\n",
            "Episode 2000: Score = 285.46\n",
            "Episode 2100: Score = 334.94\n",
            "Episode 2200: Score = 355.79\n",
            "Episode 2300: Score = 364.66\n",
            "Episode 2400: Score = 273.97\n",
            "Episode 2500: Score = 371.96\n",
            "Episode 2600: Score = 370.71\n",
            "Episode 2700: Score = 276.23\n",
            "Episode 2800: Score = 358.17\n",
            "Episode 2900: Score = 322.76\n",
            "Episode 3000: Score = 436.1\n",
            "Episode 3100: Score = 362.97\n",
            "Episode 3200: Score = 415.0\n",
            "Episode 3300: Score = 291.31\n",
            "Episode 3400: Score = 282.46\n",
            "Episode 3500: Score = 322.8\n",
            "Episode 3600: Score = 295.19\n",
            "Episode 3700: Score = 165.45\n",
            "Episode 3800: Score = 295.63\n",
            "Episode 3900: Score = 384.9\n",
            "Episode 4000: Score = 306.74\n",
            "Episode 4100: Score = 372.0\n",
            "Episode 4200: Score = 305.69\n",
            "Episode 4300: Score = 265.86\n",
            "Episode 4400: Score = 338.16\n",
            "Episode 4500: Score = 372.9\n",
            "Episode 4600: Score = 228.19\n",
            "Episode 4700: Score = 260.45\n",
            "Episode 4800: Score = 348.29\n",
            "Episode 4900: Score = 318.77\n",
            "Episode 5000: Score = 309.51\n",
            "Episode 5100: Score = 285.93\n",
            "Episode 5200: Score = 397.31\n",
            "Episode 5300: Score = 371.96\n",
            "Episode 5400: Score = 399.32\n",
            "Episode 5500: Score = 410.02\n",
            "Episode 5600: Score = 320.8\n",
            "Episode 5700: Score = 291.35\n",
            "Episode 5800: Score = 250.47\n",
            "Episode 5900: Score = 315.14\n",
            "Episode 6000: Score = 372.9\n",
            "Episode 6100: Score = 372.88\n",
            "Episode 6200: Score = 404.37\n",
            "Episode 6300: Score = 398.36\n",
            "Episode 6400: Score = 188.64\n",
            "Episode 6500: Score = 348.0\n",
            "Episode 6600: Score = 360.15\n",
            "Episode 6700: Score = 368.17\n",
            "Episode 6800: Score = 309.58\n",
            "Episode 6900: Score = 269.08\n",
            "Episode 7000: Score = 112.69\n",
            "Episode 7100: Score = 273.23\n",
            "Episode 7200: Score = 283.59\n",
            "Episode 7300: Score = 272.97\n",
            "Episode 7400: Score = 322.48\n",
            "Episode 7500: Score = 375.39\n",
            "Episode 7600: Score = 397.92\n",
            "Episode 7700: Score = 259.83\n",
            "Episode 7800: Score = 340.12\n",
            "Episode 7900: Score = 222.71\n",
            "Episode 8000: Score = 307.09\n",
            "Episode 8100: Score = 274.78\n",
            "Episode 8200: Score = 346.95\n",
            "Episode 8300: Score = 259.81\n",
            "Episode 8400: Score = 230.56\n",
            "Episode 8500: Score = 296.69\n",
            "Episode 8600: Score = 296.29\n",
            "Episode 8700: Score = 298.16\n",
            "Episode 8800: Score = 312.95\n",
            "Episode 8900: Score = 375.4\n",
            "Episode 9000: Score = 313.77\n",
            "Episode 9100: Score = 313.45\n",
            "Episode 9200: Score = 290.36\n",
            "Episode 9300: Score = 302.42\n",
            "Episode 9400: Score = 314.19\n",
            "Episode 9500: Score = 288.7\n",
            "Episode 9600: Score = 329.19\n",
            "Episode 9700: Score = 298.9\n",
            "Episode 9800: Score = 322.26\n",
            "Episode 9900: Score = 332.14\n",
            "Episode 10000: Score = 330.2\n",
            "Training stopped due to consistent performance.\n"
          ]
        }
      ]
    },
    {
      "cell_type": "markdown",
      "source": [
        "## Task 2: Demonstrate the effectiveness of the RL agent"
      ],
      "metadata": {
        "id": "-XtIQ0Rti1gm"
      }
    },
    {
      "cell_type": "markdown",
      "source": [
        "For this task, the MC agent developed in Task 1 plays the game for 100 episodes. The cumulative reward for each round is recorded and plotted. A sample plotting code is given below."
      ],
      "metadata": {
        "id": "djBEShf0kGI4"
      }
    },
    {
      "cell_type": "code",
      "source": [
        "eval_rewards = []\n",
        "num_eval_episodes = 100\n",
        "\n",
        "for episode_num in range(num_eval_episodes):\n",
        "    observation = env.reset()\n",
        "    episode_reward = 0\n",
        "    done = False\n",
        "\n",
        "    while not done:\n",
        "      state = discretize_state(observation)\n",
        "      action = agent.choose_action(state)\n",
        "      observation, reward, done, info = env.step(action)\n",
        "      episode_reward += reward\n",
        "\n",
        "    eval_rewards.append(episode_reward)\n",
        "    print(f\"Evaluation Episode {episode_num + 1}: Reward = {episode_reward}\")"
      ],
      "metadata": {
        "colab": {
          "base_uri": "https://localhost:8080/"
        },
        "id": "9qnN-9taoNPC",
        "outputId": "cfae363b-c64a-4a13-858e-0c847bb1fa57"
      },
      "execution_count": 40,
      "outputs": [
        {
          "output_type": "stream",
          "name": "stdout",
          "text": [
            "Evaluation Episode 1: Reward = 500.0\n",
            "Evaluation Episode 2: Reward = 500.0\n",
            "Evaluation Episode 3: Reward = 500.0\n",
            "Evaluation Episode 4: Reward = 500.0\n",
            "Evaluation Episode 5: Reward = 500.0\n",
            "Evaluation Episode 6: Reward = 500.0\n",
            "Evaluation Episode 7: Reward = 500.0\n",
            "Evaluation Episode 8: Reward = 500.0\n",
            "Evaluation Episode 9: Reward = 500.0\n",
            "Evaluation Episode 10: Reward = 500.0\n",
            "Evaluation Episode 11: Reward = 500.0\n",
            "Evaluation Episode 12: Reward = 500.0\n",
            "Evaluation Episode 13: Reward = 500.0\n",
            "Evaluation Episode 14: Reward = 500.0\n",
            "Evaluation Episode 15: Reward = 500.0\n",
            "Evaluation Episode 16: Reward = 500.0\n",
            "Evaluation Episode 17: Reward = 500.0\n",
            "Evaluation Episode 18: Reward = 500.0\n",
            "Evaluation Episode 19: Reward = 500.0\n",
            "Evaluation Episode 20: Reward = 500.0\n",
            "Evaluation Episode 21: Reward = 500.0\n",
            "Evaluation Episode 22: Reward = 500.0\n",
            "Evaluation Episode 23: Reward = 500.0\n",
            "Evaluation Episode 24: Reward = 500.0\n",
            "Evaluation Episode 25: Reward = 500.0\n",
            "Evaluation Episode 26: Reward = 500.0\n",
            "Evaluation Episode 27: Reward = 500.0\n",
            "Evaluation Episode 28: Reward = 500.0\n",
            "Evaluation Episode 29: Reward = 500.0\n",
            "Evaluation Episode 30: Reward = 500.0\n",
            "Evaluation Episode 31: Reward = 500.0\n",
            "Evaluation Episode 32: Reward = 500.0\n",
            "Evaluation Episode 33: Reward = 500.0\n",
            "Evaluation Episode 34: Reward = 500.0\n",
            "Evaluation Episode 35: Reward = 500.0\n",
            "Evaluation Episode 36: Reward = 500.0\n",
            "Evaluation Episode 37: Reward = 500.0\n",
            "Evaluation Episode 38: Reward = 500.0\n",
            "Evaluation Episode 39: Reward = 500.0\n",
            "Evaluation Episode 40: Reward = 500.0\n",
            "Evaluation Episode 41: Reward = 500.0\n",
            "Evaluation Episode 42: Reward = 500.0\n",
            "Evaluation Episode 43: Reward = 500.0\n",
            "Evaluation Episode 44: Reward = 500.0\n",
            "Evaluation Episode 45: Reward = 500.0\n",
            "Evaluation Episode 46: Reward = 157.0\n",
            "Evaluation Episode 47: Reward = 500.0\n",
            "Evaluation Episode 48: Reward = 500.0\n",
            "Evaluation Episode 49: Reward = 500.0\n",
            "Evaluation Episode 50: Reward = 500.0\n",
            "Evaluation Episode 51: Reward = 500.0\n",
            "Evaluation Episode 52: Reward = 500.0\n",
            "Evaluation Episode 53: Reward = 500.0\n",
            "Evaluation Episode 54: Reward = 127.0\n",
            "Evaluation Episode 55: Reward = 500.0\n",
            "Evaluation Episode 56: Reward = 500.0\n",
            "Evaluation Episode 57: Reward = 500.0\n",
            "Evaluation Episode 58: Reward = 500.0\n",
            "Evaluation Episode 59: Reward = 500.0\n",
            "Evaluation Episode 60: Reward = 500.0\n",
            "Evaluation Episode 61: Reward = 500.0\n",
            "Evaluation Episode 62: Reward = 500.0\n",
            "Evaluation Episode 63: Reward = 500.0\n",
            "Evaluation Episode 64: Reward = 500.0\n",
            "Evaluation Episode 65: Reward = 500.0\n",
            "Evaluation Episode 66: Reward = 500.0\n",
            "Evaluation Episode 67: Reward = 500.0\n",
            "Evaluation Episode 68: Reward = 500.0\n",
            "Evaluation Episode 69: Reward = 500.0\n",
            "Evaluation Episode 70: Reward = 500.0\n",
            "Evaluation Episode 71: Reward = 500.0\n",
            "Evaluation Episode 72: Reward = 500.0\n",
            "Evaluation Episode 73: Reward = 500.0\n",
            "Evaluation Episode 74: Reward = 500.0\n",
            "Evaluation Episode 75: Reward = 500.0\n",
            "Evaluation Episode 76: Reward = 500.0\n",
            "Evaluation Episode 77: Reward = 500.0\n",
            "Evaluation Episode 78: Reward = 379.0\n",
            "Evaluation Episode 79: Reward = 500.0\n",
            "Evaluation Episode 80: Reward = 500.0\n",
            "Evaluation Episode 81: Reward = 500.0\n",
            "Evaluation Episode 82: Reward = 500.0\n",
            "Evaluation Episode 83: Reward = 500.0\n",
            "Evaluation Episode 84: Reward = 500.0\n",
            "Evaluation Episode 85: Reward = 500.0\n",
            "Evaluation Episode 86: Reward = 500.0\n",
            "Evaluation Episode 87: Reward = 500.0\n",
            "Evaluation Episode 88: Reward = 500.0\n",
            "Evaluation Episode 89: Reward = 500.0\n",
            "Evaluation Episode 90: Reward = 500.0\n",
            "Evaluation Episode 91: Reward = 500.0\n",
            "Evaluation Episode 92: Reward = 500.0\n",
            "Evaluation Episode 93: Reward = 500.0\n",
            "Evaluation Episode 94: Reward = 500.0\n",
            "Evaluation Episode 95: Reward = 500.0\n",
            "Evaluation Episode 96: Reward = 500.0\n",
            "Evaluation Episode 97: Reward = 500.0\n",
            "Evaluation Episode 98: Reward = 500.0\n",
            "Evaluation Episode 99: Reward = 500.0\n",
            "Evaluation Episode 100: Reward = 326.0\n"
          ]
        }
      ]
    },
    {
      "cell_type": "code",
      "source": [
        "plt.plot(eval_rewards)\n",
        "plt.title('Cumulative reward for each episode')\n",
        "plt.ylabel('Cumulative reward')\n",
        "plt.xlabel('episode')\n",
        "plt.show()"
      ],
      "metadata": {
        "colab": {
          "base_uri": "https://localhost:8080/",
          "height": 472
        },
        "id": "RZrCKywQi6CE",
        "outputId": "c8dfa698-e327-4950-a808-f057989d6ee1"
      },
      "execution_count": 41,
      "outputs": [
        {
          "output_type": "display_data",
          "data": {
            "text/plain": [
              "<Figure size 640x480 with 1 Axes>"
            ],
            "image/png": "[encoded data removed]"
          },
          "metadata": {}
        }
      ]
    },
    {
      "cell_type": "markdown",
      "source": [
        "Print the average reward over the 100 episodes."
      ],
      "metadata": {
        "id": "XndSYH7wlvn7"
      }
    },
    {
      "cell_type": "code",
      "source": [
        "mean = sum(eval_rewards) / len(eval_rewards)\n",
        "print(mean)"
      ],
      "metadata": {
        "colab": {
          "base_uri": "https://localhost:8080/"
        },
        "id": "nASf5piuTC5k",
        "outputId": "628ba81f-bdaa-4aba-8524-6454de4466b0"
      },
      "execution_count": 42,
      "outputs": [
        {
          "output_type": "stream",
          "name": "stdout",
          "text": [
            "489.89\n"
          ]
        }
      ]
    },
    {
      "cell_type": "code",
      "source": [
        "print(\"Average cumulative reward:\", mean)\n",
        "print(\"Is my agent good enough?\", mean > 195)"
      ],
      "metadata": {
        "colab": {
          "base_uri": "https://localhost:8080/"
        },
        "id": "pOiOp9OYlo5Y",
        "outputId": "e569e7bc-523e-4a13-9a8b-05c792023a2c"
      },
      "execution_count": 43,
      "outputs": [
        {
          "output_type": "stream",
          "name": "stdout",
          "text": [
            "Average cumulative reward: 489.89\n",
            "Is my agent good enough? True\n"
          ]
        }
      ]
    },
    {
      "cell_type": "markdown",
      "source": [
        "## Task 3: Render one episode played by the agent"
      ],
      "metadata": {
        "id": "Yg0DCT38lFA6"
      }
    },
    {
      "cell_type": "code",
      "source": [
        "env = RecordVideo(gym.make(\"CartPole-v1\"), \"./video\")\n",
        "observation = env.reset()\n",
        "\n",
        "# Assuming you have already defined and trained your MonteCarloAgent (agent)\n",
        "# and have state_space_size and action_space_size defined\n",
        "\n",
        "# Initialize the agent here (if not already done)\n",
        "agent = MonteCarloAgent(env.action_space.n, alpha=0.05, gamma=0.99, epsilon=0.15)\n",
        "\n",
        "while True:\n",
        "    env.render()\n",
        "\n",
        "    # Get the current state and discretize it\n",
        "    state = discretize_state(observation)\n",
        "\n",
        "    # Choose an action using the agent's policy\n",
        "    action = agent.choose_action(state)\n",
        "\n",
        "    observation, reward, done, info = env.step(action)\n",
        "    if done:\n",
        "      break;\n",
        "env.close()\n",
        "show_video()"
      ],
      "metadata": {
        "colab": {
          "base_uri": "https://localhost:8080/",
          "height": 456
        },
        "id": "_gxtuw8KUFLE",
        "outputId": "0ebcbbfa-395f-48bf-e413-1064d83b08bc"
      },
      "execution_count": 48,
      "outputs": [
        {
          "output_type": "stream",
          "name": "stderr",
          "text": [
            "/usr/local/lib/python3.11/dist-packages/gym/utils/passive_env_checker.py:241: DeprecationWarning: `np.bool8` is a deprecated alias for `np.bool_`.  (Deprecated NumPy 1.24)\n",
            "  if not isinstance(terminated, (bool, np.bool8)):\n"
          ]
        },
        {
          "output_type": "display_data",
          "data": {
            "text/plain": [
              "<IPython.core.display.HTML object>"
            ],
            "text/html": [
              "<video alt=\"test\" autoplay\n",
              "                loop controls style=\"height: 400px;\">\n",
              "                <source src=\"data:video/mp4;base64,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\" type=\"video/mp4\" />\n",
              "             </video>"
            ]
          },
          "metadata": {}
        }
      ]
    }
  ]
}