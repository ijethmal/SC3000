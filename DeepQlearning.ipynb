{
  "nbformat": 4,
  "nbformat_minor": 0,
  "metadata": {
    "colab": {
      "provenance": []
    },
    "kernelspec": {
      "name": "python3",
      "display_name": "Python 3"
    },
    "language_info": {
      "name": "python"
    }
  },
  "cells": [
    {
      "cell_type": "markdown",
      "source": [
        "### Import necessary libraries"
      ],
      "metadata": {
        "id": "gtG_WEMuz-cp"
      }
    },
    {
      "cell_type": "code",
      "execution_count": 1,
      "metadata": {
        "id": "jdjrGIruz0ql"
      },
      "outputs": [],
      "source": [
        "import gymnasium as gym\n",
        "import numpy as np\n",
        "import matplotlib.pyplot as plt\n",
        "from collections import deque\n",
        "import random\n",
        "import torch\n",
        "from torch import nn\n",
        "import torch.nn.functional as F\n",
        "import torch.optim as optim"
      ]
    },
    {
      "cell_type": "markdown",
      "source": [
        "### Import Dependencies\n"
      ],
      "metadata": {
        "id": "0-9G7D7R5iXR"
      }
    },
    {
      "cell_type": "code",
      "source": [
        "import gym\n",
        "from gym import logger as gymlogger\n",
        "from gym.wrappers import RecordVideo\n",
        "gymlogger.set_level(40) #error only\n",
        "import tensorflow as tf\n",
        "import numpy as np\n",
        "from collections import deque\n",
        "import random\n",
        "import matplotlib\n",
        "import matplotlib.pyplot as plt\n",
        "%matplotlib inline\n",
        "import math\n",
        "import glob\n",
        "import io\n",
        "import base64\n",
        "from base64 import b64encode\n",
        "from IPython.display import HTML, display\n",
        "import os\n",
        "\n",
        "\n",
        "if not hasattr(np, \"bool8\"):\n",
        "    np.bool8 = np.bool_"
      ],
      "metadata": {
        "id": "jrXlbzox5iHZ"
      },
      "execution_count": 2,
      "outputs": []
    },
    {
      "cell_type": "markdown",
      "source": [
        "### Loading CartPole Environment"
      ],
      "metadata": {
        "id": "OS6c_Dn89qRS"
      }
    },
    {
      "cell_type": "code",
      "source": [
        "env = gym.make(\"CartPole-v1\")\n",
        "print(env.action_space)\n",
        "print(env.observation_space)\n",
        "\n",
        "# Inside Box([min], [max])\n",
        "# min[cart_position, cart_velovity, pole_angle, angular_velocity]\n",
        "# max[cart_position, cart_velovity, pole_angle, angular_velocity]"
      ],
      "metadata": {
        "colab": {
          "base_uri": "https://localhost:8080/"
        },
        "id": "EvR40LQP9qAa",
        "outputId": "c278e2cc-6ca3-4290-934f-e604b41ec061"
      },
      "execution_count": 3,
      "outputs": [
        {
          "output_type": "stream",
          "name": "stdout",
          "text": [
            "Discrete(2)\n",
            "Box([-4.8000002e+00 -3.4028235e+38 -4.1887903e-01 -3.4028235e+38], [4.8000002e+00 3.4028235e+38 4.1887903e-01 3.4028235e+38], (4,), float32)\n"
          ]
        }
      ]
    },
    {
      "cell_type": "markdown",
      "source": [
        "### Initial Observation"
      ],
      "metadata": {
        "id": "GkMbjdpa9u4L"
      }
    },
    {
      "cell_type": "code",
      "source": [
        "observation = env.reset()\n",
        "print(\"Initial observations:\", observation)"
      ],
      "metadata": {
        "colab": {
          "base_uri": "https://localhost:8080/"
        },
        "id": "K5D9300A9ys0",
        "outputId": "ed99b969-7baa-408a-8083-9ea206900553"
      },
      "execution_count": 4,
      "outputs": [
        {
          "output_type": "stream",
          "name": "stdout",
          "text": [
            "Initial observations: [ 0.00098547 -0.03402994  0.02506229 -0.01746568]\n"
          ]
        }
      ]
    },
    {
      "cell_type": "code",
      "source": [
        "observation = env.reset()\n",
        "print(\"Initial observations:\", observation)"
      ],
      "metadata": {
        "colab": {
          "base_uri": "https://localhost:8080/"
        },
        "id": "dDigjLsT93Nr",
        "outputId": "dc152b97-05e2-40ea-b348-2d54d4d92063"
      },
      "execution_count": 5,
      "outputs": [
        {
          "output_type": "stream",
          "name": "stdout",
          "text": [
            "Initial observations: [-0.03979789 -0.02604119 -0.01785032 -0.0145249 ]\n"
          ]
        }
      ]
    },
    {
      "cell_type": "code",
      "source": [
        "# Always Choose zero strategy\n",
        "def printInfo(observation, reward, done):\n",
        "    print(\"New observations after choosing action 0:\", observation)\n",
        "    print(\"Reward for this step:\", reward)\n",
        "    print(\"Is this round done?:\", done)\n",
        "observation = env.reset()\n",
        "cumulative_reward = 0\n",
        "done = False\n",
        "while not done:\n",
        "    observation, reward, done, info = env.step(0)\n",
        "    printInfo(observation, reward, done)\n",
        "    cumulative_reward += reward\n",
        "print(\"Cumulative reward for this round:\", cumulative_reward)"
      ],
      "metadata": {
        "colab": {
          "base_uri": "https://localhost:8080/"
        },
        "id": "pC98kLKA97FL",
        "outputId": "d48722e6-4645-4665-f133-a8e7b54640a1"
      },
      "execution_count": 6,
      "outputs": [
        {
          "output_type": "stream",
          "name": "stdout",
          "text": [
            "New observations after choosing action 0: [-0.01954743 -0.17173068 -0.00243045  0.27881432]\n",
            "Reward for this step: 1.0\n",
            "Is this round done?: False\n",
            "New observations after choosing action 0: [-0.02298205 -0.3668179   0.00314584  0.57072973]\n",
            "Reward for this step: 1.0\n",
            "Is this round done?: False\n",
            "New observations after choosing action 0: [-0.0303184  -0.5619838   0.01456043  0.864402  ]\n",
            "Reward for this step: 1.0\n",
            "Is this round done?: False\n",
            "New observations after choosing action 0: [-0.04155808 -0.7573009   0.03184847  1.1616272 ]\n",
            "Reward for this step: 1.0\n",
            "Is this round done?: False\n",
            "New observations after choosing action 0: [-0.0567041  -0.95282286  0.05508102  1.4641234 ]\n",
            "Reward for this step: 1.0\n",
            "Is this round done?: False\n",
            "New observations after choosing action 0: [-0.07576056 -1.1485746   0.08436348  1.7734913 ]\n",
            "Reward for this step: 1.0\n",
            "Is this round done?: False\n",
            "New observations after choosing action 0: [-0.09873205 -1.3445404   0.11983331  2.091168  ]\n",
            "Reward for this step: 1.0\n",
            "Is this round done?: False\n",
            "New observations after choosing action 0: [-0.12562285 -1.5406494   0.16165666  2.4183686 ]\n",
            "Reward for this step: 1.0\n",
            "Is this round done?: False\n",
            "New observations after choosing action 0: [-0.15643585 -1.7367594   0.21002404  2.7560186 ]\n",
            "Reward for this step: 1.0\n",
            "Is this round done?: True\n",
            "Cumulative reward for this round: 9.0\n"
          ]
        }
      ]
    },
    {
      "cell_type": "markdown",
      "source": [
        "### Task 1: Development of Deep Q-Learning Based RL Agent"
      ],
      "metadata": {
        "id": "vhsV-nzM-mwA"
      }
    },
    {
      "cell_type": "markdown",
      "source": [
        "### Defining DQN Class"
      ],
      "metadata": {
        "id": "e1R6_cXg_RAg"
      }
    },
    {
      "cell_type": "markdown",
      "source": [
        "In Pytorch, all neural network models should inherit from nn.module\n",
        "\n",
        "DQN attributes:\n",
        "\n",
        "*   in_states: the number of input features (or state dimensions)\n",
        "*   h1_nodes: the number of nodes in the hidden layer\n",
        "*   out_actions: the number of output actions (or outputs)\n",
        "*   fc1 is a first fully connected (linear) layer mapping inpt states to the hidden layer\n",
        "*   out is another fully connected layer mapping the hidden layer to the output actions\n",
        "\n",
        "\n",
        "DQN's forward function:  \n",
        "\n",
        "*   refers to the neural network's process of taking a state as input and outputting a vector of Q-values (predicted action values) for each possible action in that state.\n",
        "*  self.fc1(x) refers to passing the data through the first layer called self.fc1\n",
        "*   F.relu refers to applying rectified linear unit (ReLU) activation\n",
        "*   self.out(x) means pass the data to the output layer to produce the final output\n",
        "\n",
        "\n",
        "\n",
        "\n"
      ],
      "metadata": {
        "id": "pBIBXwvM_RAg"
      }
    },
    {
      "cell_type": "code",
      "source": [
        "\n",
        "class DQN(nn.Module):\n",
        "    def __init__(self, in_states, h1_nodes, out_actions):\n",
        "        super().__init__()\n",
        "        # Define network layers\n",
        "        self.fc1 = nn.Linear(in_states, h1_nodes)   # first fully connected layer\n",
        "        self.out = nn.Linear(h1_nodes, out_actions) # ouptut layer w\n",
        "\n",
        "    def forward(self, x):\n",
        "        # self.fc1(x) means passing the data through the first layer called self.fc1\n",
        "        x = F.relu(self.fc1(x)) # Apply rectified linear unit (ReLU) activation\n",
        "        # the data is then passed to the output layer to produce the final output\n",
        "        x = self.out(x)         # Calculate output\n",
        "        return x\n"
      ],
      "metadata": {
        "id": "rPd9966C_RAg"
      },
      "execution_count": 7,
      "outputs": []
    },
    {
      "cell_type": "markdown",
      "source": [
        "### Define memory for Experience Replay"
      ],
      "metadata": {
        "id": "B73tLoeh_cVj"
      }
    },
    {
      "cell_type": "code",
      "source": [
        "# Define memory for Experience Replay\n",
        "class ReplayMemory():\n",
        "    def __init__(self, maxlen):\n",
        "        # maxlen is the maximum number of transitions that the memory can hold\n",
        "        # from here it means using a deque from python collections module\n",
        "        # the deque is initialized with an empty list and maximum length\n",
        "        # when the memory is full and new transition is added, then the oldest transition will be automatically removed\n",
        "        self.memory = deque([], maxlen=maxlen)\n",
        "\n",
        "    def append(self, transition):\n",
        "        #transition, this could be a tuple that contains state, action, reward, and next state\n",
        "        self.memory.append(transition)\n",
        "\n",
        "    def sample(self, sample_size):\n",
        "        # randome.sample() is to select a specified number of transitions from the stored memory\n",
        "        # once selected, the transition will not be selected again\n",
        "        # this is to break the temporal correlation.\n",
        "        # in reinforcement learning, consecutive experiences are usually highly correlated (the agent state at one time step is similar to the next )\n",
        "        # using this consecutive experiences can lead the model to overfit to certain events\n",
        "        # with this random sampling, it breaks the temporal correlaton, thereby prevent overfitting\n",
        "        # ensure that the training batches are more diverse\n",
        "        # this diversity helps to stabilize the learning process and avoid divergence or oscillations during training\n",
        "        return random.sample(self.memory, sample_size)\n",
        "\n",
        "    def __len__(self):\n",
        "        return len(self.memory)"
      ],
      "metadata": {
        "id": "sWSiMdoy_cVj"
      },
      "execution_count": 8,
      "outputs": []
    },
    {
      "cell_type": "code",
      "source": [
        "class DQN(nn.Module):\n",
        "    def __init__(self, input_dim, hidden_dim, output_dim):\n",
        "        super(DQN, self).__init__()\n",
        "        self.fc1 = nn.Linear(input_dim, hidden_dim)\n",
        "        self.fc2 = nn.Linear(hidden_dim, output_dim)\n",
        "\n",
        "    def forward(self, x):\n",
        "        x = F.relu(self.fc1(x))\n",
        "        x = self.fc2(x)\n",
        "        return x\n",
        "\n",
        "# Define Replay Memory for Experience Replay\n",
        "class ReplayMemory:\n",
        "    def __init__(self, capacity):\n",
        "        self.memory = deque(maxlen=capacity)\n",
        "\n",
        "    def push(self, transition):\n",
        "        # transition is a tuple (state, action, reward, next_state, done)\n",
        "        self.memory.append(transition)\n",
        "\n",
        "    def sample(self, batch_size):\n",
        "        return random.sample(self.memory, batch_size)\n",
        "\n",
        "    def __len__(self):\n",
        "        return len(self.memory)"
      ],
      "metadata": {
        "id": "X5chN9VVB8ds"
      },
      "execution_count": 9,
      "outputs": []
    },
    {
      "cell_type": "code",
      "source": [
        "\n",
        "# Helper function to perform a step and unpack based on API version.\n",
        "def step_env(env, action):\n",
        "    result = env.step(action)\n",
        "    # If 4 values, legacy gym: (next_state, reward, done, info)\n",
        "    if len(result) == 4:\n",
        "        next_state, reward, done, info = result\n",
        "    # If 5 values, new gym API: (next_state, reward, terminated, truncated, info)\n",
        "    elif len(result) == 5:\n",
        "        next_state, reward, terminated, truncated, info = result\n",
        "        done = terminated or truncated\n",
        "    else:\n",
        "        raise ValueError(\"Unexpected number of values returned from env.step()\")\n",
        "    return next_state, reward, done, info\n",
        "\n",
        "# Training function for Deep Q-Learning on CartPole-v1 that runs until an episode gets 500 reward.\n",
        "def train_dqn_until_solved(\n",
        "    env,\n",
        "    max_steps=500,\n",
        "    batch_size=64,\n",
        "    gamma=0.99,\n",
        "    epsilon_start=1.0,\n",
        "    epsilon_end=0.01,\n",
        "    epsilon_decay=0.995,\n",
        "    lr=0.001,\n",
        "    target_update_freq=10,\n",
        "    memory_capacity=10000,\n",
        "    max_episodes=100000  # safeguard to avoid infinite loops\n",
        "):\n",
        "    device = torch.device(\"cuda\" if torch.cuda.is_available() else \"cpu\")\n",
        "\n",
        "    input_dim = env.observation_space.shape[0]   # CartPole has 4 continuous state values\n",
        "    output_dim = env.action_space.n                # Two actions: 0 and 1\n",
        "    hidden_dim = 64                                # Hidden layer size\n",
        "\n",
        "    # Initialize policy and target networks\n",
        "    policy_net = DQN(input_dim, hidden_dim, output_dim).to(device)\n",
        "    target_net = DQN(input_dim, hidden_dim, output_dim).to(device)\n",
        "    target_net.load_state_dict(policy_net.state_dict())\n",
        "    target_net.eval()\n",
        "\n",
        "    optimizer = optim.Adam(policy_net.parameters(), lr=lr)\n",
        "    memory = ReplayMemory(memory_capacity)\n",
        "\n",
        "    epsilon = epsilon_start\n",
        "    rewards_history = []\n",
        "\n",
        "    for episode in range(max_episodes):\n",
        "        # Use return_info=True to ensure we get the observation (if supported)\n",
        "        result = env.reset(return_info=True)\n",
        "        state = result[0] if isinstance(result, tuple) else result\n",
        "        state = torch.tensor(state, dtype=torch.float32, device=device).unsqueeze(0)\n",
        "        cumulative_reward = 0\n",
        "\n",
        "        for t in range(max_steps):\n",
        "            # ε-greedy action selection:\n",
        "            if random.random() < epsilon:\n",
        "                action = env.action_space.sample()\n",
        "            else:\n",
        "                with torch.no_grad():\n",
        "                    q_values = policy_net(state)\n",
        "                    action = q_values.argmax().item()\n",
        "\n",
        "            next_state, reward, done, info = step_env(env, action)\n",
        "            cumulative_reward += reward\n",
        "\n",
        "            # If next_state is a tuple, extract the observation.\n",
        "            if isinstance(next_state, tuple):\n",
        "                next_state = next_state[0]\n",
        "            next_state_tensor = torch.tensor(next_state, dtype=torch.float32, device=device).unsqueeze(0)\n",
        "\n",
        "            # Store the transition in memory.\n",
        "            memory.push((state, action, reward, next_state_tensor, done))\n",
        "            state = next_state_tensor\n",
        "\n",
        "            # Perform a learning step if enough transitions are available.\n",
        "            if len(memory) >= batch_size:\n",
        "                transitions = memory.sample(batch_size)\n",
        "                batch_state, batch_action, batch_reward, batch_next_state, batch_done = zip(*transitions)\n",
        "\n",
        "                batch_state = torch.cat(batch_state)\n",
        "                batch_action = torch.tensor(batch_action, dtype=torch.int64, device=device).unsqueeze(1)\n",
        "                batch_reward = torch.tensor(batch_reward, dtype=torch.float32, device=device).unsqueeze(1)\n",
        "                batch_next_state = torch.cat(batch_next_state)\n",
        "                batch_done = torch.tensor(batch_done, dtype=torch.float32, device=device).unsqueeze(1)\n",
        "\n",
        "                # Compute Q(s, a) using the policy network.\n",
        "                current_q = policy_net(batch_state).gather(1, batch_action)\n",
        "                # Compute maximum Q value for the next state from the target network.\n",
        "                next_q = target_net(batch_next_state).max(1)[0].detach().unsqueeze(1)\n",
        "                # Compute target Q values.\n",
        "                expected_q = batch_reward + gamma * next_q * (1 - batch_done)\n",
        "\n",
        "                # Compute loss (mean squared error).\n",
        "                loss = F.mse_loss(current_q, expected_q)\n",
        "\n",
        "                optimizer.zero_grad()\n",
        "                loss.backward()\n",
        "                optimizer.step()\n",
        "\n",
        "            if done:\n",
        "                break\n",
        "\n",
        "        # Decay epsilon and record reward.\n",
        "        epsilon = max(epsilon_end, epsilon * epsilon_decay)\n",
        "        rewards_history.append(cumulative_reward)\n",
        "\n",
        "        if (episode + 1) % 1000 == 0:\n",
        "            print(f\"Episode {episode+1}: Reward = {cumulative_reward:.2f}, Epsilon = {epsilon:.2f}\")\n",
        "\n",
        "        # Update the target network periodically.\n",
        "        if (episode + 1) % target_update_freq == 0:\n",
        "            target_net.load_state_dict(policy_net.state_dict())\n",
        "\n",
        "        # Check if the agent achieved a reward of 500, and if so, stop training.\n",
        "        if cumulative_reward >= max_steps:\n",
        "            print(f\"Solved at episode {episode+1} with reward {cumulative_reward}!\")\n",
        "            break\n",
        "\n",
        "    return policy_net, rewards_history\n",
        "\n",
        "# Evaluation function for the trained DQN agent\n",
        "def evaluate_dqn_agent(env, policy_net, episodes=10, max_steps=500):\n",
        "    device = torch.device(\"cuda\" if torch.cuda.is_available() else \"cpu\")\n",
        "    policy_net.eval()\n",
        "    rewards = []\n",
        "\n",
        "    for episode in range(episodes):\n",
        "        result = env.reset(return_info=True)\n",
        "        state = result[0] if isinstance(result, tuple) else result\n",
        "        state = torch.tensor(state, dtype=torch.float32, device=device).unsqueeze(0)\n",
        "        cumulative_reward = 0\n",
        "\n",
        "        for t in range(max_steps):\n",
        "            with torch.no_grad():\n",
        "                q_values = policy_net(state)\n",
        "                action = q_values.argmax().item()\n",
        "            next_state, reward, done, info = step_env(env, action)\n",
        "            cumulative_reward += reward\n",
        "            if isinstance(next_state, tuple):\n",
        "                next_state = next_state[0]\n",
        "            state = torch.tensor(next_state, dtype=torch.float32, device=device).unsqueeze(0)\n",
        "            if done:\n",
        "                break\n",
        "        rewards.append(cumulative_reward)\n",
        "        print(f\"Evaluation Episode {episode+1}: Reward = {cumulative_reward}\")\n",
        "\n",
        "    avg_reward = np.mean(rewards)\n",
        "    print(f\"Average Reward over {episodes} evaluation episodes: {avg_reward:.2f}\")\n",
        "    return rewards\n",
        "\n",
        "# Main execution: Train and evaluate the DQN agent until solved\n",
        "env_train = gym.make(\"CartPole-v1\")\n",
        "policy_net, training_rewards = train_dqn_until_solved(env_train)\n",
        "env_train.close()\n",
        "\n",
        "plt.figure(figsize=(10,5))\n",
        "plt.plot(training_rewards)\n",
        "plt.xlabel(\"Episode\")\n",
        "plt.ylabel(\"Reward\")\n",
        "plt.title(\"Training Rewards Over Episodes\")\n",
        "plt.grid(True)\n",
        "plt.show()\n",
        "\n",
        "env_eval = gym.make(\"CartPole-v1\")\n",
        "evaluation_rewards = evaluate_dqn_agent(env_eval, policy_net, episodes=10)\n",
        "env_eval.close()\n"
      ],
      "metadata": {
        "colab": {
          "base_uri": "https://localhost:8080/",
          "height": 695
        },
        "id": "pupl1siMI9Xf",
        "outputId": "3c28fe75-2f0f-4260-e913-6796df20a120"
      },
      "execution_count": 10,
      "outputs": [
        {
          "output_type": "stream",
          "name": "stdout",
          "text": [
            "Solved at episode 761 with reward 500.0!\n"
          ]
        },
        {
          "output_type": "display_data",
          "data": {
            "text/plain": [
              "<Figure size 1000x500 with 1 Axes>"
            ],
            "image/png": "[encoded data removed]"
          },
          "metadata": {}
        },
        {
          "output_type": "stream",
          "name": "stdout",
          "text": [
            "Evaluation Episode 1: Reward = 500.0\n",
            "Evaluation Episode 2: Reward = 500.0\n",
            "Evaluation Episode 3: Reward = 500.0\n",
            "Evaluation Episode 4: Reward = 500.0\n",
            "Evaluation Episode 5: Reward = 500.0\n",
            "Evaluation Episode 6: Reward = 500.0\n",
            "Evaluation Episode 7: Reward = 500.0\n",
            "Evaluation Episode 8: Reward = 500.0\n",
            "Evaluation Episode 9: Reward = 500.0\n",
            "Evaluation Episode 10: Reward = 500.0\n",
            "Average Reward over 10 evaluation episodes: 500.00\n"
          ]
        }
      ]
    }
  ]
}