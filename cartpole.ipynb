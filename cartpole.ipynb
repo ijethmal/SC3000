{
  "nbformat": 4,
  "nbformat_minor": 0,
  "metadata": {
    "colab": {
      "provenance": [],
      "include_colab_link": true
    },
    "kernelspec": {
      "name": "python3",
      "display_name": "Python 3"
    },
    "language_info": {
      "name": "python"
    }
  },
  "cells": [
    {
      "cell_type": "markdown",
      "metadata": {
        "id": "view-in-github",
        "colab_type": "text"
      },
      "source": [
        "<a href=\"https://colab.research.google.com/github/ijethmal/SC3000/blob/main/cartpole.ipynb\" target=\"_parent\"><img src=\"https://colab.research.google.com/assets/colab-badge.svg\" alt=\"Open In Colab\"/></a>"
      ]
    },
    {
      "cell_type": "markdown",
      "source": [
        "# Tutorial and Sample Code for Balancing a Pole on a Cart"
      ],
      "metadata": {
        "id": "ZauhjPSfX7pI"
      }
    },
    {
      "cell_type": "markdown",
      "source": [
        "## Installing dependencies:"
      ],
      "metadata": {
        "id": "UBiYOoesYMvr"
      }
    },
    {
      "cell_type": "code",
      "execution_count": 5,
      "metadata": {
        "colab": {
          "base_uri": "https://localhost:8080/"
        },
        "id": "PbgnVwZmX5uW",
        "outputId": "d7ab34c2-0d2e-4122-df1c-458301c9098a"
      },
      "outputs": [
        {
          "output_type": "stream",
          "name": "stdout",
          "text": [
            "Requirement already satisfied: gym[classic_control] in /usr/local/lib/python3.11/dist-packages (0.25.2)\n",
            "Requirement already satisfied: numpy>=1.18.0 in /usr/local/lib/python3.11/dist-packages (from gym[classic_control]) (1.26.4)\n",
            "Requirement already satisfied: cloudpickle>=1.2.0 in /usr/local/lib/python3.11/dist-packages (from gym[classic_control]) (3.1.1)\n",
            "Requirement already satisfied: gym_notices>=0.0.4 in /usr/local/lib/python3.11/dist-packages (from gym[classic_control]) (0.0.8)\n",
            "Collecting pygame==2.1.0 (from gym[classic_control])\n",
            "  Using cached pygame-2.1.0.tar.gz (5.8 MB)\n",
            "  \u001b[1;31merror\u001b[0m: \u001b[1msubprocess-exited-with-error\u001b[0m\n",
            "  \n",
            "  \u001b[31m×\u001b[0m \u001b[32mpython setup.py egg_info\u001b[0m did not run successfully.\n",
            "  \u001b[31m│\u001b[0m exit code: \u001b[1;36m1\u001b[0m\n",
            "  \u001b[31m╰─>\u001b[0m See above for output.\n",
            "  \n",
            "  \u001b[1;35mnote\u001b[0m: This error originates from a subprocess, and is likely not a problem with pip.\n",
            "  Preparing metadata (setup.py) ... \u001b[?25l\u001b[?25herror\n",
            "\u001b[1;31merror\u001b[0m: \u001b[1mmetadata-generation-failed\u001b[0m\n",
            "\n",
            "\u001b[31m×\u001b[0m Encountered error while generating package metadata.\n",
            "\u001b[31m╰─>\u001b[0m See above for output.\n",
            "\n",
            "\u001b[1;35mnote\u001b[0m: This is an issue with the package mentioned above, not pip.\n",
            "\u001b[1;36mhint\u001b[0m: See above for details.\n",
            "Requirement already satisfied: setuptools in /usr/local/lib/python3.11/dist-packages (76.0.0)\n"
          ]
        }
      ],
      "source": [
        "!apt-get install -y xvfb python-opengl > /dev/null 2>&1\n",
        "!pip install gym pyvirtualdisplay > /dev/null 2>&1\n",
        "!pip install gym pyvirtualdisplay > /dev/null 2>&1\n",
        "!apt-get install -y xvfb python-opengl ffmpeg > /dev/null 2>&1\n",
        "!pip install gym[classic_control]\n",
        "!apt-get update > /dev/null 2>&1\n",
        "!apt-get install cmake > /dev/null 2>&1\n",
        "!pip install --upgrade setuptools 2>&1\n",
        "!pip install ez_setup > /dev/null 2>&1"
      ]
    },
    {
      "cell_type": "markdown",
      "source": [
        "## Importing dependencies and define helper functions"
      ],
      "metadata": {
        "id": "RwKbYeTgbaTA"
      }
    },
    {
      "cell_type": "code",
      "source": [
        "import gym\n",
        "from gym import logger as gymlogger\n",
        "from gym.wrappers import RecordVideo\n",
        "gymlogger.set_level(40) #error only\n",
        "import tensorflow as tf\n",
        "import numpy as np\n",
        "import random\n",
        "import matplotlib\n",
        "import matplotlib.pyplot as plt\n",
        "%matplotlib inline\n",
        "import math\n",
        "import glob\n",
        "import io\n",
        "import base64\n",
        "from IPython.display import HTML\n",
        "from IPython import display as ipythondisplay\n",
        "from abc import ABC, abstractmethod\n",
        "\n",
        "def show_video():\n",
        "  mp4list = glob.glob('video/*.mp4')\n",
        "  if len(mp4list) > 0:\n",
        "    mp4 = mp4list[0]\n",
        "    video = io.open(mp4, 'r+b').read()\n",
        "    encoded = base64.b64encode(video)\n",
        "    ipythondisplay.display(HTML(data='''<video alt=\"test\" autoplay\n",
        "                loop controls style=\"height: 400px;\">\n",
        "                <source src=\"data:video/mp4;base64,{0}\" type=\"video/mp4\" />\n",
        "             </video>'''.format(encoded.decode('ascii'))))\n",
        "  else:\n",
        "    print(\"Could not find video\")"
      ],
      "metadata": {
        "id": "j6KpgCLGYWmj"
      },
      "execution_count": 25,
      "outputs": []
    },
    {
      "cell_type": "markdown",
      "source": [
        "## Tutorial: Loading CartPole environment"
      ],
      "metadata": {
        "id": "ehbqP9CXbmo7"
      }
    },
    {
      "cell_type": "code",
      "source": [
        "env = gym.make(\"CartPole-v1\")"
      ],
      "metadata": {
        "id": "Go12dH4qbwBy"
      },
      "execution_count": 6,
      "outputs": []
    },
    {
      "cell_type": "markdown",
      "source": [
        "We can check the action and observation space of this environment. Discrete(2) means that there are two valid discrete actions: 0 & 1."
      ],
      "metadata": {
        "id": "9XZ9g3xrcAXE"
      }
    },
    {
      "cell_type": "code",
      "source": [
        "print(env.action_space)"
      ],
      "metadata": {
        "colab": {
          "base_uri": "https://localhost:8080/"
        },
        "id": "ytxvVmLdcRyw",
        "outputId": "2c5076ef-a3ae-4498-d8dd-391faea6ee8c"
      },
      "execution_count": 7,
      "outputs": [
        {
          "output_type": "stream",
          "name": "stdout",
          "text": [
            "Discrete(2)\n"
          ]
        }
      ]
    },
    {
      "cell_type": "markdown",
      "source": [
        "The observation space is given below. The first two arrays define the min and max values of the 4 observed values, corresponding to cart position, velocity and pole angle, angular velocity."
      ],
      "metadata": {
        "id": "pVXGWi_Ncfg-"
      }
    },
    {
      "cell_type": "code",
      "source": [
        "print(env.observation_space)"
      ],
      "metadata": {
        "colab": {
          "base_uri": "https://localhost:8080/"
        },
        "id": "DyqHr9I5cdkX",
        "outputId": "6a85ac3b-db5a-4b9c-b087-9fb67c23b60b"
      },
      "execution_count": 8,
      "outputs": [
        {
          "output_type": "stream",
          "name": "stdout",
          "text": [
            "Box([-4.8000002e+00 -3.4028235e+38 -4.1887903e-01 -3.4028235e+38], [4.8000002e+00 3.4028235e+38 4.1887903e-01 3.4028235e+38], (4,), float32)\n"
          ]
        }
      ]
    },
    {
      "cell_type": "markdown",
      "source": [
        "We call each round of the pole-balancing game an \"episode\". At the start of each episode, make sure the environment is reset, which chooses a random initial state, e.g., pole slightly tilted to the right. This initialization can be achieved by the code below, which returns the observation of the initial state."
      ],
      "metadata": {
        "id": "HFOdaU2Gdyg0"
      }
    },
    {
      "cell_type": "code",
      "source": [
        "observation = env.reset()\n",
        "print(\"Initial observations:\", observation)"
      ],
      "metadata": {
        "colab": {
          "base_uri": "https://localhost:8080/"
        },
        "id": "VMr6qAqxdOsm",
        "outputId": "7a329fd7-2a0e-4ae1-847a-6b8794e79e17"
      },
      "execution_count": 14,
      "outputs": [
        {
          "output_type": "stream",
          "name": "stdout",
          "text": [
            "Initial observations: [0.03190004 0.02791234 0.03536061 0.00414912]\n"
          ]
        }
      ]
    },
    {
      "cell_type": "markdown",
      "source": [
        "For the CartPole environment, there are two possible actions: 0 for pushing to the left and 1 for pushing to the right. For example, we can push the cart to the left using code below, which returns the new observation, the current reward, an indicator of whether the game ends, and some additional information (not used in this project). For CartPole, the game ends when the pole is significantly tilted or you manage to balance the pole for 500 steps. You get exactly 1 reward for each step before the game ends (i.e., max cumulative reward is 500)."
      ],
      "metadata": {
        "id": "qnG2QdfbeZrI"
      }
    },
    {
      "cell_type": "code",
      "source": [
        "observation, reward, done, info = env.step(0)\n",
        "print(\"New observations after choosing action 0:\", observation)\n",
        "print(\"Reward for this step:\", reward)\n",
        "print(\"Is this round done?\", done)"
      ],
      "metadata": {
        "colab": {
          "base_uri": "https://localhost:8080/"
        },
        "id": "MmfMDvyYdWGk",
        "outputId": "fab83d8d-e56b-4b12-b7ad-bc0b375d46e8"
      },
      "execution_count": 15,
      "outputs": [
        {
          "output_type": "stream",
          "name": "stdout",
          "text": [
            "New observations after choosing action 0: [ 0.03245828 -0.16769841  0.03544359  0.3077757 ]\n",
            "Reward for this step: 1.0\n",
            "Is this round done? False\n"
          ]
        }
      ]
    },
    {
      "cell_type": "markdown",
      "source": [
        "Now we can play a full round of the game using a naive strategy (always choosing action 0), and show the cumulative reward in the round. Note that reward returned by env.step(*) corresponds to the reward for current step. So we have to accumulate the reward for each step. Clearly, the naive strategy performs poorly by surviving only a dozen of steps."
      ],
      "metadata": {
        "id": "tj0zCh59fhBb"
      }
    },
    {
      "cell_type": "code",
      "source": [
        "observation = env.reset()\n",
        "cumulative_reward = 0\n",
        "done = False\n",
        "while not done:\n",
        "    observation, reward, done, info = env.step(0)\n",
        "    cumulative_reward += reward\n",
        "print(\"Cumulative reward for this round:\", cumulative_reward)"
      ],
      "metadata": {
        "colab": {
          "base_uri": "https://localhost:8080/"
        },
        "id": "AVucQVRwf6Jm",
        "outputId": "74ac63c0-f795-4996-b4ef-27f7f22e081a"
      },
      "execution_count": 17,
      "outputs": [
        {
          "output_type": "stream",
          "name": "stdout",
          "text": [
            "Cumulative reward for this round: 10.0\n"
          ]
        }
      ]
    },
    {
      "cell_type": "markdown",
      "source": [
        "## Task 1: Development of an RL agent"
      ],
      "metadata": {
        "id": "2oIzK9SzhlWN"
      }
    },
    {
      "cell_type": "markdown",
      "source": [
        "Create the Monte Carlo agent"
      ],
      "metadata": {
        "id": "xgBSmvjVQ7h-"
      }
    },
    {
      "cell_type": "code",
      "source": [
        "class MonteCarloAgent:\n",
        "    def __init__(self, action_space_size, state_space_size):\n",
        "        self.action_space_size = action_space_size\n",
        "        self.state_space_size = state_space_size\n",
        "        self.Q = np.zeros((state_space_size, action_space_size))  # initialize Q-table to zeros\n",
        "        self.returns = {}  # dictionary to store returns for state-action pairs\n",
        "        self.N = np.zeros((state_space_size, action_space_size))  # count visits to state-action pairs\n",
        "        self.epsilon = 0.1  # exploration rate\n",
        "\n",
        "    def discretize_state(self, observation):\n",
        "        # state representation: 10x10x10x10 bins\n",
        "        cart_pos_bins = np.linspace(-2.4, 2.4, 10)  # 10 bins for cart position\n",
        "        cart_vel_bins = np.linspace(-2, 2, 10)  # 10 bins for cart velocity\n",
        "        pole_angle_bins = np.linspace(-0.418, 0.418, 10)  # 10 bins for pole angle\n",
        "        pole_vel_bins = np.linspace(-2, 2, 10)  # 10 bins for pole velocity\n",
        "\n",
        "        state = (np.digitize(observation[0], cart_pos_bins),\n",
        "                 np.digitize(observation[1], cart_vel_bins),\n",
        "                 np.digitize(observation[2], pole_angle_bins),\n",
        "                 np.digitize(observation[3], pole_vel_bins))\n",
        "\n",
        "        # Convert the tuple to a unique integer state representation\n",
        "        state_index = state[0] * (10**3) + state[1] * (10**2) + state[2] * (10**1) + state[3]\n",
        "\n",
        "        return state_index\n",
        "\n",
        "\n",
        "    def choose_action(self, state):\n",
        "        # epsilon-greedy action selection\n",
        "        if np.random.uniform(0, 1) < self.epsilon:\n",
        "            return np.random.choice(self.action_space_size)  # Explore\n",
        "        else:\n",
        "            return np.argmax(self.Q[state, :])  # Exploit\n",
        "\n",
        "    def update_Q(self, episode):\n",
        "        # Update Q-values using the Monte Carlo method\n",
        "        G = 0\n",
        "        for t in reversed(range(len(episode))):\n",
        "            state, action, reward = episode[t]\n",
        "            G = 1.0 * G + reward  # Assuming discount factor gamma = 1\n",
        "\n",
        "            # Update returns and visit counts\n",
        "            if (state, action) not in self.returns:\n",
        "                self.returns[(state, action)] = []\n",
        "            self.returns[(state, action)].append(G)\n",
        "            self.N[state, action] += 1\n",
        "\n",
        "            # Update Q-value\n",
        "            self.Q[state, action] = np.mean(self.returns[(state, action)])"
      ],
      "metadata": {
        "id": "E6iJuAttQ_QQ"
      },
      "execution_count": 27,
      "outputs": []
    },
    {
      "cell_type": "markdown",
      "source": [
        "## Task 2: Demonstrate the effectiveness of the RL agent"
      ],
      "metadata": {
        "id": "-XtIQ0Rti1gm"
      }
    },
    {
      "cell_type": "markdown",
      "source": [
        "For this task, use the agent developed in Task 1 to play the game for 100 episodes (refer to tutorial for how to play a round), record the cumulative reward for each round, and plot the reward for each round. A sample plotting code is given below. Note that you must include code to play for 100 episodes and use the code to obtain round_results for plotting. DO NOT record the round results in advance and paste the results to the notebook."
      ],
      "metadata": {
        "id": "djBEShf0kGI4"
      }
    },
    {
      "cell_type": "code",
      "source": [
        "# Assuming your state space is discretized into 10000 states\n",
        "state_space_size = 10000\n",
        "action_space_size = env.action_space.n  # Number of actions (2 in CartPole)\n",
        "\n",
        "agent = MonteCarloAgent(action_space_size, state_space_size)\n",
        "\n",
        "num_episodes = 100\n",
        "episode_results = []\n",
        "\n",
        "for episode_num in range(num_episodes):\n",
        "    observation = env.reset()\n",
        "    episode = []\n",
        "    cumulative_reward = 0\n",
        "    done = False\n",
        "\n",
        "    while not done:\n",
        "        state = agent.discretize_state(observation)\n",
        "        action = agent.choose_action(state)\n",
        "        observation, reward, done, info = env.step(action)\n",
        "        episode.append((state, action, reward))\n",
        "        cumulative_reward += reward\n",
        "\n",
        "    agent.update_Q(episode)  # Update Q-values after each episode\n",
        "    episode_results.append(cumulative_reward)\n",
        "\n",
        "    print(f\"Episode {episode_num + 1}: Cumulative Reward = {cumulative_reward}\")\n",
        "\n",
        "# ... (Your plotting code remains the same) ..."
      ],
      "metadata": {
        "colab": {
          "base_uri": "https://localhost:8080/"
        },
        "id": "4tTWk7NPSrdB",
        "outputId": "41660952-c35d-4999-fc94-0a6f1a8eda05"
      },
      "execution_count": 28,
      "outputs": [
        {
          "output_type": "stream",
          "name": "stdout",
          "text": [
            "Episode 1: Cumulative Reward = 10.0\n",
            "Episode 2: Cumulative Reward = 9.0\n",
            "Episode 3: Cumulative Reward = 9.0\n",
            "Episode 4: Cumulative Reward = 15.0\n",
            "Episode 5: Cumulative Reward = 23.0\n",
            "Episode 6: Cumulative Reward = 10.0\n",
            "Episode 7: Cumulative Reward = 34.0\n",
            "Episode 8: Cumulative Reward = 26.0\n",
            "Episode 9: Cumulative Reward = 17.0\n",
            "Episode 10: Cumulative Reward = 40.0\n",
            "Episode 11: Cumulative Reward = 39.0\n",
            "Episode 12: Cumulative Reward = 19.0\n",
            "Episode 13: Cumulative Reward = 26.0\n",
            "Episode 14: Cumulative Reward = 19.0\n",
            "Episode 15: Cumulative Reward = 24.0\n",
            "Episode 16: Cumulative Reward = 20.0\n",
            "Episode 17: Cumulative Reward = 29.0\n",
            "Episode 18: Cumulative Reward = 12.0\n",
            "Episode 19: Cumulative Reward = 13.0\n",
            "Episode 20: Cumulative Reward = 33.0\n",
            "Episode 21: Cumulative Reward = 8.0\n",
            "Episode 22: Cumulative Reward = 25.0\n",
            "Episode 23: Cumulative Reward = 23.0\n",
            "Episode 24: Cumulative Reward = 39.0\n",
            "Episode 25: Cumulative Reward = 21.0\n",
            "Episode 26: Cumulative Reward = 45.0\n",
            "Episode 27: Cumulative Reward = 42.0\n",
            "Episode 28: Cumulative Reward = 13.0\n",
            "Episode 29: Cumulative Reward = 51.0\n",
            "Episode 30: Cumulative Reward = 16.0\n",
            "Episode 31: Cumulative Reward = 37.0\n",
            "Episode 32: Cumulative Reward = 24.0\n",
            "Episode 33: Cumulative Reward = 14.0\n",
            "Episode 34: Cumulative Reward = 20.0\n",
            "Episode 35: Cumulative Reward = 27.0\n",
            "Episode 36: Cumulative Reward = 50.0\n",
            "Episode 37: Cumulative Reward = 33.0\n",
            "Episode 38: Cumulative Reward = 27.0\n",
            "Episode 39: Cumulative Reward = 13.0\n",
            "Episode 40: Cumulative Reward = 36.0\n",
            "Episode 41: Cumulative Reward = 20.0\n",
            "Episode 42: Cumulative Reward = 19.0\n",
            "Episode 43: Cumulative Reward = 15.0\n",
            "Episode 44: Cumulative Reward = 21.0\n",
            "Episode 45: Cumulative Reward = 30.0\n",
            "Episode 46: Cumulative Reward = 34.0\n",
            "Episode 47: Cumulative Reward = 38.0\n",
            "Episode 48: Cumulative Reward = 25.0\n",
            "Episode 49: Cumulative Reward = 14.0\n",
            "Episode 50: Cumulative Reward = 32.0\n",
            "Episode 51: Cumulative Reward = 37.0\n",
            "Episode 52: Cumulative Reward = 35.0\n",
            "Episode 53: Cumulative Reward = 39.0\n",
            "Episode 54: Cumulative Reward = 43.0\n",
            "Episode 55: Cumulative Reward = 50.0\n",
            "Episode 56: Cumulative Reward = 37.0\n",
            "Episode 57: Cumulative Reward = 32.0\n",
            "Episode 58: Cumulative Reward = 33.0\n",
            "Episode 59: Cumulative Reward = 14.0\n",
            "Episode 60: Cumulative Reward = 35.0\n",
            "Episode 61: Cumulative Reward = 20.0\n",
            "Episode 62: Cumulative Reward = 23.0\n",
            "Episode 63: Cumulative Reward = 48.0\n",
            "Episode 64: Cumulative Reward = 60.0\n",
            "Episode 65: Cumulative Reward = 36.0\n",
            "Episode 66: Cumulative Reward = 13.0\n",
            "Episode 67: Cumulative Reward = 18.0\n",
            "Episode 68: Cumulative Reward = 60.0\n",
            "Episode 69: Cumulative Reward = 40.0\n",
            "Episode 70: Cumulative Reward = 21.0\n",
            "Episode 71: Cumulative Reward = 42.0\n",
            "Episode 72: Cumulative Reward = 43.0\n",
            "Episode 73: Cumulative Reward = 19.0\n",
            "Episode 74: Cumulative Reward = 64.0\n",
            "Episode 75: Cumulative Reward = 60.0\n",
            "Episode 76: Cumulative Reward = 44.0\n",
            "Episode 77: Cumulative Reward = 57.0\n",
            "Episode 78: Cumulative Reward = 49.0\n",
            "Episode 79: Cumulative Reward = 64.0\n",
            "Episode 80: Cumulative Reward = 79.0\n",
            "Episode 81: Cumulative Reward = 74.0\n",
            "Episode 82: Cumulative Reward = 82.0\n",
            "Episode 83: Cumulative Reward = 56.0\n",
            "Episode 84: Cumulative Reward = 71.0\n",
            "Episode 85: Cumulative Reward = 53.0\n",
            "Episode 86: Cumulative Reward = 69.0\n",
            "Episode 87: Cumulative Reward = 70.0\n",
            "Episode 88: Cumulative Reward = 48.0\n",
            "Episode 89: Cumulative Reward = 19.0\n",
            "Episode 90: Cumulative Reward = 68.0\n",
            "Episode 91: Cumulative Reward = 87.0\n",
            "Episode 92: Cumulative Reward = 70.0\n",
            "Episode 93: Cumulative Reward = 94.0\n",
            "Episode 94: Cumulative Reward = 100.0\n",
            "Episode 95: Cumulative Reward = 18.0\n",
            "Episode 96: Cumulative Reward = 70.0\n",
            "Episode 97: Cumulative Reward = 75.0\n",
            "Episode 98: Cumulative Reward = 64.0\n",
            "Episode 99: Cumulative Reward = 80.0\n",
            "Episode 100: Cumulative Reward = 83.0\n"
          ]
        }
      ]
    },
    {
      "cell_type": "code",
      "source": [
        "plt.plot(episode_results)\n",
        "plt.title('Cumulative reward for each episode')\n",
        "plt.ylabel('Cumulative reward')\n",
        "plt.xlabel('episode')\n",
        "plt.show()"
      ],
      "metadata": {
        "colab": {
          "base_uri": "https://localhost:8080/",
          "height": 472
        },
        "id": "RZrCKywQi6CE",
        "outputId": "5431d9da-2b2e-46fa-ab93-85ec96c7a237"
      },
      "execution_count": 29,
      "outputs": [
        {
          "output_type": "display_data",
          "data": {
            "text/plain": [
              "<Figure size 640x480 with 1 Axes>"
            ],
            "image/png": "[encoded data removed]"
          },
          "metadata": {}
        }
      ]
    },
    {
      "cell_type": "markdown",
      "source": [
        "Print the average reward over the 100 episodes."
      ],
      "metadata": {
        "id": "XndSYH7wlvn7"
      }
    },
    {
      "cell_type": "code",
      "source": [
        "print(episode_results)\n",
        "mean = sum(episode_results) / len(episode_results)\n",
        "print(mean)"
      ],
      "metadata": {
        "colab": {
          "base_uri": "https://localhost:8080/"
        },
        "id": "nASf5piuTC5k",
        "outputId": "6c1142fc-494a-42ca-98d4-ac3524de61eb"
      },
      "execution_count": 32,
      "outputs": [
        {
          "output_type": "stream",
          "name": "stdout",
          "text": [
            "[10.0, 9.0, 9.0, 15.0, 23.0, 10.0, 34.0, 26.0, 17.0, 40.0, 39.0, 19.0, 26.0, 19.0, 24.0, 20.0, 29.0, 12.0, 13.0, 33.0, 8.0, 25.0, 23.0, 39.0, 21.0, 45.0, 42.0, 13.0, 51.0, 16.0, 37.0, 24.0, 14.0, 20.0, 27.0, 50.0, 33.0, 27.0, 13.0, 36.0, 20.0, 19.0, 15.0, 21.0, 30.0, 34.0, 38.0, 25.0, 14.0, 32.0, 37.0, 35.0, 39.0, 43.0, 50.0, 37.0, 32.0, 33.0, 14.0, 35.0, 20.0, 23.0, 48.0, 60.0, 36.0, 13.0, 18.0, 60.0, 40.0, 21.0, 42.0, 43.0, 19.0, 64.0, 60.0, 44.0, 57.0, 49.0, 64.0, 79.0, 74.0, 82.0, 56.0, 71.0, 53.0, 69.0, 70.0, 48.0, 19.0, 68.0, 87.0, 70.0, 94.0, 100.0, 18.0, 70.0, 75.0, 64.0, 80.0, 83.0]\n",
            "38.05\n"
          ]
        }
      ]
    },
    {
      "cell_type": "code",
      "source": [
        "print(\"Average cumulative reward:\", mean)\n",
        "print(\"Is my agent good enough?\", mean > 195)"
      ],
      "metadata": {
        "colab": {
          "base_uri": "https://localhost:8080/"
        },
        "id": "pOiOp9OYlo5Y",
        "outputId": "adf8e298-4481-4432-cff3-1e265537a902"
      },
      "execution_count": 34,
      "outputs": [
        {
          "output_type": "stream",
          "name": "stdout",
          "text": [
            "Average cumulative reward: 38.05\n",
            "Is my agent good enough? False\n"
          ]
        }
      ]
    },
    {
      "cell_type": "markdown",
      "source": [
        "## Task 3: Render one episode played by the agent"
      ],
      "metadata": {
        "id": "Yg0DCT38lFA6"
      }
    },
    {
      "cell_type": "code",
      "source": [
        "env = RecordVideo(gym.make(\"CartPole-v1\"), \"./video\")\n",
        "observation = env.reset()\n",
        "\n",
        "# Assuming you have already defined and trained your MonteCarloAgent (agent)\n",
        "# and have state_space_size and action_space_size defined\n",
        "\n",
        "# Initialize the agent here (if not already done)\n",
        "agent = MonteCarloAgent(action_space_size, state_space_size)\n",
        "\n",
        "while True:\n",
        "    env.render()\n",
        "\n",
        "    # Get the current state and discretize it\n",
        "    state = agent.discretize_state(observation)\n",
        "\n",
        "    # Choose an action using the agent's policy\n",
        "    action = agent.choose_action(state)\n",
        "\n",
        "    observation, reward, done, info = env.step(action)\n",
        "    if done:\n",
        "      break;\n",
        "env.close()\n",
        "show_video()"
      ],
      "metadata": {
        "colab": {
          "base_uri": "https://localhost:8080/",
          "height": 476
        },
        "id": "_gxtuw8KUFLE",
        "outputId": "42c6b0fe-4a85-4f80-ae94-e2812cb29ed9"
      },
      "execution_count": 40,
      "outputs": [
        {
          "output_type": "stream",
          "name": "stderr",
          "text": [
            "/usr/local/lib/python3.11/dist-packages/gym/utils/passive_env_checker.py:241: DeprecationWarning: `np.bool8` is a deprecated alias for `np.bool_`.  (Deprecated NumPy 1.24)\n",
            "  if not isinstance(terminated, (bool, np.bool8)):\n"
          ]
        },
        {
          "output_type": "display_data",
          "data": {
            "text/plain": [
              "<IPython.core.display.HTML object>"
            ],
            "text/html": [
              "<video alt=\"test\" autoplay \n",
              "                loop controls style=\"height: 400px;\">\n",
              "                <source src=\"data:video/mp4;base64,AAAAIGZ0eXBpc29tAAACAGlzb21pc28yYXZjMW1wNDEAAAAIZnJlZQAAFVZtZGF0AAACrgYF//+q3EXpvebZSLeWLNgg2SPu73gyNjQgLSBjb3JlIDE2MyByMzA2MCA1ZGI2YWE2IC0gSC4yNjQvTVBFRy00IEFWQyBjb2RlYyAtIENvcHlsZWZ0IDIwMDMtMjAyMSAtIGh0dHA6Ly93d3cudmlkZW9sYW4ub3JnL3gyNjQuaHRtbCAtIG9wdGlvbnM6IGNhYmFjPTEgcmVmPTMgZGVibG9jaz0xOjA6MCBhbmFseXNlPTB4MzoweDExMyBtZT1oZXggc3VibWU9NyBwc3k9MSBwc3lfcmQ9MS4wMDowLjAwIG1peGVkX3JlZj0xIG1lX3JhbmdlPTE2IGNocm9tYV9tZT0xIHRyZWxsaXM9MSA4eDhkY3Q9MSBjcW09MCBkZWFkem9uZT0yMSwxMSBmYXN0X3Bza2lwPTEgY2hyb21hX3FwX29mZnNldD0tMiB0aHJlYWRzPTMgbG9va2FoZWFkX3RocmVhZHM9MSBzbGljZWRfdGhyZWFkcz0wIG5yPTAgZGVjaW1hdGU9MSBpbnRlcmxhY2VkPTAgYmx1cmF5X2NvbXBhdD0wIGNvbnN0cmFpbmVkX2ludHJhPTAgYmZyYW1lcz0zIGJfcHlyYW1pZD0yIGJfYWRhcHQ9MSBiX2JpYXM9MCBkaXJlY3Q9MSB3ZWlnaHRiPTEgb3Blbl9nb3A9MCB3ZWlnaHRwPTIga2V5aW50PTI1MCBrZXlpbnRfbWluPTI1IHNjZW5lY3V0PTQwIGludHJhX3JlZnJlc2g9MCByY19sb29rYWhlYWQ9NDAgcmM9Y3JmIG1idHJlZT0xIGNyZj0yMy4wIHFjb21wPTAuNjAgcXBtaW49MCBxcG1heD02OSBxcHN0ZXA9NCBpcF9yYXRpbz0xLjQwIGFxPTE6MS4wMACAAAACpWWIhAAz//727L4FNf2f0JcRLMXaSnA+KqSAgHc0wAAAAwAAAwAAFgn0I7DkqgN3QAAAHGAFBCwCPCVC2EhH2OcG/yz9ftkBOk9+ueegRZC+JHquM/Rs3eCYuPPdFvTH09thOcu6OhHxTPqBvgWfMm1I+r5mLVb/t7e7bemdGINjXFqu1kOUypeKtIItqhoweT6/fZw1mu+OMpxvlNDnJoCu7iIecfF3n9Dv3oy35oc331b0W26CjIPS51sPimAPe5773CpqLzA2zmJ5ZtmnLfEerq7SeF1JFr7kscx2cPMTP09WkOZnG1Upk7xDTntEYuVNZFtFb7My/pFZrkul/g82I8WeN7Vk3Bj7mq5OZtBKj/TkjNa1nSzJLUBPiC2GCKq/oIorgHhtsbqjydXeDbMkTE/tqMnU75J8I6mHcQ6s9FMBW4AxSXwcGu64pcn2xLg7iu4M70/uHX74BZxv9APh2lnv6YGogr7x2jfBbw9vYGmAmZ3E+wZPxah+rb2Hd6yMTTv26XhDJGPvvjnk41Wl05UklDvPiXq6u83UXXfuTiaYtAW3gTI7mHp5QOHwI6I3DuLkc3CfFR+cqpR4ne/WU6XwGPlMazeb7mnWAot+XHAmHD/G2+HxnAZuCRaInsAoN63Cnqc//MfPD2QP8Px9vUnzXOpp58LoEsGjrBNZUVVaV2nuz1l7TscSeTyeCgK4l6Wz2DPFrv7q4nC+Z3JZpGeQQuQCFtOQuQAp+iWHsJYFE/wuiG1Ihe5WNosY0la4IW+mu8JQ/l17eYeBI0gvXbalnU0aSyN4eGqVwmFobpe9MxEhuWhA7E6oAAu7HeoVg85rDDzCNcH8bG7+COK4uJ0dH453q4hFHP2jOHIIhF0/2vej1WAAf4Q5AAADAAADAC3hAAABH0GaJGxDP/6eEAAARbjz5YpAYwBaN537bUahBdgeMTfuL6Qm/1/e3gQVv7AOCRDZ9Xo4wfUeYlhPtERK49Jty1CUCDLGHyKTU862xz+fjvNXAWv2XPvAx/N9jWLXwHqxgiRcUcCAiYLcXXuQXNkTPF7cl9A3wXEveb3IVXFeH35+ygcGov4sbolbpj55JVQ/fq+Xfiy1sJsuZs/eJeDGVP5EKpZZzr7wDseSQDuhMdz0MPWzsu9JfFYhMXvTOiGZRpV6CTB5eRN9O/eKos8dZhaJpqjclk7GzKTkgvLUKuOL+BYw78YW/VSUpzHEAa0iPi60SjKOZu9PZYyXvp5BZZfSmEgBxH7HQkCUdD3NRHMfyMUiCiTVlCNekN+lnN6QAAAAUUGeQniEfwAAFrMtkNDfFVhkKgBYqmA/QX3RDfff7kJAdeUqrlg9QvBVGFTF/esjGYPaIUk/3ZkR9dw+3bHohTWruaUyXybkNZaOhTtHxpebMQAAACkBnmF0R/8AACOsCna3jhtTigRPrc2wbOSPbscGjrL829YkY+hAgXCKgAAAAB4BnmNqR/8AACOxzAnnzhQK+aHb2KFVfjakr1ZjUqEAAAAvQZpoSahBaJlMCGf//p4QAAAZ31FYs/P0YDZgWo6I/D++7L/e5R5DfmPpnRoHpUEAAAAZQZ6GRREsI/8AAAMAKq7CSBzXwJDexgY+VQAAAC0BnqV0R/8AAAMAQ1h9PAtVotZF4YLbQ2wAANFS8AxeWHg6Llve7HcvZ3J/7tkAAAAQAZ6nakf/AAADAEN+N7BzQAAAAE5BmqxJqEFsmUwIZ//+nhAAAEVFKLQA6RheGqBf8iL1vsnq9fqmgZudfrjdnguZI+mfNAyNO3Lm6rrk6mkT4E0yopLQCQOxMMzQJNsVaQsAAAAaQZ7KRRUsI/8AABa8TmzC2FIXpERQFxxLo2sAAAAQAZ7pdEf/AAADAENYeKC7gAAAACkBnutqR/8AACOyHSKfbaMMwitDAW0fia5J4rOfzZ+JM0Wp8A29NTA1iwAAACVBmvBJqEFsmUwIZ//+nhAAAAMDnoHnNbko6y7320/fqQUo+KUlAAAAJUGfDkUVLCP/AAADAyNxMeFRfJCVxNPTUxT/poZZxrcVQH+gPYsAAAAbAZ8tdEf/AAADALoLbz19G3wVlRUJkhaHKSExAAAAGQGfL2pH/wAAAwC6J8wcXnfhg6ThMej99sAAAABPQZs0SahBbJlMCGf//p4QAAAJ7mKaADPbp4s2TvPjDi9KsNG+ztIT+GvyKkMbAIBP0NE9FRBAfhvu5CrCGLgG4F093mFi6en/XWrBkq6wGAAAACJBn1JFFSwj/wAAAwE0NpYYgrZ12yLu31ka9Y34iOzgL5sxAAAAJwGfcXRH/wAAAwBDWH0682LpkW+Hce33gA/I79I4+Yl2cE3I3CdswAAAACEBn3NqR/8AAAMB5cqwmjhz+1Dqj2H/ETCPVV8oXW9u4DAAAAA1QZt4SahBbJlMCGf//p4QAAADA56B6z/FgI0eUhR2xAM9vPpR4OZ/80aa/JodzlIBwyzbnBkAAAAYQZ+WRRUsI/8AAAMBLYGbGmSw2EBoCKS8AAAAFgGftXRH/wAAAwHain1QBEa69KGMTBkAAAAoAZ+3akf/AAADAeSYp9DFXXd4rgnzkeFjWaUlR4AQe9e4ZER5qjDTcQAAAHJBm7xJqEFsmUwIZ//+nhAAAEVFJnG8L/AoEDgCtLC/n2IGUSwVCud623YEQ7JAqJ9CHO80/fFjM4aVmIoznXKwbHtxRxc4zQpeynkURY34lbSldxszSQ72w6TYrkNIkuavaVHiGxc5nZBj+c2fPv/1LegAAAAhQZ/aRRUsI/8AABa1X0xR2LtEZ8RxmRJfYQfzRDjFZIbNAAAAHAGf+XRH/wAAI6w5Ba5PVRFMRGmY6jhLwx1INmAAAAAVAZ/7akf/AAAN1J2rjibKN5umH0IvAAAAfkGb4EmoQWyZTAhn//6eEAAAGx9jwVwMJWjwszulWjYDPAD99wm6Cv8BfvW1P9fvZuRq4BiAilnxkIQN2uEmU/s5dNLrgEy5MFrOVbmJ4yaV9CPyWolduKn9H6S/NEZCmVpEZ2k9CV1udejfGVXmW+NVo9Pov1eBf83cU8SaIQAAACBBnh5FFSwj/wAACKwKHESeBUeiiCqJcjFMNgyVCQ3vcAAAACoBnj10R/8AAA3OEvBNncIoQDuvqlD3T0+TbCgAAaol63v7nud/hbYmDlQAAAAaAZ4/akf/AAAFHnDZAH4tZ5DnfdHmpyIdY4MAAAC+QZokSahBbJlMCGf//p4QAABFRGp0DlC6Uy0uywAFfQ7l8fQX+Bd5NNXw29xBWvPOn8l1nkyiqWjZEFGnsuRpzCaFydosUGwEE3FnMb3xgTRZ8RnNHIbx39yJ4IObbpRM3SL3PDCITBpRJmU5J2t7jUIbMi098ZEv5n7EUjKvRBE5QiJuePdeT3H7KMPOLeq6DBmpapo4tKqFW0aj9D8j9wkWmK3J30MVylb0hqwP07mnjbR2a9GoT0PZa1EYIAAAADxBnkJFFSwj/wAAFrMsh72BPldvfD4vRlgOHLoAoVxIxOCrPdLq6UJf34Aa3HBgrSwKeLim5cLmWnoWxIsAAAAXAZ5hdEf/AAAjrDkFrk3Ypv0M8GzKPqoAAAAtAZ5jakf/AAAjvxr5oU3I1fmrrExmuYlERpsi5QAXnXbBFDr4dKMCr941jx2vAAAAvUGaaEmoQWyZTAhn//6eEAAARUSdA8ADjau5UMCHJsOMJybZWllscp+B4Wut2+Y7e//1bnB5hPVgaZS1cKDB7Iu9ra2+II3FjkI7T6XhKVcqK4iGtetWR8k83eP3Ug8VTwKU5eKPjCipprjZuRLqhtoFo3i3fbRMrCf8dYo0ETwmmYsT2nsTk3eDHRgPKr7XBrK7n+AWIuRcy7nPGQ6HJQ+E7VlYaIFJGmAaBTNRxhf+6rItgQLtJqG7AFSMlwAAADtBnoZFFSwj/wAAFqS/l+RNhXWJs4GZzeKY0xfIgU97sUO20IT/rrYjR7iDe1kjWK39OLcU/lFMeC8DgwAAACQBnqV0R/8AACPDF2ipz14QbHz4KyOLMGoIK4V4/RWhvC0w4i0AAAAgAZ6nakf/AAAjo6jIvXBkUBJxQPihik7vqidGC2ZY04IAAAC2QZqsSahBbJlMCF///oywAABGAPhgwAcbVMhOAXejIz+u76hJJwbVovtorYP9Hw8A1cIV6NoboyUNIXQPdXrP4mWZZVcSGrkxntCaGzcEYB7P6hwDorQTSGfsDtfarXXM5hDzWH6xiAr1cAYlET56hf9B/iRZLU2Va/jZzHk5AHxyDFmE4PeXPzQXZL+FzVo/nJBr22HKjJJ6RXErLqbS30SPENVva3U1sdMmhtaP/zDAtSsB8xEAAABaQZ7KRRUsI/8AABbASk7WJQ8xjEFQjgK8fnK2Gh9mf3lE5jGhmlEHiEHu7rmB4/dvTO4CN+kd/k3wwaK92Z9W8T4AHyJRFmRBi5JB4QnKTHp0JFbHHlh2b5alAAAAMwGe6XRH/wAAI8MXYRY2e/CufPv7yZC3P+zT5yxexGHsqAnVryDVOe+AHat/O3VvWijdqQAAADIBnutqR/8AACOuMS/SMvCORGxU0i9xULmrWBDrUc/nXbPNIzcOjZ5mOHzMCGuTZQLq9wAAAJBBmvBJqEFsmUwIX//+jLAAAEYQnfJS8nNV39DvwS3t39AIABcPNOh3GpMS28bdqXDOZ/Gu/7GYf2aBODWPg4+fsFF+oaY9+Nflj5m6FYyfwEdiQr+mGeb3PgteaG821PKfEdrNuTXtoZWYNMa45F0yicR3r5AtC2fCURBETyfmyYntXXd0ybD0CbSZAifYoF8AAABDQZ8ORRUsI/8AABaynt43GrWPeG5wS3qcD+okBd/jV1u3bvb1aXdUzDCXkPRihgGwQ80/S2VEYATV1LFDOrXxi2+teQAAADMBny10R/8AACPA0khrl0Z80P0qqUdHLkCz/W4BX9fbqOoubohMWqahgYZ+7XqM8SVicEEAAAAmAZ8vakf/AAAjrjEv0XlErAuJYlg1yN9fZexI1syeJ/wGb38Eg6YAAACbQZs0SahBbJlMCF///oywAABGem88Gu6PS2LLVI7RsSXGswGNqvpGlM1KSFnQREXW0yhRFXvrLB1rSK/a4qZUQAB0DPhQ9QmTrPfT3kq5MeMHrwdPMXSYX4GcKEF710cWgQdpasbCrspE4CJZ4nSnD++MjDST8h6uyMc71hSLKAIB+fo9q4d78ecEHFPyKt9AD24K/i2PT6GHRusAAABMQZ9SRRUsI/8AABa7YpXbr/JLkC4Pg1U5scIFSi+aFn/kp1LH+pZ55pgk5vasdCOEyTkWlvJ45g1d2ku2Fh80KYbZ+uF1rcHlKyDrwQAAACgBn3F0R/8AACOpzsWThZ5YXMl9sYDt8vgk3PH9fF+Nj+yi5ap7Dj4eAAAALQGfc2pH/wAAI7G+3wOcCTqdGDE8+xLYGWgS6a2fs8UmugXBCWK+QCLwYrPvcAAAAGhBm3hJqEFsmUwIV//+OEAAAQU34MCKTHYdf79BGP0+QKpBeChGfNHueuw8kPH4au0hmo9GYt9ugBsyCf6oFU/vGPoZicaESh1JNScy88htNGCUur9j1moSpuZLbf1vzO57Qzv9RH0DwQAAADVBn5ZFFSwj/wAAFiH9v++1wn1SI6KewAC2mHyX0Vn22CRVfUGt+kW0hzmdr3UoCjDYEAjrwAAAADcBn7V0R/8AACI+1hbBw55tBhPkJWP/vm0e8vrsrcPFxGvwaJ3n3PZRX1WcN5hdrbfv7iX/KyLBAAAAMwGft2pH/wAAIq1GQr0Yj3vd7zmg/GcU/ZDaNsOZEOSHE8KjYBeXX7Mf6AmsAhmv0QZ9iwAAAGZBm7tJqEFsmUwIT//98QAAAwKM7zFGOkb4BRRRmX94Tq28vTMYalZm4Pev8MZrLu6fp1kxxM+gztBQjdaKKLZkF0C8cCOjlr4ZGdFBWI+mD5bycA5hXQxugcnzuKjhV9PUD+EnV1MAAABIQZ/ZRRUsI/8AABYh/Y9mJ9NGj8JErADpZbixjUal01vS4lpVcnAJ9v0N4w/zne0rCBiyQCBFjX7VRIGfC0ZhlLGBf3gPkOARAAAAOAGf+mpH/wAAIq1XimkZ69bedyleHgjDfvk9inyA0MAa5fRQR3RZiKWXoX0vbJXyVXoU7A0IqcxUAAAASUGb/UmoQWyZTBRMf/yEAAAPl6IrtjI8A/A3swUWlyHLg7zycp3KAzS2dgYlWWHUX9v4T+IodtFramigAugOvtEa64RMiqQHLEEAAAAtAZ4cakf/AAAirUZEW0Ia2/g1IoXxf4aKzkc6RMjhR9OcnQXgIDg/MglA9CdvAAAGC21vb3YAAABsbXZoZAAAAAAAAAAAAAAAAAAAA+gAAATYAAEAAAEAAAAAAAAAAAAAAAABAAAAAAAAAAAAAAAAAAAAAQAAAAAAAAAAAAAAAAAAQAAAAAAAAAAAAAAAAAAAAAAAAAAAAAAAAAAAAAAAAAIAAAU1dHJhawAAAFx0a2hkAAAAAwAAAAAAAAAAAAAAAQAAAAAAAATYAAAAAAAAAAAAAAAAAAAAAAABAAAAAAAAAAAAAAAAAAAAAQAAAAAAAAAAAAAAAAAAQAAAAAJYAAABkAAAAAAAJGVkdHMAAAAcZWxzdAAAAAAAAAABAAAE2AAAAgAAAQAAAAAErW1kaWEAAAAgbWRoZAAAAAAAAAAAAAAAAAAAMgAAAD4AVcQAAAAAAC1oZGxyAAAAAAAAAAB2aWRlAAAAAAAAAAAAAAAAVmlkZW9IYW5kbGVyAAAABFhtaW5mAAAAFHZtaGQAAAABAAAAAAAAAAAAAAAkZGluZgAAABxkcmVmAAAAAAAAAAEAAAAMdXJsIAAAAAEAAAQYc3RibAAAALBzdHNkAAAAAAAAAAEAAACgYXZjMQAAAAAAAAABAAAAAAAAAAAAAAAAAAAAAAJYAZAASAAAAEgAAAAAAAAAAQAAAAAAAAAAAAAAAAAAAAAAAAAAAAAAAAAAAAAAAAAAABj//wAAADZhdmNDAWQAH//hABlnZAAfrNlAmDPl4QAAAwABAAADAGQPGDGWAQAGaOvjyyLA/fj4AAAAABRidHJ0AAAAAAAAiXMAAIlzAAAAGHN0dHMAAAAAAAAAAQAAAD4AAAEAAAAAFHN0c3MAAAAAAAAAAQAAAAEAAAH4Y3R0cwAAAAAAAAA9AAAAAQAAAgAAAAABAAAFAAAAAAEAAAIAAAAAAQAAAAAAAAABAAABAAAAAAEAAAUAAAAAAQAAAgAAAAABAAAAAAAAAAEAAAEAAAAAAQAABQAAAAABAAACAAAAAAEAAAAAAAAAAQAAAQAAAAABAAAFAAAAAAEAAAIAAAAAAQAAAAAAAAABAAABAAAAAAEAAAUAAAAAAQAAAgAAAAABAAAAAAAAAAEAAAEAAAAAAQAABQAAAAABAAACAAAAAAEAAAAAAAAAAQAAAQAAAAABAAAFAAAAAAEAAAIAAAAAAQAAAAAAAAABAAABAAAAAAEAAAUAAAAAAQAAAgAAAAABAAAAAAAAAAEAAAEAAAAAAQAABQAAAAABAAACAAAAAAEAAAAAAAAAAQAAAQAAAAABAAAFAAAAAAEAAAIAAAAAAQAAAAAAAAABAAABAAAAAAEAAAUAAAAAAQAAAgAAAAABAAAAAAAAAAEAAAEAAAAAAQAABQAAAAABAAACAAAAAAEAAAAAAAAAAQAAAQAAAAABAAAFAAAAAAEAAAIAAAAAAQAAAAAAAAABAAABAAAAAAEAAAUAAAAAAQAAAgAAAAABAAAAAAAAAAEAAAEAAAAAAQAABAAAAAACAAABAAAAAAEAAAMAAAAAAQAAAQAAAAAcc3RzYwAAAAAAAAABAAAAAQAAAD4AAAABAAABDHN0c3oAAAAAAAAAAAAAAD4AAAVbAAABIwAAAFUAAAAtAAAAIgAAADMAAAAdAAAAMQAAABQAAABSAAAAHgAAABQAAAAtAAAAKQAAACkAAAAfAAAAHQAAAFMAAAAmAAAAKwAAACUAAAA5AAAAHAAAABoAAAAsAAAAdgAAACUAAAAgAAAAGQAAAIIAAAAkAAAALgAAAB4AAADCAAAAQAAAABsAAAAxAAAAwQAAAD8AAAAoAAAAJAAAALoAAABeAAAANwAAADYAAACUAAAARwAAADcAAAAqAAAAnwAAAFAAAAAsAAAAMQAAAGwAAAA5AAAAOwAAADcAAABqAAAATAAAADwAAABNAAAAMQAAABRzdGNvAAAAAAAAAAEAAAAwAAAAYnVkdGEAAABabWV0YQAAAAAAAAAhaGRscgAAAAAAAAAAbWRpcmFwcGwAAAAAAAAAAAAAAAAtaWxzdAAAACWpdG9vAAAAHWRhdGEAAAABAAAAAExhdmY1OC43Ni4xMDA=\" type=\"video/mp4\" />\n",
              "             </video>"
            ]
          },
          "metadata": {}
        }
      ]
    },
    {
      "cell_type": "markdown",
      "source": [
        "Plug your agent to the code below to obtain rendered result."
      ],
      "metadata": {
        "id": "vx1awMr9lc_w"
      }
    }
  ]
}