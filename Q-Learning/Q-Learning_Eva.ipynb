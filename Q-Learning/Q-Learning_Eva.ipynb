{
 "cells": [
  {
   "cell_type": "markdown",
   "id": "a78463ed-fa1d-4b95-a952-ed78a0452a90",
   "metadata": {},
   "source": [
    "# Evaluation of Q-Learning"
   ]
  },
  {
   "cell_type": "code",
   "execution_count": 25,
   "id": "7f75abea-b5a9-4e8d-9b4d-906e82c3e86b",
   "metadata": {},
   "outputs": [],
   "source": [
    "import gym\n",
    "from gym import logger as gymlogger\n",
    "from gym.wrappers import RecordVideo\n",
    "gymlogger.set_level(40) #error only\n",
    "import numpy as np\n",
    "from collections import deque\n",
    "import random\n",
    "import matplotlib\n",
    "import matplotlib.pyplot as plt\n",
    "%matplotlib inline\n",
    "import math\n",
    "import glob\n",
    "import io\n",
    "import base64\n",
    "from IPython.display import HTML\n",
    "from IPython import display as ipythondisplay\n",
    "\n",
    "if not hasattr(np, \"bool8\"):\n",
    "    np.bool8 = np.bool_\n"
   ]
  },
  {
   "cell_type": "markdown",
   "id": "fd1fca79-f356-4071-a16e-d8ccfb630c80",
   "metadata": {},
   "source": [
    "# Call the trained Q-Learning agent's Q-Table"
   ]
  },
  {
   "cell_type": "code",
   "execution_count": 26,
   "id": "6686a77d-7de8-4bdd-800c-a716af23dafa",
   "metadata": {},
   "outputs": [],
   "source": [
    "Q = np.load(\"q_learning_Q_table.npy\")\n",
    "bins = np.load(\"q_learning_bins.npy\", allow_pickle=True)"
   ]
  },
  {
   "cell_type": "code",
   "execution_count": 27,
   "id": "21c9e6bf-4029-462e-9a57-7d110c6dce12",
   "metadata": {},
   "outputs": [],
   "source": [
    "def create_bins(num_bins, lower_bounds, upper_bounds):\n",
    "    bins = []\n",
    "    for i in range(len(num_bins)):\n",
    "        # Create num_bins[i]-1 cut points between lower and upper bound\n",
    "        bins.append(np.linspace(lower_bounds[i], upper_bounds[i], num_bins[i] - 1))\n",
    "    return bins\n",
    "\n",
    "def discretize_state(state, bins):\n",
    "    # Map each continuous state value into its corresponding bin index\n",
    "    return tuple(np.digitize(s, b) for s, b in zip(state, bins))"
   ]
  },
  {
   "cell_type": "code",
   "execution_count": 29,
   "id": "731254d1-6dd6-416c-8ce7-676a56adf285",
   "metadata": {},
   "outputs": [
    {
     "name": "stdout",
     "output_type": "stream",
     "text": [
      "Evaluation Episode 1: Reward = 500.0\n",
      "Evaluation Episode 2: Reward = 500.0\n",
      "Evaluation Episode 3: Reward = 500.0\n",
      "Evaluation Episode 4: Reward = 500.0\n",
      "Evaluation Episode 5: Reward = 500.0\n",
      "Evaluation Episode 6: Reward = 500.0\n",
      "Evaluation Episode 7: Reward = 500.0\n",
      "Evaluation Episode 8: Reward = 500.0\n",
      "Evaluation Episode 9: Reward = 500.0\n",
      "Evaluation Episode 10: Reward = 500.0\n",
      "Evaluation Episode 11: Reward = 500.0\n",
      "Evaluation Episode 12: Reward = 500.0\n",
      "Evaluation Episode 13: Reward = 500.0\n",
      "Evaluation Episode 14: Reward = 500.0\n",
      "Evaluation Episode 15: Reward = 500.0\n",
      "Evaluation Episode 16: Reward = 500.0\n",
      "Evaluation Episode 17: Reward = 500.0\n",
      "Evaluation Episode 18: Reward = 500.0\n",
      "Evaluation Episode 19: Reward = 500.0\n",
      "Evaluation Episode 20: Reward = 500.0\n",
      "Evaluation Episode 21: Reward = 500.0\n",
      "Evaluation Episode 22: Reward = 500.0\n",
      "Evaluation Episode 23: Reward = 500.0\n",
      "Evaluation Episode 24: Reward = 500.0\n",
      "Evaluation Episode 25: Reward = 500.0\n",
      "Evaluation Episode 26: Reward = 500.0\n",
      "Evaluation Episode 27: Reward = 500.0\n",
      "Evaluation Episode 28: Reward = 500.0\n",
      "Evaluation Episode 29: Reward = 500.0\n",
      "Evaluation Episode 30: Reward = 500.0\n",
      "Evaluation Episode 31: Reward = 500.0\n",
      "Evaluation Episode 32: Reward = 500.0\n",
      "Evaluation Episode 33: Reward = 500.0\n",
      "Evaluation Episode 34: Reward = 500.0\n",
      "Evaluation Episode 35: Reward = 500.0\n",
      "Evaluation Episode 36: Reward = 500.0\n",
      "Evaluation Episode 37: Reward = 500.0\n",
      "Evaluation Episode 38: Reward = 500.0\n",
      "Evaluation Episode 39: Reward = 500.0\n",
      "Evaluation Episode 40: Reward = 500.0\n",
      "Evaluation Episode 41: Reward = 500.0\n",
      "Evaluation Episode 42: Reward = 500.0\n",
      "Evaluation Episode 43: Reward = 500.0\n",
      "Evaluation Episode 44: Reward = 500.0\n",
      "Evaluation Episode 45: Reward = 500.0\n",
      "Evaluation Episode 46: Reward = 500.0\n",
      "Evaluation Episode 47: Reward = 500.0\n",
      "Evaluation Episode 48: Reward = 500.0\n",
      "Evaluation Episode 49: Reward = 500.0\n",
      "Evaluation Episode 50: Reward = 500.0\n",
      "Evaluation Episode 51: Reward = 500.0\n",
      "Evaluation Episode 52: Reward = 500.0\n",
      "Evaluation Episode 53: Reward = 500.0\n",
      "Evaluation Episode 54: Reward = 500.0\n",
      "Evaluation Episode 55: Reward = 500.0\n",
      "Evaluation Episode 56: Reward = 500.0\n",
      "Evaluation Episode 57: Reward = 500.0\n",
      "Evaluation Episode 58: Reward = 500.0\n",
      "Evaluation Episode 59: Reward = 500.0\n",
      "Evaluation Episode 60: Reward = 500.0\n",
      "Evaluation Episode 61: Reward = 500.0\n",
      "Evaluation Episode 62: Reward = 500.0\n",
      "Evaluation Episode 63: Reward = 500.0\n",
      "Evaluation Episode 64: Reward = 500.0\n",
      "Evaluation Episode 65: Reward = 500.0\n",
      "Evaluation Episode 66: Reward = 500.0\n",
      "Evaluation Episode 67: Reward = 500.0\n",
      "Evaluation Episode 68: Reward = 500.0\n",
      "Evaluation Episode 69: Reward = 500.0\n",
      "Evaluation Episode 70: Reward = 500.0\n",
      "Evaluation Episode 71: Reward = 500.0\n",
      "Evaluation Episode 72: Reward = 500.0\n",
      "Evaluation Episode 73: Reward = 500.0\n",
      "Evaluation Episode 74: Reward = 500.0\n",
      "Evaluation Episode 75: Reward = 500.0\n",
      "Evaluation Episode 76: Reward = 500.0\n",
      "Evaluation Episode 77: Reward = 500.0\n",
      "Evaluation Episode 78: Reward = 500.0\n",
      "Evaluation Episode 79: Reward = 500.0\n",
      "Evaluation Episode 80: Reward = 500.0\n",
      "Evaluation Episode 81: Reward = 500.0\n",
      "Evaluation Episode 82: Reward = 500.0\n",
      "Evaluation Episode 83: Reward = 500.0\n",
      "Evaluation Episode 84: Reward = 500.0\n",
      "Evaluation Episode 85: Reward = 500.0\n",
      "Evaluation Episode 86: Reward = 500.0\n",
      "Evaluation Episode 87: Reward = 500.0\n",
      "Evaluation Episode 88: Reward = 500.0\n",
      "Evaluation Episode 89: Reward = 500.0\n",
      "Evaluation Episode 90: Reward = 500.0\n",
      "Evaluation Episode 91: Reward = 500.0\n",
      "Evaluation Episode 92: Reward = 500.0\n",
      "Evaluation Episode 93: Reward = 500.0\n",
      "Evaluation Episode 94: Reward = 500.0\n",
      "Evaluation Episode 95: Reward = 500.0\n",
      "Evaluation Episode 96: Reward = 500.0\n",
      "Evaluation Episode 97: Reward = 500.0\n",
      "Evaluation Episode 98: Reward = 500.0\n",
      "Evaluation Episode 99: Reward = 500.0\n",
      "Evaluation Episode 100: Reward = 500.0\n",
      "Average Reward over 100 evaluation episodes: 500.00\n"
     ]
    }
   ],
   "source": [
    "from gym.wrappers import RecordVideo\n",
    "\n",
    "# Create a new evaluation environment with video recording enabled.\n",
    "video_folder = \"evaluation_videos\"\n",
    "env_evaluation = gym.make(\"CartPole-v1\")\n",
    "env_evaluation = RecordVideo(env_evaluation,\n",
    "                             video_folder=video_folder,\n",
    "                             episode_trigger=lambda ep: ep == eval_episodes,  # record only the last episode\n",
    "                             name_prefix=\"evaluation\")\n",
    "\n",
    "eval_episodes = 100\n",
    "evaluation_rewards = []\n",
    "max_steps = 500\n",
    "\n",
    "for ep in range(1, eval_episodes + 1):\n",
    "    state = env_evaluation.reset()\n",
    "    state_disc = discretize_state(state, bins)\n",
    "    cumulative_reward = 0\n",
    "    done = False\n",
    "\n",
    "    for step in range(max_steps):\n",
    "        # Pure exploitation: select the best action from Q-table (Pure Greedy)\n",
    "        action = np.argmax(Q[state_disc])\n",
    "        next_state, reward, done, info = env_evaluation.step(action)\n",
    "        cumulative_reward += reward\n",
    "        state_disc = discretize_state(next_state, bins)\n",
    "        if done:\n",
    "            break\n",
    "\n",
    "    evaluation_rewards.append(cumulative_reward)\n",
    "    print(f\"Evaluation Episode {ep}: Reward = {cumulative_reward}\")\n",
    "\n",
    "env_evaluation.close()\n",
    "\n",
    "avg_reward = np.mean(evaluation_rewards)\n",
    "print(f\"Average Reward over {eval_episodes} evaluation episodes: {avg_reward:.2f}\")\n"
   ]
  },
  {
   "cell_type": "code",
   "execution_count": 30,
   "id": "85a25050-4b42-46cc-b9a5-130753188346",
   "metadata": {},
   "outputs": [
    {
     "data": {
      "image/png": "[encoded data removed]",
      "text/plain": [
       "<Figure size 1000x500 with 1 Axes>"
      ]
     },
     "metadata": {},
     "output_type": "display_data"
    },
    {
     "name": "stdout",
     "output_type": "stream",
     "text": [
      "Average Reward over 100 evaluation episodes: 500.00\n"
     ]
    }
   ],
   "source": [
    "\n",
    "plt.figure(figsize=(10, 5))\n",
    "plt.plot(range(1, eval_episodes + 1), evaluation_rewards, marker='o', linestyle='-')\n",
    "plt.xlabel(\"Episode\")\n",
    "plt.ylabel(\"Cumulative Reward\")\n",
    "plt.title(\"Evaluation Performance over 100 Episodes\")\n",
    "plt.grid(True)\n",
    "plt.show()\n",
    "\n",
    "# Also print the average reward\n",
    "avg_reward = np.mean(evaluation_rewards)\n",
    "print(f\"Average Reward over {eval_episodes} evaluation episodes: {avg_reward:.2f}\")\n"
   ]
  },
  {
   "cell_type": "markdown",
   "id": "014b18ef-b75b-4fbf-9c08-52dc314d18c2",
   "metadata": {},
   "source": [
    "# Evaluation of Video "
   ]
  },
  {
   "cell_type": "code",
   "execution_count": 31,
   "id": "b18f0112-5196-4d61-a542-c091a3515a85",
   "metadata": {},
   "outputs": [
    {
     "data": {
      "text/html": [
       "<video controls  >\n",
       " <source src=\"data:video/mp4;base64,AAAAIGZ0eXBpc29tAAACAGlzb21pc28yYXZjMW1wNDEAAAAIZnJlZQAABDptZGF0AAACrwYF//+r3EXpvebZSLeWLNgg2SPu73gyNjQgLSBjb3JlIDE2NCByMzE5MiBjMjRlMDZjIC0gSC4yNjQvTVBFRy00IEFWQyBjb2RlYyAtIENvcHlsZWZ0IDIwMDMtMjAyNCAtIGh0dHA6Ly93d3cudmlkZW9sYW4ub3JnL3gyNjQuaHRtbCAtIG9wdGlvbnM6IGNhYmFjPTEgcmVmPTMgZGVibG9jaz0xOjA6MCBhbmFseXNlPTB4MzoweDExMyBtZT1oZXggc3VibWU9NyBwc3k9MSBwc3lfcmQ9MS4wMDowLjAwIG1peGVkX3JlZj0xIG1lX3JhbmdlPTE2IGNocm9tYV9tZT0xIHRyZWxsaXM9MSA4eDhkY3Q9MSBjcW09MCBkZWFkem9uZT0yMSwxMSBmYXN0X3Bza2lwPTEgY2hyb21hX3FwX29mZnNldD0tMiB0aHJlYWRzPTEyIGxvb2thaGVhZF90aHJlYWRzPTIgc2xpY2VkX3RocmVhZHM9MCBucj0wIGRlY2ltYXRlPTEgaW50ZXJsYWNlZD0wIGJsdXJheV9jb21wYXQ9MCBjb25zdHJhaW5lZF9pbnRyYT0wIGJmcmFtZXM9MyBiX3B5cmFtaWQ9MiBiX2FkYXB0PTEgYl9iaWFzPTAgZGlyZWN0PTEgd2VpZ2h0Yj0xIG9wZW5fZ29wPTAgd2VpZ2h0cD0yIGtleWludD0yNTAga2V5aW50X21pbj0yNSBzY2VuZWN1dD00MCBpbnRyYV9yZWZyZXNoPTAgcmNfbG9va2FoZWFkPTQwIHJjPWNyZiBtYnRyZWU9MSBjcmY9MjMuMCBxY29tcD0wLjYwIHFwbWluPTAgcXBtYXg9NjkgcXBzdGVwPTQgaXBfcmF0aW89MS40MCBhcT0xOjEuMDAAgAAAAXtliIQAf/70o/gU0ZZMMN+XH/PIo0QoyWSAzCmQAAADAAADAABbWoNU1b3f/5IAAAMAmIAhoTAPwPMRMVYqBLZ8QGVywBGEPyP0/OHy5qvHozoRH9qQt6Yxakq+5nqInWHQjuIAkEgAFkPFkkKK/sxJ7DYAlI96lfUt2iQkrPjRQFFwpH+W5aGGRBMzlYSRpT/AMFSSGXW1/mQuhEAcJF11TnENgNAfN7nIJeEXvWDJChjDgoDDD8AtiYQTB5aKbH9W9+ZhY/PXhiOa+eK5g9dHhne5PvMAyEX6G7ANMHV5Q+mqatX24OVev+y9AZTcFyWBzMYr6b+IYT+6vsAeAO/Rn/YzBv0NhqbL/1Pulbuf9vlfPE8fRvHgSaJsyAQLZNCISa0BpdFehnVvz51k1iR6dP6JYAAAEK0OAJTQl6WFmEOOYmTP4Y6YWkKrGOKeH7Xhf/DgY8uXG//FJ0wAAC7Hktjd1YRCcWOYq0lKAAADAAADAAADAAADAG7BAAADBm1vb3YAAABsbXZoZAAAAAAAAAAAAAAAAAAAA+gAAAAUAAEAAAEAAAAAAAAAAAAAAAABAAAAAAAAAAAAAAAAAAAAAQAAAAAAAAAAAAAAAAAAQAAAAAAAAAAAAAAAAAAAAAAAAAAAAAAAAAAAAAAAAAIAAAIxdHJhawAAAFx0a2hkAAAAAwAAAAAAAAAAAAAAAQAAAAAAAAAUAAAAAAAAAAAAAAAAAAAAAAABAAAAAAAAAAAAAAAAAAAAAQAAAAAAAAAAAAAAAAAAQAAAAAJYAAABkAAAAAAAJGVkdHMAAAAcZWxzdAAAAAAAAAABAAAAFAAAAAAAAQAAAAABqW1kaWEAAAAgbWRoZAAAAAAAAAAAAAAAAAAAMgAAAAEAVcQAAAAAAC1oZGxyAAAAAAAAAAB2aWRlAAAAAAAAAAAAAAAAVmlkZW9IYW5kbGVyAAAAAVRtaW5mAAAAFHZtaGQAAAABAAAAAAAAAAAAAAAkZGluZgAAABxkcmVmAAAAAAAAAAEAAAAMdXJsIAAAAAEAAAEUc3RibAAAALBzdHNkAAAAAAAAAAEAAACgYXZjMQAAAAAAAAABAAAAAAAAAAAAAAAAAAAAAAJYAZAASAAAAEgAAAAAAAAAARVMYXZjNjEuMTkuMTAwIGxpYngyNjQAAAAAAAAAAAAAABj//wAAADZhdmNDAWQAH//hABlnZAAfrNlAmDPl4QAAAwABAAADAGQPGDGWAQAGaOvjyyLA/fj4AAAAABRidHJ0AAAAAAAGjiAABo4gAAAAGHN0dHMAAAAAAAAAAQAAAAEAAAEAAAAAHHN0c2MAAAAAAAAAAQAAAAEAAAABAAAAAQAAABRzdHN6AAAAAAAABDIAAAABAAAAFHN0Y28AAAAAAAAAAQAAADAAAABhdWR0YQAAAFltZXRhAAAAAAAAACFoZGxyAAAAAAAAAABtZGlyYXBwbAAAAAAAAAAAAAAAACxpbHN0AAAAJKl0b28AAAAcZGF0YQAAAAEAAAAATGF2ZjYxLjcuMTAw\" type=\"video/mp4\">\n",
       " Your browser does not support the video tag.\n",
       " </video>"
      ],
      "text/plain": [
       "<IPython.core.display.Video object>"
      ]
     },
     "execution_count": 31,
     "metadata": {},
     "output_type": "execute_result"
    }
   ],
   "source": [
    "from IPython.display import Video\n",
    "Video(\"./evaluation-episode-100.mp4\", embed=True)\n"
   ]
  },
  {
   "cell_type": "code",
   "execution_count": null,
   "id": "30fa5766-8dee-4fe6-8bea-e05a1ff85af3",
   "metadata": {},
   "outputs": [],
   "source": []
  }
 ],
 "metadata": {
  "kernelspec": {
   "display_name": "Python 3 (ipykernel)",
   "language": "python",
   "name": "python3"
  },
  "language_info": {
   "codemirror_mode": {
    "name": "ipython",
    "version": 3
   },
   "file_extension": ".py",
   "mimetype": "text/x-python",
   "name": "python",
   "nbconvert_exporter": "python",
   "pygments_lexer": "ipython3",
   "version": "3.11.7"
  }
 },
 "nbformat": 4,
 "nbformat_minor": 5
}
