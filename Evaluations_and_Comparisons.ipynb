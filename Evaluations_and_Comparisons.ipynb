{
  "cells": [
    {
      "cell_type": "markdown",
      "id": "a78463ed-fa1d-4b95-a952-ed78a0452a90",
      "metadata": {
        "id": "a78463ed-fa1d-4b95-a952-ed78a0452a90"
      },
      "source": [
        "# Evaluation of Q-Learning"
      ]
    },
    {
      "cell_type": "markdown",
      "source": [
        "### Import dependencies"
      ],
      "metadata": {
        "id": "KJFQlREYljLi"
      },
      "id": "KJFQlREYljLi"
    },
    {
      "cell_type": "code",
      "execution_count": 1,
      "id": "c8329d49-5ccd-4d2e-a4ca-4027705b76c3",
      "metadata": {
        "colab": {
          "base_uri": "https://localhost:8080/"
        },
        "id": "c8329d49-5ccd-4d2e-a4ca-4027705b76c3",
        "outputId": "2aa7ff44-395f-47c3-cb50-dd4cd258eff9"
      },
      "outputs": [
        {
          "output_type": "stream",
          "name": "stdout",
          "text": [
            "Name: gym\n",
            "Version: 0.25.2\n",
            "Summary: Gym: A universal API for reinforcement learning environments\n",
            "Home-page: https://www.gymlibrary.ml/\n",
            "Author: Gym Community\n",
            "Author-email: jkterry@umd.edu\n",
            "License: MIT\n",
            "Location: /usr/local/lib/python3.11/dist-packages\n",
            "Requires: cloudpickle, gym-notices, numpy\n",
            "Required-by: dopamine_rl\n"
          ]
        }
      ],
      "source": [
        "! pip show gym"
      ]
    },
    {
      "cell_type": "code",
      "execution_count": 2,
      "id": "7f75abea-b5a9-4e8d-9b4d-906e82c3e86b",
      "metadata": {
        "id": "7f75abea-b5a9-4e8d-9b4d-906e82c3e86b"
      },
      "outputs": [],
      "source": [
        "import gym\n",
        "from gym import logger as gymlogger\n",
        "from gym.wrappers import RecordVideo\n",
        "gymlogger.set_level(40) #error only\n",
        "import numpy as np\n",
        "from collections import deque\n",
        "import random\n",
        "import matplotlib\n",
        "import matplotlib.pyplot as plt\n",
        "%matplotlib inline\n",
        "import math\n",
        "import glob\n",
        "import io\n",
        "import base64\n",
        "from IPython.display import HTML\n",
        "from IPython import display as ipythondisplay\n",
        "\n",
        "if not hasattr(np, \"bool8\"):\n",
        "    np.bool8 = np.bool_\n"
      ]
    },
    {
      "cell_type": "markdown",
      "id": "fd1fca79-f356-4071-a16e-d8ccfb630c80",
      "metadata": {
        "id": "fd1fca79-f356-4071-a16e-d8ccfb630c80"
      },
      "source": [
        "### Load the trained Q-Learning agent's Q-Table"
      ]
    },
    {
      "cell_type": "code",
      "execution_count": 5,
      "id": "6686a77d-7de8-4bdd-800c-a716af23dafa",
      "metadata": {
        "id": "6686a77d-7de8-4bdd-800c-a716af23dafa"
      },
      "outputs": [],
      "source": [
        "Q = np.load(\"q_learning_q_table.npy\")\n",
        "bins = np.load(\"q_learning_bins.npy\", allow_pickle=True)"
      ]
    },
    {
      "cell_type": "markdown",
      "id": "4cf7279a-cc54-413f-880e-9adba2939481",
      "metadata": {
        "id": "4cf7279a-cc54-413f-880e-9adba2939481"
      },
      "source": [
        "### Define the helper functions(same as the Q-Learning training file)"
      ]
    },
    {
      "cell_type": "code",
      "execution_count": 6,
      "id": "21c9e6bf-4029-462e-9a57-7d110c6dce12",
      "metadata": {
        "id": "21c9e6bf-4029-462e-9a57-7d110c6dce12"
      },
      "outputs": [],
      "source": [
        "def create_bins(num_bins, lower_bounds, upper_bounds):\n",
        "    bins = []\n",
        "    for i in range(len(num_bins)):\n",
        "        # Create num_bins[i]-1 cut points between lower and upper bound\n",
        "        bins.append(np.linspace(lower_bounds[i], upper_bounds[i], num_bins[i] - 1))\n",
        "    return bins\n",
        "\n",
        "def discretize_state(state, bins):\n",
        "    # Map each continuous state value into its corresponding bin index\n",
        "    return tuple(np.digitize(s, b) for s, b in zip(state, bins))"
      ]
    },
    {
      "cell_type": "markdown",
      "id": "763c6b80-2d0e-4b52-b8cf-06d294d282d7",
      "metadata": {
        "id": "763c6b80-2d0e-4b52-b8cf-06d294d282d7"
      },
      "source": [
        "### Run the evaluation and record the video:"
      ]
    },
    {
      "cell_type": "markdown",
      "id": "08b15ee5-619f-425d-873b-73dbc43728b9",
      "metadata": {
        "id": "08b15ee5-619f-425d-873b-73dbc43728b9"
      },
      "source": [
        "(Warning the block below going to take 3-5 min to execute)"
      ]
    },
    {
      "cell_type": "code",
      "execution_count": 8,
      "id": "731254d1-6dd6-416c-8ce7-676a56adf285",
      "metadata": {
        "colab": {
          "base_uri": "https://localhost:8080/"
        },
        "id": "731254d1-6dd6-416c-8ce7-676a56adf285",
        "outputId": "31b68779-3cfd-43a5-fa94-35f1a21577bd"
      },
      "outputs": [
        {
          "output_type": "stream",
          "name": "stdout",
          "text": [
            "Evaluation Episode 1: Reward = 500.0\n",
            "Evaluation Episode 2: Reward = 500.0\n",
            "Evaluation Episode 3: Reward = 500.0\n",
            "Evaluation Episode 4: Reward = 500.0\n",
            "Evaluation Episode 5: Reward = 500.0\n",
            "Evaluation Episode 6: Reward = 500.0\n",
            "Evaluation Episode 7: Reward = 500.0\n",
            "Evaluation Episode 8: Reward = 500.0\n",
            "Evaluation Episode 9: Reward = 500.0\n",
            "Evaluation Episode 10: Reward = 500.0\n",
            "Evaluation Episode 11: Reward = 500.0\n",
            "Evaluation Episode 12: Reward = 500.0\n",
            "Evaluation Episode 13: Reward = 500.0\n",
            "Evaluation Episode 14: Reward = 500.0\n",
            "Evaluation Episode 15: Reward = 500.0\n",
            "Evaluation Episode 16: Reward = 500.0\n",
            "Evaluation Episode 17: Reward = 500.0\n",
            "Evaluation Episode 18: Reward = 500.0\n",
            "Evaluation Episode 19: Reward = 500.0\n",
            "Evaluation Episode 20: Reward = 500.0\n",
            "Evaluation Episode 21: Reward = 500.0\n",
            "Evaluation Episode 22: Reward = 500.0\n",
            "Evaluation Episode 23: Reward = 500.0\n",
            "Evaluation Episode 24: Reward = 500.0\n",
            "Evaluation Episode 25: Reward = 500.0\n",
            "Evaluation Episode 26: Reward = 500.0\n",
            "Evaluation Episode 27: Reward = 54.0\n",
            "Evaluation Episode 28: Reward = 500.0\n",
            "Evaluation Episode 29: Reward = 500.0\n",
            "Evaluation Episode 30: Reward = 500.0\n",
            "Evaluation Episode 31: Reward = 500.0\n",
            "Evaluation Episode 32: Reward = 500.0\n",
            "Evaluation Episode 33: Reward = 500.0\n",
            "Evaluation Episode 34: Reward = 500.0\n",
            "Evaluation Episode 35: Reward = 500.0\n",
            "Evaluation Episode 36: Reward = 500.0\n",
            "Evaluation Episode 37: Reward = 19.0\n",
            "Evaluation Episode 38: Reward = 500.0\n",
            "Evaluation Episode 39: Reward = 500.0\n",
            "Evaluation Episode 40: Reward = 500.0\n",
            "Evaluation Episode 41: Reward = 500.0\n",
            "Evaluation Episode 42: Reward = 500.0\n",
            "Evaluation Episode 43: Reward = 500.0\n",
            "Evaluation Episode 44: Reward = 500.0\n",
            "Evaluation Episode 45: Reward = 500.0\n",
            "Evaluation Episode 46: Reward = 500.0\n",
            "Evaluation Episode 47: Reward = 500.0\n",
            "Evaluation Episode 48: Reward = 500.0\n",
            "Evaluation Episode 49: Reward = 500.0\n",
            "Evaluation Episode 50: Reward = 500.0\n",
            "Evaluation Episode 51: Reward = 500.0\n",
            "Evaluation Episode 52: Reward = 500.0\n",
            "Evaluation Episode 53: Reward = 500.0\n",
            "Evaluation Episode 54: Reward = 500.0\n",
            "Evaluation Episode 55: Reward = 500.0\n",
            "Evaluation Episode 56: Reward = 500.0\n",
            "Evaluation Episode 57: Reward = 500.0\n",
            "Evaluation Episode 58: Reward = 500.0\n",
            "Evaluation Episode 59: Reward = 500.0\n",
            "Evaluation Episode 60: Reward = 500.0\n",
            "Evaluation Episode 61: Reward = 500.0\n",
            "Evaluation Episode 62: Reward = 500.0\n",
            "Evaluation Episode 63: Reward = 500.0\n",
            "Evaluation Episode 64: Reward = 500.0\n",
            "Evaluation Episode 65: Reward = 500.0\n",
            "Evaluation Episode 66: Reward = 500.0\n",
            "Evaluation Episode 67: Reward = 500.0\n",
            "Evaluation Episode 68: Reward = 500.0\n",
            "Evaluation Episode 69: Reward = 500.0\n",
            "Evaluation Episode 70: Reward = 500.0\n",
            "Evaluation Episode 71: Reward = 500.0\n",
            "Evaluation Episode 72: Reward = 500.0\n",
            "Evaluation Episode 73: Reward = 500.0\n",
            "Evaluation Episode 74: Reward = 500.0\n",
            "Evaluation Episode 75: Reward = 500.0\n",
            "Evaluation Episode 76: Reward = 500.0\n",
            "Evaluation Episode 77: Reward = 500.0\n",
            "Evaluation Episode 78: Reward = 500.0\n",
            "Evaluation Episode 79: Reward = 500.0\n",
            "Evaluation Episode 80: Reward = 500.0\n",
            "Evaluation Episode 81: Reward = 500.0\n",
            "Evaluation Episode 82: Reward = 500.0\n",
            "Evaluation Episode 83: Reward = 500.0\n",
            "Evaluation Episode 84: Reward = 500.0\n",
            "Evaluation Episode 85: Reward = 500.0\n",
            "Evaluation Episode 86: Reward = 500.0\n",
            "Evaluation Episode 87: Reward = 500.0\n",
            "Evaluation Episode 88: Reward = 500.0\n",
            "Evaluation Episode 89: Reward = 500.0\n",
            "Evaluation Episode 90: Reward = 500.0\n",
            "Evaluation Episode 91: Reward = 500.0\n",
            "Evaluation Episode 92: Reward = 500.0\n",
            "Evaluation Episode 93: Reward = 500.0\n",
            "Evaluation Episode 94: Reward = 500.0\n",
            "Evaluation Episode 95: Reward = 19.0\n",
            "Evaluation Episode 96: Reward = 500.0\n",
            "Evaluation Episode 97: Reward = 500.0\n",
            "Evaluation Episode 98: Reward = 500.0\n",
            "Evaluation Episode 99: Reward = 500.0\n",
            "Evaluation Episode 100: Reward = 500.0\n",
            "Average Reward over 100 evaluation episodes: 485.92\n"
          ]
        }
      ],
      "source": [
        "import gym\n",
        "import numpy as np\n",
        "from gym.wrappers import RecordVideo\n",
        "\n",
        "# Ensure that eval_episodes is defined before using it in the lambda function\n",
        "eval_episodes = 100\n",
        "\n",
        "# Create a new evaluation environment with video recording enabled.\n",
        "video_folder = \"evaluation_v\"\n",
        "env_evaluation = gym.make(\"CartPole-v1\", render_mode=\"rgb_array\")\n",
        "env_evaluation = RecordVideo(\n",
        "    env_evaluation,\n",
        "    video_folder=video_folder,\n",
        "    episode_trigger=lambda ep:ep % 10 == 0,\n",
        "    name_prefix=\"evaluation\"\n",
        ")\n",
        "\n",
        "result = env_evaluation.reset()\n",
        "observation, info = result[:2]\n",
        "\n",
        "\n",
        "# Assume discretize_state, bins, and Q are defined elsewhere in your notebook\n",
        "evaluation_rewards = []\n",
        "max_steps = 500\n",
        "\n",
        "for ep in range(1, eval_episodes + 1):\n",
        "    state = env_evaluation.reset()\n",
        "    state_disc = discretize_state(state, bins)\n",
        "    cumulative_reward = 0\n",
        "    done = False\n",
        "\n",
        "    for step in range(max_steps):\n",
        "        # Pure exploitation: select the best action from Q-table (Pure Greedy)\n",
        "        action = np.argmax(Q[state_disc])\n",
        "        next_state, reward, done, info = env_evaluation.step(action)\n",
        "        cumulative_reward += reward\n",
        "        state_disc = discretize_state(next_state, bins)\n",
        "\n",
        "        # Explicitly render the frame so it gets recorded\n",
        "        env_evaluation.render()\n",
        "\n",
        "        if done:\n",
        "            break\n",
        "\n",
        "    evaluation_rewards.append(cumulative_reward)\n",
        "    print(f\"Evaluation Episode {ep}: Reward = {cumulative_reward}\")\n",
        "\n",
        "env_evaluation.close()\n",
        "\n",
        "avg_reward = np.mean(evaluation_rewards)\n",
        "print(f\"Average Reward over {eval_episodes} evaluation episodes: {avg_reward:.2f}\")\n"
      ]
    },
    {
      "cell_type": "code",
      "execution_count": 9,
      "id": "85a25050-4b42-46cc-b9a5-130753188346",
      "metadata": {
        "colab": {
          "base_uri": "https://localhost:8080/",
          "height": 504
        },
        "id": "85a25050-4b42-46cc-b9a5-130753188346",
        "outputId": "67a430c2-874d-4190-cc05-cd3c65e91e9f"
      },
      "outputs": [
        {
          "output_type": "display_data",
          "data": {
            "text/plain": [
              "<Figure size 1000x500 with 1 Axes>"
            ],
            "image/png": "[encoded data removed]"
          },
          "metadata": {}
        },
        {
          "output_type": "stream",
          "name": "stdout",
          "text": [
            "Average Reward over 100 evaluation episodes: 485.92\n"
          ]
        }
      ],
      "source": [
        "\n",
        "plt.figure(figsize=(10, 5))\n",
        "plt.plot(range(1, eval_episodes + 1), evaluation_rewards, marker='o', linestyle='-')\n",
        "plt.xlabel(\"Episode\")\n",
        "plt.ylabel(\"Cumulative Reward\")\n",
        "plt.title(\"Evaluation Performance over 100 Episodes\")\n",
        "plt.grid(True)\n",
        "plt.show()\n",
        "\n",
        "# Also print the average reward\n",
        "avg_reward = np.mean(evaluation_rewards)\n",
        "print(f\"Average Reward over {eval_episodes} evaluation episodes: {avg_reward:.2f}\")\n"
      ]
    },
    {
      "cell_type": "markdown",
      "id": "014b18ef-b75b-4fbf-9c08-52dc314d18c2",
      "metadata": {
        "id": "014b18ef-b75b-4fbf-9c08-52dc314d18c2"
      },
      "source": [
        "### Evaluation of Video"
      ]
    },
    {
      "cell_type": "code",
      "execution_count": 10,
      "id": "b18f0112-5196-4d61-a542-c091a3515a85",
      "metadata": {
        "colab": {
          "base_uri": "https://localhost:8080/",
          "height": 422
        },
        "id": "b18f0112-5196-4d61-a542-c091a3515a85",
        "outputId": "b3f14f06-60b5-4d56-ac92-bce9997202b8"
      },
      "outputs": [
        {
          "output_type": "execute_result",
          "data": {
            "text/plain": [
              "<IPython.core.display.Video object>"
            ],
            "text/html": [
              "<video controls  >\n",
              " <source src=\"data:video/mp4;base64,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\" type=\"video/mp4\">\n",
              " Your browser does not support the video tag.\n",
              " </video>"
            ]
          },
          "metadata": {},
          "execution_count": 10
        }
      ],
      "source": [
        "from IPython.display import Video\n",
        "Video(\"./evaluation_v/evaluation-episode-90.mp4\", embed=True)\n"
      ]
    },
    {
      "cell_type": "markdown",
      "source": [
        "# Evaluation of Deep Q-learning"
      ],
      "metadata": {
        "id": "SIwpZckvl8Ij"
      },
      "id": "SIwpZckvl8Ij"
    },
    {
      "cell_type": "markdown",
      "source": [
        "### Import Dependencies"
      ],
      "metadata": {
        "id": "BP9a-eSVlTwP"
      },
      "id": "BP9a-eSVlTwP"
    },
    {
      "cell_type": "code",
      "source": [
        "import random\n",
        "import numpy as np\n",
        "import torch\n",
        "import torch.optim as optim\n",
        "import torch.nn.functional as F\n",
        "import gym\n",
        "from collections import deque\n",
        "import matplotlib.pyplot as plt\n",
        "\n",
        "import io\n",
        "import base64\n",
        "from gym import logger as gymlogger\n",
        "from gym.wrappers import RecordVideo\n",
        "gymlogger.set_level(40) #error only\n",
        "from IPython.display import HTML\n",
        "from IPython import display as ipythondisplay\n",
        "\n",
        "if not hasattr(np, \"bool8\"):\n",
        "    np.bool8 = np.bool_"
      ],
      "metadata": {
        "id": "u5Mr3xrQmGC9"
      },
      "id": "u5Mr3xrQmGC9",
      "execution_count": 11,
      "outputs": []
    },
    {
      "cell_type": "markdown",
      "source": [
        "### Define the DQN network"
      ],
      "metadata": {
        "id": "dhG8wtlemJMm"
      },
      "id": "dhG8wtlemJMm"
    },
    {
      "cell_type": "code",
      "source": [
        "# Define DQN network\n",
        "# DQN network here is a subclass of torch.nn.module\n",
        "class DQN(torch.nn.Module):\n",
        "    def __init__(self, input_dim, hidden_dim, output_dim):\n",
        "        super(DQN, self).__init__()\n",
        "\n",
        "        # define the first fully connected layer that takes input features\n",
        "        self.fc1 = torch.nn.Linear(input_dim, hidden_dim)\n",
        "        # define the second fully connected layer that takes the output of the first layer\n",
        "        # and maps it to another hidden representation of size 'hidden_dim'\n",
        "        self.fc2 = torch.nn.Linear(hidden_dim, hidden_dim)\n",
        "        # Define the output layer that maps the final hidden representation to the Q-values for each action,\n",
        "        # where 'output_dim' is the number of possible actions\n",
        "        self.out = torch.nn.Linear(hidden_dim, output_dim)\n",
        "\n",
        "    def forward(self, x):\n",
        "        # self.fc1(x) means passing the data through the first layer called self.fc1\n",
        "        # apply ReLU activation\n",
        "        x = torch.relu(self.fc1(x))\n",
        "        x = torch.relu(self.fc2(x))\n",
        "        return self.out(x) # return calculated output"
      ],
      "metadata": {
        "id": "UDih4yttmLLB"
      },
      "id": "UDih4yttmLLB",
      "execution_count": 12,
      "outputs": []
    },
    {
      "cell_type": "markdown",
      "source": [
        "### Define the helper function: step_env"
      ],
      "metadata": {
        "id": "kb6ehmxjmOvi"
      },
      "id": "kb6ehmxjmOvi"
    },
    {
      "cell_type": "code",
      "source": [
        "def step_env(env, action):\n",
        "    result = env.step(action)\n",
        "    # If 4 values, legacy gym: (next_state, reward, done, info)\n",
        "    if len(result) == 4:\n",
        "        next_state, reward, done, info = result\n",
        "    # If 5 values, new gym API: (next_state, reward, terminated, truncated, info)\n",
        "    elif len(result) == 5:\n",
        "        next_state, reward, terminated, truncated, info = result\n",
        "        done = terminated or truncated\n",
        "    else:\n",
        "        raise ValueError(\"Unexpected number of values returned from env.step()\")\n",
        "    return next_state, reward, done, info"
      ],
      "metadata": {
        "id": "f0sIHmV4mPjz"
      },
      "id": "f0sIHmV4mPjz",
      "execution_count": 13,
      "outputs": []
    },
    {
      "cell_type": "markdown",
      "source": [
        "### Define the evaluate_dqn_agent function"
      ],
      "metadata": {
        "id": "hDoYqaKwmSh0"
      },
      "id": "hDoYqaKwmSh0"
    },
    {
      "cell_type": "code",
      "source": [
        "def evaluate_dqn_agent(env, policy_net, episodes=10, max_steps=500):\n",
        "    \"\"\"\n",
        "    Evaluate the trained DQN agent on the given environment.\n",
        "\n",
        "    Parameters:\n",
        "        env: Gym environment for evaluation.\n",
        "        policy_net: The trained DQN policy network.\n",
        "        episodes: Number of evaluation episodes.\n",
        "        max_steps: Maximum steps per episode.\n",
        "\n",
        "    Returns:\n",
        "        List of cumulative rewards for each episode.\n",
        "    \"\"\"\n",
        "    # Choose the device (CPU or GPU)\n",
        "    device = torch.device(\"cuda\" if torch.cuda.is_available() else \"cpu\")\n",
        "    policy_net.eval()  # Set the network in evaluation mode.\n",
        "    rewards = []\n",
        "\n",
        "    for episode in range(episodes):\n",
        "        # Reset the environment and handle the new Gym API format.\n",
        "        result = env.reset(return_info=True)\n",
        "        state = result[0] if isinstance(result, tuple) else result\n",
        "        state = torch.tensor(state, dtype=torch.float32, device=device).unsqueeze(0)\n",
        "        cumulative_reward = 0\n",
        "\n",
        "        for t in range(max_steps):\n",
        "            # Use the policy network to select an action.\n",
        "\n",
        "            env.render()\n",
        "            with torch.no_grad():\n",
        "                q_values = policy_net(state)\n",
        "                action = q_values.argmax().item()\n",
        "            next_state, reward, done, info = step_env(env, action)\n",
        "            cumulative_reward += reward\n",
        "            # Handle possible tuple in the next state.\n",
        "            if isinstance(next_state, tuple):\n",
        "                next_state = next_state[0]\n",
        "            state = torch.tensor(next_state, dtype=torch.float32, device=device).unsqueeze(0)\n",
        "\n",
        "            if done:\n",
        "                break\n",
        "\n",
        "        rewards.append(cumulative_reward)\n",
        "        print(f\"Evaluation Episode {episode+1}: Reward = {cumulative_reward}\")\n",
        "\n",
        "    avg_reward = np.mean(rewards)\n",
        "    print(f\"Average Reward over {episodes} evaluation episodes: {avg_reward:.2f}\")\n",
        "    return rewards\n"
      ],
      "metadata": {
        "id": "17VHR4v6mUc3"
      },
      "id": "17VHR4v6mUc3",
      "execution_count": 24,
      "outputs": []
    },
    {
      "cell_type": "markdown",
      "source": [
        "### Initialize the DQN model"
      ],
      "metadata": {
        "id": "m9i6LKoul12q"
      },
      "id": "m9i6LKoul12q"
    },
    {
      "cell_type": "code",
      "source": [
        "# Set up the device\n",
        "device = torch.device(\"cuda\" if torch.cuda.is_available() else \"cpu\")\n",
        "\n",
        "# Define the model architecture exactly as used during training.\n",
        "input_dim = 4     # For CartPole-v1, there are 4 state values.\n",
        "hidden_dim = 64   # Hidden layer size must be the same as in training.\n",
        "output_dim = 2    # For CartPole-v1, there are 2 possible actions.\n",
        "\n",
        "# Initialize the model and load the saved state dictionary.\n",
        "policy_net = DQN(input_dim, hidden_dim, output_dim).to(device)\n",
        "# Load the saved state dictionary into the policy network from the 'policy_net.pth' file,\n",
        "policy_net.load_state_dict(torch.load(\"policy_net.pth\", map_location=device))\n",
        "policy_net.eval()  # Set the model to evaluation mode\n",
        "\n",
        "\n"
      ],
      "metadata": {
        "colab": {
          "base_uri": "https://localhost:8080/"
        },
        "id": "TPxEThjEmZB_",
        "outputId": "8861a674-743b-4d84-c48b-3641dcdbca46"
      },
      "id": "TPxEThjEmZB_",
      "execution_count": 25,
      "outputs": [
        {
          "output_type": "execute_result",
          "data": {
            "text/plain": [
              "DQN(\n",
              "  (fc1): Linear(in_features=4, out_features=64, bias=True)\n",
              "  (fc2): Linear(in_features=64, out_features=64, bias=True)\n",
              "  (out): Linear(in_features=64, out_features=2, bias=True)\n",
              ")"
            ]
          },
          "metadata": {},
          "execution_count": 25
        }
      ]
    },
    {
      "cell_type": "markdown",
      "source": [
        "### Run the evaluation and record the video:"
      ],
      "metadata": {
        "id": "D_ZT278zmcyc"
      },
      "id": "D_ZT278zmcyc"
    },
    {
      "cell_type": "code",
      "source": [
        "# Setup the evaluation environment with video recording enabled.\n",
        "video_folder = \"evaluation_videos\"\n",
        "# Define which episode to record. For example, if episodes=10, record the 10th episode (index 9).\n",
        "eval_episode_to_record = 100\n",
        "\n",
        "env = gym.make(\"CartPole-v1\",render_mode=\"rgb_array\")\n",
        "env = RecordVideo(env,\n",
        "                  video_folder=video_folder,\n",
        "                  episode_trigger=lambda ep:ep % 10 == 0,\n",
        "                  name_prefix=\"evaluation\")\n",
        "\n",
        "\n",
        "evaluation_rewards = evaluate_dqn_agent(env, policy_net, episodes=100)\n",
        "env.close()"
      ],
      "metadata": {
        "colab": {
          "base_uri": "https://localhost:8080/"
        },
        "id": "2xzQ9Wsymb_y",
        "outputId": "70cc77c5-ed78-46b4-a0c7-e48e24f32a52"
      },
      "id": "2xzQ9Wsymb_y",
      "execution_count": 26,
      "outputs": [
        {
          "output_type": "stream",
          "name": "stdout",
          "text": [
            "Evaluation Episode 1: Reward = 500.0\n",
            "Evaluation Episode 2: Reward = 500.0\n",
            "Evaluation Episode 3: Reward = 500.0\n",
            "Evaluation Episode 4: Reward = 500.0\n",
            "Evaluation Episode 5: Reward = 500.0\n",
            "Evaluation Episode 6: Reward = 500.0\n",
            "Evaluation Episode 7: Reward = 500.0\n",
            "Evaluation Episode 8: Reward = 500.0\n",
            "Evaluation Episode 9: Reward = 500.0\n",
            "Evaluation Episode 10: Reward = 500.0\n",
            "Evaluation Episode 11: Reward = 500.0\n",
            "Evaluation Episode 12: Reward = 500.0\n",
            "Evaluation Episode 13: Reward = 500.0\n",
            "Evaluation Episode 14: Reward = 500.0\n",
            "Evaluation Episode 15: Reward = 500.0\n",
            "Evaluation Episode 16: Reward = 500.0\n",
            "Evaluation Episode 17: Reward = 500.0\n",
            "Evaluation Episode 18: Reward = 500.0\n",
            "Evaluation Episode 19: Reward = 500.0\n",
            "Evaluation Episode 20: Reward = 500.0\n",
            "Evaluation Episode 21: Reward = 500.0\n",
            "Evaluation Episode 22: Reward = 500.0\n",
            "Evaluation Episode 23: Reward = 500.0\n",
            "Evaluation Episode 24: Reward = 500.0\n",
            "Evaluation Episode 25: Reward = 500.0\n",
            "Evaluation Episode 26: Reward = 500.0\n",
            "Evaluation Episode 27: Reward = 500.0\n",
            "Evaluation Episode 28: Reward = 500.0\n",
            "Evaluation Episode 29: Reward = 500.0\n",
            "Evaluation Episode 30: Reward = 500.0\n",
            "Evaluation Episode 31: Reward = 500.0\n",
            "Evaluation Episode 32: Reward = 500.0\n",
            "Evaluation Episode 33: Reward = 500.0\n",
            "Evaluation Episode 34: Reward = 500.0\n",
            "Evaluation Episode 35: Reward = 500.0\n",
            "Evaluation Episode 36: Reward = 500.0\n",
            "Evaluation Episode 37: Reward = 500.0\n",
            "Evaluation Episode 38: Reward = 500.0\n",
            "Evaluation Episode 39: Reward = 500.0\n",
            "Evaluation Episode 40: Reward = 500.0\n",
            "Evaluation Episode 41: Reward = 500.0\n",
            "Evaluation Episode 42: Reward = 500.0\n",
            "Evaluation Episode 43: Reward = 500.0\n",
            "Evaluation Episode 44: Reward = 500.0\n",
            "Evaluation Episode 45: Reward = 500.0\n",
            "Evaluation Episode 46: Reward = 500.0\n",
            "Evaluation Episode 47: Reward = 500.0\n",
            "Evaluation Episode 48: Reward = 500.0\n",
            "Evaluation Episode 49: Reward = 500.0\n",
            "Evaluation Episode 50: Reward = 500.0\n",
            "Evaluation Episode 51: Reward = 500.0\n",
            "Evaluation Episode 52: Reward = 500.0\n",
            "Evaluation Episode 53: Reward = 500.0\n",
            "Evaluation Episode 54: Reward = 500.0\n",
            "Evaluation Episode 55: Reward = 500.0\n",
            "Evaluation Episode 56: Reward = 500.0\n",
            "Evaluation Episode 57: Reward = 500.0\n",
            "Evaluation Episode 58: Reward = 500.0\n",
            "Evaluation Episode 59: Reward = 500.0\n",
            "Evaluation Episode 60: Reward = 500.0\n",
            "Evaluation Episode 61: Reward = 500.0\n",
            "Evaluation Episode 62: Reward = 500.0\n",
            "Evaluation Episode 63: Reward = 500.0\n",
            "Evaluation Episode 64: Reward = 500.0\n",
            "Evaluation Episode 65: Reward = 500.0\n",
            "Evaluation Episode 66: Reward = 500.0\n",
            "Evaluation Episode 67: Reward = 500.0\n",
            "Evaluation Episode 68: Reward = 500.0\n",
            "Evaluation Episode 69: Reward = 500.0\n",
            "Evaluation Episode 70: Reward = 500.0\n",
            "Evaluation Episode 71: Reward = 500.0\n",
            "Evaluation Episode 72: Reward = 500.0\n",
            "Evaluation Episode 73: Reward = 500.0\n",
            "Evaluation Episode 74: Reward = 500.0\n",
            "Evaluation Episode 75: Reward = 500.0\n",
            "Evaluation Episode 76: Reward = 500.0\n",
            "Evaluation Episode 77: Reward = 500.0\n",
            "Evaluation Episode 78: Reward = 500.0\n",
            "Evaluation Episode 79: Reward = 500.0\n",
            "Evaluation Episode 80: Reward = 500.0\n",
            "Evaluation Episode 81: Reward = 500.0\n",
            "Evaluation Episode 82: Reward = 500.0\n",
            "Evaluation Episode 83: Reward = 500.0\n",
            "Evaluation Episode 84: Reward = 500.0\n",
            "Evaluation Episode 85: Reward = 500.0\n",
            "Evaluation Episode 86: Reward = 500.0\n",
            "Evaluation Episode 87: Reward = 500.0\n",
            "Evaluation Episode 88: Reward = 500.0\n",
            "Evaluation Episode 89: Reward = 500.0\n",
            "Evaluation Episode 90: Reward = 500.0\n",
            "Evaluation Episode 91: Reward = 500.0\n",
            "Evaluation Episode 92: Reward = 500.0\n",
            "Evaluation Episode 93: Reward = 500.0\n",
            "Evaluation Episode 94: Reward = 500.0\n",
            "Evaluation Episode 95: Reward = 500.0\n",
            "Evaluation Episode 96: Reward = 500.0\n",
            "Evaluation Episode 97: Reward = 500.0\n",
            "Evaluation Episode 98: Reward = 500.0\n",
            "Evaluation Episode 99: Reward = 500.0\n",
            "Evaluation Episode 100: Reward = 500.0\n",
            "Average Reward over 100 evaluation episodes: 500.00\n"
          ]
        }
      ]
    },
    {
      "cell_type": "code",
      "source": [
        "plt.figure(figsize=(10, 5))\n",
        "plt.plot(range(1, eval_episode_to_record + 1), evaluation_rewards, marker='o', linestyle='-')\n",
        "plt.xlabel(\"Episode\")\n",
        "plt.ylabel(\"Cumulative Reward\")\n",
        "plt.title(\"Evaluation Performance over 100 Episodes\")\n",
        "plt.grid(True)\n",
        "plt.show()\n",
        "\n",
        "# Also print the average reward\n",
        "avg_reward = np.mean(evaluation_rewards)\n",
        "print(f\"Average Reward over {eval_episode_to_record} evaluation episodes: {avg_reward:.2f}\")"
      ],
      "metadata": {
        "colab": {
          "base_uri": "https://localhost:8080/",
          "height": 504
        },
        "id": "FQbBBZfDmg0k",
        "outputId": "73322d11-335c-4b07-8757-27a385cfa65a"
      },
      "id": "FQbBBZfDmg0k",
      "execution_count": 21,
      "outputs": [
        {
          "output_type": "display_data",
          "data": {
            "text/plain": [
              "<Figure size 1000x500 with 1 Axes>"
            ],
            "image/png": "[encoded data removed]"
          },
          "metadata": {}
        },
        {
          "output_type": "stream",
          "name": "stdout",
          "text": [
            "Average Reward over 100 evaluation episodes: 500.00\n"
          ]
        }
      ]
    },
    {
      "cell_type": "markdown",
      "source": [
        "### Evaluation of video"
      ],
      "metadata": {
        "id": "Vp1g2PNZmkT3"
      },
      "id": "Vp1g2PNZmkT3"
    },
    {
      "cell_type": "code",
      "source": [
        "from IPython.display import Video\n",
        "Video(\"./evaluation-episode-100.mp4\", embed=True)"
      ],
      "metadata": {
        "colab": {
          "base_uri": "https://localhost:8080/",
          "height": 172
        },
        "id": "YX5CMhsimifd",
        "outputId": "69653383-c66c-4bb8-9005-e89937ccb9e6"
      },
      "id": "YX5CMhsimifd",
      "execution_count": 22,
      "outputs": [
        {
          "output_type": "execute_result",
          "data": {
            "text/plain": [
              "<IPython.core.display.Video object>"
            ],
            "text/html": [
              "<video controls  >\n",
              " <source src=\"data:None;base64,./evaluation-episode-100.mp4\" type=\"None\">\n",
              " Your browser does not support the video tag.\n",
              " </video>"
            ]
          },
          "metadata": {},
          "execution_count": 22
        }
      ]
    },
    {
      "cell_type": "markdown",
      "source": [
        "# Evaluation of Monte Carlo"
      ],
      "metadata": {
        "id": "dVFR2NXtm1Iq"
      },
      "id": "dVFR2NXtm1Iq"
    },
    {
      "cell_type": "markdown",
      "source": [],
      "metadata": {
        "id": "YpxpQaxPm77S"
      },
      "id": "YpxpQaxPm77S"
    }
  ],
  "metadata": {
    "kernelspec": {
      "display_name": "Python 3",
      "name": "python3"
    },
    "language_info": {
      "codemirror_mode": {
        "name": "ipython",
        "version": 3
      },
      "file_extension": ".py",
      "mimetype": "text/x-python",
      "name": "python",
      "nbconvert_exporter": "python",
      "pygments_lexer": "ipython3",
      "version": "3.11.7"
    },
    "colab": {
      "provenance": [],
      "gpuType": "T4"
    },
    "accelerator": "GPU"
  },
  "nbformat": 4,
  "nbformat_minor": 5
}