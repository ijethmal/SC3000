{
  "nbformat": 4,
  "nbformat_minor": 0,
  "metadata": {
    "colab": {
      "provenance": [],
      "gpuType": "T4"
    },
    "kernelspec": {
      "name": "python3",
      "display_name": "Python 3"
    },
    "language_info": {
      "name": "python"
    },
    "accelerator": "GPU"
  },
  "cells": [
    {
      "cell_type": "markdown",
      "source": [
        "## Evaluation of Deep Q-learning"
      ],
      "metadata": {
        "id": "4_IKZtLMfrE0"
      }
    },
    {
      "cell_type": "markdown",
      "source": [
        "## Import Dependencies"
      ],
      "metadata": {
        "id": "zpUbkanKf4Po"
      }
    },
    {
      "cell_type": "code",
      "source": [
        "import random\n",
        "import numpy as np\n",
        "import torch\n",
        "import torch.optim as optim\n",
        "import torch.nn.functional as F\n",
        "import gym\n",
        "from collections import deque\n",
        "import matplotlib.pyplot as plt\n",
        "\n",
        "import io\n",
        "import base64\n",
        "from gym import logger as gymlogger\n",
        "from gym.wrappers import RecordVideo\n",
        "gymlogger.set_level(40) #error only\n",
        "from IPython.display import HTML\n",
        "from IPython import display as ipythondisplay\n",
        "\n",
        "if not hasattr(np, \"bool8\"):\n",
        "    np.bool8 = np.bool_"
      ],
      "metadata": {
        "id": "t_z_XmAd74uy"
      },
      "execution_count": 1,
      "outputs": []
    },
    {
      "cell_type": "markdown",
      "source": [
        "### Define the DQN network"
      ],
      "metadata": {
        "id": "ITuSG87Of1Cs"
      }
    },
    {
      "cell_type": "code",
      "execution_count": 2,
      "metadata": {
        "id": "ypmTXSi170NI"
      },
      "outputs": [],
      "source": [
        "# Define DQN network\n",
        "# DQN network here is a subclass of torch.nn.module\n",
        "class DQN(torch.nn.Module):\n",
        "    def __init__(self, input_dim, hidden_dim, output_dim):\n",
        "        super(DQN, self).__init__()\n",
        "\n",
        "        # define the first fully connected layer that takes input features\n",
        "        self.fc1 = torch.nn.Linear(input_dim, hidden_dim)\n",
        "        # define the second fully connected layer that takes the output of the first layer\n",
        "        # and maps it to another hidden representation of size 'hidden_dim'\n",
        "        self.fc2 = torch.nn.Linear(hidden_dim, hidden_dim)\n",
        "        # Define the output layer that maps the final hidden representation to the Q-values for each action,\n",
        "        # where 'output_dim' is the number of possible actions\n",
        "        self.out = torch.nn.Linear(hidden_dim, output_dim)\n",
        "\n",
        "    def forward(self, x):\n",
        "        # self.fc1(x) means passing the data through the first layer called self.fc1\n",
        "        # apply ReLU activation\n",
        "        x = torch.relu(self.fc1(x))\n",
        "        x = torch.relu(self.fc2(x))\n",
        "        return self.out(x) # return calculated output"
      ]
    },
    {
      "cell_type": "markdown",
      "source": [
        "### Define the helper function: step_env"
      ],
      "metadata": {
        "id": "XypN9swzf9cH"
      }
    },
    {
      "cell_type": "code",
      "source": [
        "def step_env(env, action):\n",
        "    result = env.step(action)\n",
        "    # If 4 values, legacy gym: (next_state, reward, done, info)\n",
        "    if len(result) == 4:\n",
        "        next_state, reward, done, info = result\n",
        "    # If 5 values, new gym API: (next_state, reward, terminated, truncated, info)\n",
        "    elif len(result) == 5:\n",
        "        next_state, reward, terminated, truncated, info = result\n",
        "        done = terminated or truncated\n",
        "    else:\n",
        "        raise ValueError(\"Unexpected number of values returned from env.step()\")\n",
        "    return next_state, reward, done, info"
      ],
      "metadata": {
        "id": "GxYX79d88IoZ"
      },
      "execution_count": 3,
      "outputs": []
    },
    {
      "cell_type": "markdown",
      "source": [
        "### Define the evaluate_dqn_agent function"
      ],
      "metadata": {
        "id": "t04Gm9PWgB95"
      }
    },
    {
      "cell_type": "code",
      "source": [
        "def evaluate_dqn_agent(env, policy_net, episodes=10, max_steps=500):\n",
        "    \"\"\"\n",
        "    Evaluate the trained DQN agent on the given environment.\n",
        "\n",
        "    Parameters:\n",
        "        env: Gym environment for evaluation.\n",
        "        policy_net: The trained DQN policy network.\n",
        "        episodes: Number of evaluation episodes.\n",
        "        max_steps: Maximum steps per episode.\n",
        "\n",
        "    Returns:\n",
        "        List of cumulative rewards for each episode.\n",
        "    \"\"\"\n",
        "    # Choose the device (CPU or GPU)\n",
        "    device = torch.device(\"cuda\" if torch.cuda.is_available() else \"cpu\")\n",
        "    policy_net.eval()  # Set the network in evaluation mode.\n",
        "    rewards = []\n",
        "\n",
        "    for episode in range(episodes):\n",
        "        # Reset the environment and handle the new Gym API format.\n",
        "        result = env.reset(return_info=True)\n",
        "        state = result[0] if isinstance(result, tuple) else result\n",
        "        state = torch.tensor(state, dtype=torch.float32, device=device).unsqueeze(0)\n",
        "        cumulative_reward = 0\n",
        "\n",
        "        for t in range(max_steps):\n",
        "            # Use the policy network to select an action.\n",
        "            # if episode % 100 == 0:  # Render only every 100th episode\n",
        "            env.render()\n",
        "            with torch.no_grad():\n",
        "                q_values = policy_net(state)\n",
        "                action = q_values.argmax().item()\n",
        "            next_state, reward, done, info = step_env(env, action)\n",
        "            cumulative_reward += reward\n",
        "            # Handle possible tuple in the next state.\n",
        "            if isinstance(next_state, tuple):\n",
        "                next_state = next_state[0]\n",
        "            state = torch.tensor(next_state, dtype=torch.float32, device=device).unsqueeze(0)\n",
        "\n",
        "            if done:\n",
        "                break\n",
        "\n",
        "        rewards.append(cumulative_reward)\n",
        "        print(f\"Evaluation Episode {episode+1}: Reward = {cumulative_reward}\")\n",
        "\n",
        "    avg_reward = np.mean(rewards)\n",
        "    print(f\"Average Reward over {episodes} evaluation episodes: {avg_reward:.2f}\")\n",
        "    return rewards\n"
      ],
      "metadata": {
        "id": "XVFM8ZgV76vx"
      },
      "execution_count": 4,
      "outputs": []
    },
    {
      "cell_type": "markdown",
      "source": [
        "### Initialize the DQN model"
      ],
      "metadata": {
        "id": "ycK6-_PagSan"
      }
    },
    {
      "cell_type": "code",
      "source": [
        "# Set up the device\n",
        "device = torch.device(\"cuda\" if torch.cuda.is_available() else \"cpu\")\n",
        "\n",
        "# Define the model architecture exactly as used during training.\n",
        "input_dim = 4     # For CartPole-v1, there are 4 state values.\n",
        "hidden_dim = 64   # Hidden layer size must be the same as in training.\n",
        "output_dim = 2    # For CartPole-v1, there are 2 possible actions.\n",
        "\n",
        "# Initialize the model and load the saved state dictionary.\n",
        "policy_net = DQN(input_dim, hidden_dim, output_dim).to(device)\n",
        "# Load the saved state dictionary into the policy network from the 'policy_net.pth' file,\n",
        "policy_net.load_state_dict(torch.load(\"policy_net.pth\", map_location=device))\n",
        "policy_net.eval()  # Set the model to evaluation mode\n",
        "\n",
        "\n"
      ],
      "metadata": {
        "colab": {
          "base_uri": "https://localhost:8080/"
        },
        "id": "cIbzR4l68P3H",
        "outputId": "9874f10a-9b0e-4034-ce66-4c2b65ff36a2"
      },
      "execution_count": 8,
      "outputs": [
        {
          "output_type": "execute_result",
          "data": {
            "text/plain": [
              "DQN(\n",
              "  (fc1): Linear(in_features=4, out_features=64, bias=True)\n",
              "  (fc2): Linear(in_features=64, out_features=64, bias=True)\n",
              "  (out): Linear(in_features=64, out_features=2, bias=True)\n",
              ")"
            ]
          },
          "metadata": {},
          "execution_count": 8
        }
      ]
    },
    {
      "cell_type": "markdown",
      "source": [
        "### Run the evaluation and record the video:"
      ],
      "metadata": {
        "id": "W3Ca8UsZgZiw"
      }
    },
    {
      "cell_type": "code",
      "source": [
        "# Setup the evaluation environment with video recording enabled.\n",
        "video_folder = \"evaluation_videos\"\n",
        "# Define which episode to record. For example, if episodes=10, record the 10th episode (index 9).\n",
        "eval_episode_to_record = 100\n",
        "\n",
        "env = gym.make(\"CartPole-v1\")\n",
        "env = RecordVideo(env,\n",
        "                  video_folder=video_folder,\n",
        "                  episode_trigger=lambda ep: ep == eval_episode_to_record,\n",
        "                  name_prefix=\"evaluation\")\n",
        "\n",
        "\n",
        "evaluation_rewards = evaluate_dqn_agent(env, policy_net, episodes=100)\n",
        "env.close()"
      ],
      "metadata": {
        "colab": {
          "base_uri": "https://localhost:8080/"
        },
        "id": "az5o1QCe8ECd",
        "outputId": "a4dd58dd-0af0-48d3-b21a-402ec8e5ac91"
      },
      "execution_count": 10,
      "outputs": [
        {
          "output_type": "stream",
          "name": "stdout",
          "text": [
            "Evaluation Episode 1: Reward = 500.0\n",
            "Evaluation Episode 2: Reward = 500.0\n",
            "Evaluation Episode 3: Reward = 500.0\n",
            "Evaluation Episode 4: Reward = 500.0\n",
            "Evaluation Episode 5: Reward = 500.0\n",
            "Evaluation Episode 6: Reward = 500.0\n",
            "Evaluation Episode 7: Reward = 500.0\n",
            "Evaluation Episode 8: Reward = 500.0\n",
            "Evaluation Episode 9: Reward = 500.0\n",
            "Evaluation Episode 10: Reward = 500.0\n",
            "Evaluation Episode 11: Reward = 500.0\n",
            "Evaluation Episode 12: Reward = 500.0\n",
            "Evaluation Episode 13: Reward = 500.0\n",
            "Evaluation Episode 14: Reward = 500.0\n",
            "Evaluation Episode 15: Reward = 500.0\n",
            "Evaluation Episode 16: Reward = 500.0\n",
            "Evaluation Episode 17: Reward = 500.0\n",
            "Evaluation Episode 18: Reward = 500.0\n",
            "Evaluation Episode 19: Reward = 500.0\n",
            "Evaluation Episode 20: Reward = 500.0\n",
            "Evaluation Episode 21: Reward = 500.0\n",
            "Evaluation Episode 22: Reward = 500.0\n",
            "Evaluation Episode 23: Reward = 500.0\n",
            "Evaluation Episode 24: Reward = 500.0\n",
            "Evaluation Episode 25: Reward = 500.0\n",
            "Evaluation Episode 26: Reward = 500.0\n",
            "Evaluation Episode 27: Reward = 500.0\n",
            "Evaluation Episode 28: Reward = 500.0\n",
            "Evaluation Episode 29: Reward = 500.0\n",
            "Evaluation Episode 30: Reward = 500.0\n",
            "Evaluation Episode 31: Reward = 500.0\n",
            "Evaluation Episode 32: Reward = 500.0\n",
            "Evaluation Episode 33: Reward = 500.0\n",
            "Evaluation Episode 34: Reward = 500.0\n",
            "Evaluation Episode 35: Reward = 500.0\n",
            "Evaluation Episode 36: Reward = 500.0\n",
            "Evaluation Episode 37: Reward = 500.0\n",
            "Evaluation Episode 38: Reward = 500.0\n",
            "Evaluation Episode 39: Reward = 500.0\n",
            "Evaluation Episode 40: Reward = 500.0\n",
            "Evaluation Episode 41: Reward = 500.0\n",
            "Evaluation Episode 42: Reward = 500.0\n",
            "Evaluation Episode 43: Reward = 500.0\n",
            "Evaluation Episode 44: Reward = 500.0\n",
            "Evaluation Episode 45: Reward = 500.0\n",
            "Evaluation Episode 46: Reward = 500.0\n",
            "Evaluation Episode 47: Reward = 500.0\n",
            "Evaluation Episode 48: Reward = 500.0\n",
            "Evaluation Episode 49: Reward = 500.0\n",
            "Evaluation Episode 50: Reward = 500.0\n",
            "Evaluation Episode 51: Reward = 500.0\n",
            "Evaluation Episode 52: Reward = 500.0\n",
            "Evaluation Episode 53: Reward = 500.0\n",
            "Evaluation Episode 54: Reward = 500.0\n",
            "Evaluation Episode 55: Reward = 500.0\n",
            "Evaluation Episode 56: Reward = 500.0\n",
            "Evaluation Episode 57: Reward = 500.0\n",
            "Evaluation Episode 58: Reward = 500.0\n",
            "Evaluation Episode 59: Reward = 500.0\n",
            "Evaluation Episode 60: Reward = 500.0\n",
            "Evaluation Episode 61: Reward = 500.0\n",
            "Evaluation Episode 62: Reward = 500.0\n",
            "Evaluation Episode 63: Reward = 500.0\n",
            "Evaluation Episode 64: Reward = 500.0\n",
            "Evaluation Episode 65: Reward = 500.0\n",
            "Evaluation Episode 66: Reward = 500.0\n",
            "Evaluation Episode 67: Reward = 500.0\n",
            "Evaluation Episode 68: Reward = 500.0\n",
            "Evaluation Episode 69: Reward = 500.0\n",
            "Evaluation Episode 70: Reward = 500.0\n",
            "Evaluation Episode 71: Reward = 500.0\n",
            "Evaluation Episode 72: Reward = 500.0\n",
            "Evaluation Episode 73: Reward = 500.0\n",
            "Evaluation Episode 74: Reward = 500.0\n",
            "Evaluation Episode 75: Reward = 500.0\n",
            "Evaluation Episode 76: Reward = 500.0\n",
            "Evaluation Episode 77: Reward = 500.0\n",
            "Evaluation Episode 78: Reward = 500.0\n",
            "Evaluation Episode 79: Reward = 500.0\n",
            "Evaluation Episode 80: Reward = 500.0\n",
            "Evaluation Episode 81: Reward = 500.0\n",
            "Evaluation Episode 82: Reward = 500.0\n",
            "Evaluation Episode 83: Reward = 500.0\n",
            "Evaluation Episode 84: Reward = 500.0\n",
            "Evaluation Episode 85: Reward = 500.0\n",
            "Evaluation Episode 86: Reward = 500.0\n",
            "Evaluation Episode 87: Reward = 500.0\n",
            "Evaluation Episode 88: Reward = 500.0\n",
            "Evaluation Episode 89: Reward = 500.0\n",
            "Evaluation Episode 90: Reward = 500.0\n",
            "Evaluation Episode 91: Reward = 500.0\n",
            "Evaluation Episode 92: Reward = 500.0\n",
            "Evaluation Episode 93: Reward = 500.0\n",
            "Evaluation Episode 94: Reward = 500.0\n",
            "Evaluation Episode 95: Reward = 500.0\n",
            "Evaluation Episode 96: Reward = 500.0\n",
            "Evaluation Episode 97: Reward = 500.0\n",
            "Evaluation Episode 98: Reward = 500.0\n",
            "Evaluation Episode 99: Reward = 500.0\n",
            "Evaluation Episode 100: Reward = 500.0\n",
            "Average Reward over 100 evaluation episodes: 500.00\n"
          ]
        }
      ]
    },
    {
      "cell_type": "code",
      "source": [
        "plt.figure(figsize=(10, 5))\n",
        "plt.plot(range(1, eval_episode_to_record + 1), evaluation_rewards, marker='o', linestyle='-')\n",
        "plt.xlabel(\"Episode\")\n",
        "plt.ylabel(\"Cumulative Reward\")\n",
        "plt.title(\"Evaluation Performance over 100 Episodes\")\n",
        "plt.grid(True)\n",
        "plt.show()\n",
        "\n",
        "# Also print the average reward\n",
        "avg_reward = np.mean(evaluation_rewards)\n",
        "print(f\"Average Reward over {eval_episode_to_record} evaluation episodes: {avg_reward:.2f}\")"
      ],
      "metadata": {
        "colab": {
          "base_uri": "https://localhost:8080/",
          "height": 504
        },
        "id": "NkyHbnvB9XoW",
        "outputId": "71f5aac4-a72d-4d17-8441-f4d9c1b2d8df"
      },
      "execution_count": 11,
      "outputs": [
        {
          "output_type": "display_data",
          "data": {
            "text/plain": [
              "<Figure size 1000x500 with 1 Axes>"
            ],
            "image/png": "[encoded data removed]"
          },
          "metadata": {}
        },
        {
          "output_type": "stream",
          "name": "stdout",
          "text": [
            "Average Reward over 100 evaluation episodes: 500.00\n"
          ]
        }
      ]
    },
    {
      "cell_type": "markdown",
      "source": [
        "Evaluation of video"
      ],
      "metadata": {
        "id": "TOTbB362gdNn"
      }
    },
    {
      "cell_type": "code",
      "source": [
        "from IPython.display import Video\n",
        "Video(\"./evaluation-episode-100.mp4\", embed=True)"
      ],
      "metadata": {
        "colab": {
          "base_uri": "https://localhost:8080/",
          "height": 172
        },
        "id": "tWzNrHKA9dvp",
        "outputId": "5621e708-426c-41dd-e88f-8c48212f1979"
      },
      "execution_count": 12,
      "outputs": [
        {
          "output_type": "execute_result",
          "data": {
            "text/plain": [
              "<IPython.core.display.Video object>"
            ],
            "text/html": [
              "<video controls  >\n",
              " <source src=\"data:None;base64,./evaluation-episode-100.mp4\" type=\"None\">\n",
              " Your browser does not support the video tag.\n",
              " </video>"
            ]
          },
          "metadata": {},
          "execution_count": 12
        }
      ]
    }
  ]
}